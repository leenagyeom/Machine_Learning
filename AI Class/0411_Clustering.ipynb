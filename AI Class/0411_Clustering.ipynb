{
 "cells": [
  {
   "cell_type": "markdown",
   "id": "b2314c8f",
   "metadata": {},
   "source": [
    "# Unsupervised Learning\n",
    "- Unsupervised Learning의 개념\n",
    "- Unsupervised Learning의 알고리즘\n",
    "- Unsupervised Learning의 평가 방법\n",
    "\n",
    "1. 비지도 학습\n",
    "2. Clustering\n",
    "3. k-Means Clustering\n",
    "4. Hierarchical Clustering\n",
    "5. 비지도 학습의 평가"
   ]
  },
  {
   "cell_type": "markdown",
   "id": "f8634de7",
   "metadata": {},
   "source": [
    "데이터의 패턴만 보고 군집을 분류하는 것이 비지도 학습이다.<br/>\n",
    "학습하지 않고 데이터의 패턴이나 모양을 보고 구분한다."
   ]
  },
  {
   "cell_type": "markdown",
   "id": "bbca6a47",
   "metadata": {},
   "source": [
    "# 1. 비지도 학습 (자율학습, Unsupervised Learning)\n",
    "- 기계학습의 일종으로 데이터가 어떻게 구성되었는 지 알아내는 문제의 범주\n",
    "- 이 방법은 지도학습(Supervised Learning) 혹은 강화학습 (Reinforcement Learning)과는 달리 입력값에 대한 목표치(정답)가 주어지지 않음.\n",
    "- 비지도 학습은 통계의 밀도추정 (Density Estimation)과 깊은 연관이 있음, 이러한 비지도 학습은 데이터의 주요 특징을 요약하고 설명할 수 있음.\n",
    "- 비지도 학습의 예 : 클러스터링 (Clustering), 독립 성분 분석 (ICA, Independent Component Analysis)"
   ]
  },
  {
   "cell_type": "markdown",
   "id": "560958a9",
   "metadata": {},
   "source": [
    "# 2. Clustering (군집)\n",
    "- 알고리즘으로 뭉쳐진 데이터 집합을 뽑아낸다. 사전에 학습된 데이터가 아니라 데이터들의 거리를 보고 판단한다.\n",
    "- 계층적 군집(Hierarchical clustering)과 Point assignment clustering 두가지 방법으로 나눌 수 있다.\n",
    "- 계층적 군집<br/>\n",
    "큰 하나의 클러스터로부터 시작해서 모든 클러스터가 정확히 하나의 원소를 가질 때 까지 쪼개는 방법 (top-down) <br/>\n",
    "각각의 점을 원소로 가지는 클러스터들로부터 전체를 포함하는 클러스터 하나를 만들때까지 반복적으로 두 개의 가까운 클러스터를 합치면서 진행하는<br/>\n",
    "Agglomerative(bottom-up) 방법으로 나뉜다."
   ]
  },
  {
   "cell_type": "markdown",
   "id": "3535b972",
   "metadata": {},
   "source": [
    "# 3. k-Means Clustering\n",
    "- 대표적인 클러스터링 알고리즘\n",
    "- 각 클러스터에 할당된 데이터 포인트의 평균 좌표를 이용해 중심점을 반복적으로 업데이트하면 클러스터를 형성해가는 알고리즘\n",
    "- k-Means 클러스터링 진행 단계<br/>1. 각 데이터 포인트에서 가장 가까운 중심점을 찾아 그 중심점에 해당되는 클러스터 할당<br/>2. 할당된 클러스터를 기반으로 새로운 중심점 계산, 이 때 중심점은 클러스터 내부 점들의 좌표의 산술 평균<br/>3. 각 클러스터의 할당이 바뀌지 않을 때까지 반복<br/>\n",
    "- 가장 큰 장점이자 단점 : 학습을 하지 않고 데이터만 넣어주면 쪼갠다. 그러다보니 엉뚱한 결과가 나올 수도 있다."
   ]
  },
  {
   "cell_type": "markdown",
   "id": "5a2d0178",
   "metadata": {},
   "source": [
    "## K-Means Clustering 점과 점 사이 거리 측정\n",
    "1. Manhattan Distance - 각 축에 대해 수평과 수직으로만 이동하는 방식<br/>\n",
    "<img src=\"./images/0411_4.png\" style=\"float:left\" width=600px>"
   ]
  },
  {
   "cell_type": "markdown",
   "id": "df94839d",
   "metadata": {},
   "source": [
    "2. Euclidean Distance - 점과 점 사이의 가장 짧은 거리를 계산하는 거리 측정방식<br/>\n",
    "<img src=\"./images/0411_5.png\" style=\"float:left\" width=600px><br/><br/>"
   ]
  },
  {
   "cell_type": "markdown",
   "id": "7ef3c9fd",
   "metadata": {},
   "source": [
    "from sklearn.cluster import KMeans<br/>\n",
    "kmeans - KMeans(n_clusters=3)<br/><br/>\n",
    "kmeans.fit(data)<br/><br/>\n",
    "cluster = kmeans.predict(data)"
   ]
  },
  {
   "cell_type": "code",
   "execution_count": 1,
   "id": "bc0a6ae5",
   "metadata": {},
   "outputs": [],
   "source": [
    "import pandas as pd\n",
    "import matplotlib.pyplot as plt"
   ]
  },
  {
   "cell_type": "code",
   "execution_count": 2,
   "id": "e5f32fab",
   "metadata": {},
   "outputs": [],
   "source": [
    "from sklearn.datasets import load_wine\n",
    "wine = load_wine()"
   ]
  },
  {
   "cell_type": "code",
   "execution_count": 3,
   "id": "cb805ff6",
   "metadata": {},
   "outputs": [
    {
     "name": "stdout",
     "output_type": "stream",
     "text": [
      ".. _wine_dataset:\n",
      "\n",
      "Wine recognition dataset\n",
      "------------------------\n",
      "\n",
      "**Data Set Characteristics:**\n",
      "\n",
      "    :Number of Instances: 178 (50 in each of three classes)\n",
      "    :Number of Attributes: 13 numeric, predictive attributes and the class\n",
      "    :Attribute Information:\n",
      " \t\t- Alcohol\n",
      " \t\t- Malic acid\n",
      " \t\t- Ash\n",
      "\t\t- Alcalinity of ash  \n",
      " \t\t- Magnesium\n",
      "\t\t- Total phenols\n",
      " \t\t- Flavanoids\n",
      " \t\t- Nonflavanoid phenols\n",
      " \t\t- Proanthocyanins\n",
      "\t\t- Color intensity\n",
      " \t\t- Hue\n",
      " \t\t- OD280/OD315 of diluted wines\n",
      " \t\t- Proline\n",
      "\n",
      "    - class:\n",
      "            - class_0\n",
      "            - class_1\n",
      "            - class_2\n",
      "\t\t\n",
      "    :Summary Statistics:\n",
      "    \n",
      "    ============================= ==== ===== ======= =====\n",
      "                                   Min   Max   Mean     SD\n",
      "    ============================= ==== ===== ======= =====\n",
      "    Alcohol:                      11.0  14.8    13.0   0.8\n",
      "    Malic Acid:                   0.74  5.80    2.34  1.12\n",
      "    Ash:                          1.36  3.23    2.36  0.27\n",
      "    Alcalinity of Ash:            10.6  30.0    19.5   3.3\n",
      "    Magnesium:                    70.0 162.0    99.7  14.3\n",
      "    Total Phenols:                0.98  3.88    2.29  0.63\n",
      "    Flavanoids:                   0.34  5.08    2.03  1.00\n",
      "    Nonflavanoid Phenols:         0.13  0.66    0.36  0.12\n",
      "    Proanthocyanins:              0.41  3.58    1.59  0.57\n",
      "    Colour Intensity:              1.3  13.0     5.1   2.3\n",
      "    Hue:                          0.48  1.71    0.96  0.23\n",
      "    OD280/OD315 of diluted wines: 1.27  4.00    2.61  0.71\n",
      "    Proline:                       278  1680     746   315\n",
      "    ============================= ==== ===== ======= =====\n",
      "\n",
      "    :Missing Attribute Values: None\n",
      "    :Class Distribution: class_0 (59), class_1 (71), class_2 (48)\n",
      "    :Creator: R.A. Fisher\n",
      "    :Donor: Michael Marshall (MARSHALL%PLU@io.arc.nasa.gov)\n",
      "    :Date: July, 1988\n",
      "\n",
      "This is a copy of UCI ML Wine recognition datasets.\n",
      "https://archive.ics.uci.edu/ml/machine-learning-databases/wine/wine.data\n",
      "\n",
      "The data is the results of a chemical analysis of wines grown in the same\n",
      "region in Italy by three different cultivators. There are thirteen different\n",
      "measurements taken for different constituents found in the three types of\n",
      "wine.\n",
      "\n",
      "Original Owners: \n",
      "\n",
      "Forina, M. et al, PARVUS - \n",
      "An Extendible Package for Data Exploration, Classification and Correlation. \n",
      "Institute of Pharmaceutical and Food Analysis and Technologies,\n",
      "Via Brigata Salerno, 16147 Genoa, Italy.\n",
      "\n",
      "Citation:\n",
      "\n",
      "Lichman, M. (2013). UCI Machine Learning Repository\n",
      "[https://archive.ics.uci.edu/ml]. Irvine, CA: University of California,\n",
      "School of Information and Computer Science. \n",
      "\n",
      ".. topic:: References\n",
      "\n",
      "  (1) S. Aeberhard, D. Coomans and O. de Vel, \n",
      "  Comparison of Classifiers in High Dimensional Settings, \n",
      "  Tech. Rep. no. 92-02, (1992), Dept. of Computer Science and Dept. of  \n",
      "  Mathematics and Statistics, James Cook University of North Queensland. \n",
      "  (Also submitted to Technometrics). \n",
      "\n",
      "  The data was used with many others for comparing various \n",
      "  classifiers. The classes are separable, though only RDA \n",
      "  has achieved 100% correct classification. \n",
      "  (RDA : 100%, QDA 99.4%, LDA 98.9%, 1NN 96.1% (z-transformed data)) \n",
      "  (All results using the leave-one-out technique) \n",
      "\n",
      "  (2) S. Aeberhard, D. Coomans and O. de Vel, \n",
      "  \"THE CLASSIFICATION PERFORMANCE OF RDA\" \n",
      "  Tech. Rep. no. 92-01, (1992), Dept. of Computer Science and Dept. of \n",
      "  Mathematics and Statistics, James Cook University of North Queensland. \n",
      "  (Also submitted to Journal of Chemometrics).\n",
      "\n"
     ]
    }
   ],
   "source": [
    "print(wine.DESCR) # scikit-learn의 모든 데이터에 DESCR로 설명을 볼 수 있다."
   ]
  },
  {
   "cell_type": "code",
   "execution_count": 4,
   "id": "d63cc955",
   "metadata": {},
   "outputs": [],
   "source": [
    "data = wine.data\n",
    "label = wine.target\n",
    "column = wine.feature_names"
   ]
  },
  {
   "cell_type": "code",
   "execution_count": 5,
   "id": "91aba694",
   "metadata": {},
   "outputs": [
    {
     "data": {
      "text/html": [
       "<div>\n",
       "<style scoped>\n",
       "    .dataframe tbody tr th:only-of-type {\n",
       "        vertical-align: middle;\n",
       "    }\n",
       "\n",
       "    .dataframe tbody tr th {\n",
       "        vertical-align: top;\n",
       "    }\n",
       "\n",
       "    .dataframe thead th {\n",
       "        text-align: right;\n",
       "    }\n",
       "</style>\n",
       "<table border=\"1\" class=\"dataframe\">\n",
       "  <thead>\n",
       "    <tr style=\"text-align: right;\">\n",
       "      <th></th>\n",
       "      <th>alcohol</th>\n",
       "      <th>malic_acid</th>\n",
       "      <th>ash</th>\n",
       "      <th>alcalinity_of_ash</th>\n",
       "      <th>magnesium</th>\n",
       "      <th>total_phenols</th>\n",
       "      <th>flavanoids</th>\n",
       "      <th>nonflavanoid_phenols</th>\n",
       "      <th>proanthocyanins</th>\n",
       "      <th>color_intensity</th>\n",
       "      <th>hue</th>\n",
       "      <th>od280/od315_of_diluted_wines</th>\n",
       "      <th>proline</th>\n",
       "    </tr>\n",
       "  </thead>\n",
       "  <tbody>\n",
       "    <tr>\n",
       "      <th>0</th>\n",
       "      <td>14.23</td>\n",
       "      <td>1.71</td>\n",
       "      <td>2.43</td>\n",
       "      <td>15.6</td>\n",
       "      <td>127.0</td>\n",
       "      <td>2.80</td>\n",
       "      <td>3.06</td>\n",
       "      <td>0.28</td>\n",
       "      <td>2.29</td>\n",
       "      <td>5.64</td>\n",
       "      <td>1.04</td>\n",
       "      <td>3.92</td>\n",
       "      <td>1065.0</td>\n",
       "    </tr>\n",
       "    <tr>\n",
       "      <th>1</th>\n",
       "      <td>13.20</td>\n",
       "      <td>1.78</td>\n",
       "      <td>2.14</td>\n",
       "      <td>11.2</td>\n",
       "      <td>100.0</td>\n",
       "      <td>2.65</td>\n",
       "      <td>2.76</td>\n",
       "      <td>0.26</td>\n",
       "      <td>1.28</td>\n",
       "      <td>4.38</td>\n",
       "      <td>1.05</td>\n",
       "      <td>3.40</td>\n",
       "      <td>1050.0</td>\n",
       "    </tr>\n",
       "    <tr>\n",
       "      <th>2</th>\n",
       "      <td>13.16</td>\n",
       "      <td>2.36</td>\n",
       "      <td>2.67</td>\n",
       "      <td>18.6</td>\n",
       "      <td>101.0</td>\n",
       "      <td>2.80</td>\n",
       "      <td>3.24</td>\n",
       "      <td>0.30</td>\n",
       "      <td>2.81</td>\n",
       "      <td>5.68</td>\n",
       "      <td>1.03</td>\n",
       "      <td>3.17</td>\n",
       "      <td>1185.0</td>\n",
       "    </tr>\n",
       "    <tr>\n",
       "      <th>3</th>\n",
       "      <td>14.37</td>\n",
       "      <td>1.95</td>\n",
       "      <td>2.50</td>\n",
       "      <td>16.8</td>\n",
       "      <td>113.0</td>\n",
       "      <td>3.85</td>\n",
       "      <td>3.49</td>\n",
       "      <td>0.24</td>\n",
       "      <td>2.18</td>\n",
       "      <td>7.80</td>\n",
       "      <td>0.86</td>\n",
       "      <td>3.45</td>\n",
       "      <td>1480.0</td>\n",
       "    </tr>\n",
       "    <tr>\n",
       "      <th>4</th>\n",
       "      <td>13.24</td>\n",
       "      <td>2.59</td>\n",
       "      <td>2.87</td>\n",
       "      <td>21.0</td>\n",
       "      <td>118.0</td>\n",
       "      <td>2.80</td>\n",
       "      <td>2.69</td>\n",
       "      <td>0.39</td>\n",
       "      <td>1.82</td>\n",
       "      <td>4.32</td>\n",
       "      <td>1.04</td>\n",
       "      <td>2.93</td>\n",
       "      <td>735.0</td>\n",
       "    </tr>\n",
       "  </tbody>\n",
       "</table>\n",
       "</div>"
      ],
      "text/plain": [
       "   alcohol  malic_acid   ash  alcalinity_of_ash  magnesium  total_phenols  \\\n",
       "0    14.23        1.71  2.43               15.6      127.0           2.80   \n",
       "1    13.20        1.78  2.14               11.2      100.0           2.65   \n",
       "2    13.16        2.36  2.67               18.6      101.0           2.80   \n",
       "3    14.37        1.95  2.50               16.8      113.0           3.85   \n",
       "4    13.24        2.59  2.87               21.0      118.0           2.80   \n",
       "\n",
       "   flavanoids  nonflavanoid_phenols  proanthocyanins  color_intensity   hue  \\\n",
       "0        3.06                  0.28             2.29             5.64  1.04   \n",
       "1        2.76                  0.26             1.28             4.38  1.05   \n",
       "2        3.24                  0.30             2.81             5.68  1.03   \n",
       "3        3.49                  0.24             2.18             7.80  0.86   \n",
       "4        2.69                  0.39             1.82             4.32  1.04   \n",
       "\n",
       "   od280/od315_of_diluted_wines  proline  \n",
       "0                          3.92   1065.0  \n",
       "1                          3.40   1050.0  \n",
       "2                          3.17   1185.0  \n",
       "3                          3.45   1480.0  \n",
       "4                          2.93    735.0  "
      ]
     },
     "execution_count": 5,
     "metadata": {},
     "output_type": "execute_result"
    }
   ],
   "source": [
    "data = pd.DataFrame(data, columns = column)\n",
    "data.head()"
   ]
  },
  {
   "cell_type": "code",
   "execution_count": 6,
   "id": "7fe17260",
   "metadata": {},
   "outputs": [
    {
     "data": {
      "text/plain": [
       "(178, 13)"
      ]
     },
     "execution_count": 6,
     "metadata": {},
     "output_type": "execute_result"
    }
   ],
   "source": [
    "data.shape # 와인데이터의 모양"
   ]
  },
  {
   "cell_type": "markdown",
   "id": "7ce291b7",
   "metadata": {},
   "source": [
    "각 열의 숫자 편차가 크기 때문에 MinMaxScaling을 먼저 해준다."
   ]
  },
  {
   "cell_type": "code",
   "execution_count": 7,
   "id": "508b3a14",
   "metadata": {},
   "outputs": [],
   "source": [
    "from sklearn.preprocessing import MinMaxScaler\n",
    "scaler = MinMaxScaler()\n",
    "data = scaler.fit_transform(data)"
   ]
  },
  {
   "cell_type": "code",
   "execution_count": 8,
   "id": "4ecaebb6",
   "metadata": {},
   "outputs": [
    {
     "data": {
      "text/plain": [
       "array([[0.84210526, 0.1916996 , 0.57219251, ..., 0.45528455, 0.97069597,\n",
       "        0.56134094],\n",
       "       [0.57105263, 0.2055336 , 0.4171123 , ..., 0.46341463, 0.78021978,\n",
       "        0.55064194],\n",
       "       [0.56052632, 0.3201581 , 0.70053476, ..., 0.44715447, 0.6959707 ,\n",
       "        0.64693295],\n",
       "       ...,\n",
       "       [0.58947368, 0.69960474, 0.48128342, ..., 0.08943089, 0.10622711,\n",
       "        0.39728959],\n",
       "       [0.56315789, 0.36561265, 0.54010695, ..., 0.09756098, 0.12820513,\n",
       "        0.40085592],\n",
       "       [0.81578947, 0.66403162, 0.73796791, ..., 0.10569106, 0.12087912,\n",
       "        0.20114123]])"
      ]
     },
     "execution_count": 8,
     "metadata": {},
     "output_type": "execute_result"
    }
   ],
   "source": [
    "data"
   ]
  },
  {
   "cell_type": "markdown",
   "id": "88acffd7",
   "metadata": {},
   "source": [
    "숫자의 크기에 대한 편차를 맞춰줬기 때문에 데이터를 오용할 염려가 사라짐. <br/>\n",
    "PCA 알고리즘을 사용해서 2차원으로 차원을 낮춰줌."
   ]
  },
  {
   "cell_type": "code",
   "execution_count": 9,
   "id": "3eb7ba0a",
   "metadata": {},
   "outputs": [],
   "source": [
    "from sklearn.decomposition import PCA\n",
    "pca = PCA(n_components = 2) # 2차원으로 축소\n",
    "data = pca.fit_transform(data)"
   ]
  },
  {
   "cell_type": "code",
   "execution_count": 10,
   "id": "1dcc30d6",
   "metadata": {},
   "outputs": [
    {
     "data": {
      "text/plain": [
       "(178, 2)"
      ]
     },
     "execution_count": 10,
     "metadata": {},
     "output_type": "execute_result"
    }
   ],
   "source": [
    "data.shape"
   ]
  },
  {
   "cell_type": "markdown",
   "id": "ad58e32a",
   "metadata": {},
   "source": [
    "데이터 확인 후 MinMaxScaler로 크기 맞춰주고, 차원을 낮춘 상황.\n",
    "n_clus"
   ]
  },
  {
   "cell_type": "code",
   "execution_count": 11,
   "id": "8e572b28",
   "metadata": {},
   "outputs": [
    {
     "data": {
      "text/plain": [
       "KMeans(n_clusters=3)"
      ]
     },
     "execution_count": 11,
     "metadata": {},
     "output_type": "execute_result"
    }
   ],
   "source": [
    "from sklearn.cluster import KMeans\n",
    "kmeans = KMeans(n_clusters=3) #군집의 갯수까지는 몰라서 군집의 갯수를 넣으면 최대한 맞춰 준다.\n",
    "kmeans.fit(data) # PCA로 차원축소한 데이터를 fit 해본다."
   ]
  },
  {
   "cell_type": "code",
   "execution_count": 12,
   "id": "32b5fff5",
   "metadata": {},
   "outputs": [
    {
     "data": {
      "text/plain": [
       "array([0, 0, 0, 0, 0, 0, 0, 0, 0, 0, 0, 0, 0, 0, 0, 0, 0, 0, 0, 0, 0, 0,\n",
       "       0, 0, 0, 0, 0, 0, 0, 0, 0, 0, 0, 0, 0, 0, 0, 0, 0, 0, 0, 0, 0, 0,\n",
       "       0, 0, 0, 0, 0, 0, 0, 0, 0, 0, 0, 0, 0, 0, 0, 2, 2, 1, 2, 2, 2, 2,\n",
       "       0, 2, 2, 2, 2, 0, 2, 0, 0, 2, 2, 2, 2, 2, 2, 2, 2, 1, 2, 2, 2, 2,\n",
       "       2, 2, 2, 2, 2, 2, 2, 0, 2, 2, 0, 2, 2, 2, 2, 2, 2, 2, 2, 2, 2, 2,\n",
       "       2, 2, 2, 2, 2, 2, 2, 2, 1, 2, 2, 2, 2, 2, 2, 2, 2, 2, 2, 2, 1, 1,\n",
       "       1, 1, 1, 1, 1, 1, 1, 1, 1, 1, 1, 1, 1, 1, 1, 1, 1, 1, 1, 1, 1, 1,\n",
       "       1, 1, 1, 1, 1, 1, 1, 1, 1, 1, 1, 1, 1, 1, 1, 1, 1, 1, 1, 1, 1, 1,\n",
       "       1, 1])"
      ]
     },
     "execution_count": 12,
     "metadata": {},
     "output_type": "execute_result"
    }
   ],
   "source": [
    "cluster = kmeans.predict(data)\n",
    "cluster"
   ]
  },
  {
   "cell_type": "markdown",
   "id": "c79791ef",
   "metadata": {},
   "source": [
    "데이터를 주고 예측한 결과가 cluster에 저장된다."
   ]
  },
  {
   "cell_type": "code",
   "execution_count": 14,
   "id": "c0cb2019",
   "metadata": {
    "scrolled": true
   },
   "outputs": [
    {
     "data": {
      "text/plain": [
       "<matplotlib.collections.PathCollection at 0x2a2068cc430>"
      ]
     },
     "execution_count": 14,
     "metadata": {},
     "output_type": "execute_result"
    },
    {
     "data": {
      "image/png": "[encoded data removed]",
      "text/plain": [
       "<Figure size 432x288 with 1 Axes>"
      ]
     },
     "metadata": {
      "needs_background": "light"
     },
     "output_type": "display_data"
    }
   ],
   "source": [
    "plt.scatter(data[:, 0], data[:,1], c=cluster, linewidth=1, edgecolors=\"k\")\n",
    "# 군집이 형성된 것을 확인할 수 있다."
   ]
  },
  {
   "cell_type": "markdown",
   "id": "6c0e0575",
   "metadata": {},
   "source": [
    "# Hierarchical Clustering\n",
    "- 좀 더 시각적, 거리와 유사도를 기반으로 클러스터를 형성하는 알고리즘<br/>\n",
    "- 클러스터 진행 단계<br/>1. 각 데이터 포인터를 클러스터로 할당 (n개의 클러스터)<br/>2. 가까운 클러스터끼리 병합<br/>3. 1개의 클러스터가 될 때까지 반복"
   ]
  },
  {
   "cell_type": "markdown",
   "id": "825fa936",
   "metadata": {},
   "source": [
    "가까이에 있는 데이터끼리 뭉치다보면 자연스럽게 클러스터가 생성된다.<br/>\n",
    "위에서 계층적으로 내려갈 수 있다."
   ]
  },
  {
   "cell_type": "markdown",
   "id": "c09b7052",
   "metadata": {},
   "source": [
    "- 어떻게 가장 가까운 클러스터를 찾을 수 있을까?<br/>1. Single Linkage - 두 클러스터 내의 가장 가까운 점 사이의 거리 <br/>2. Complete Linkage - 두 클러스터 내의 가장 먼 점 사이의 거리<br/>3. Average Linkage - 두 클러스터 내의 모든 점 사이의 평균 거리"
   ]
  },
  {
   "cell_type": "markdown",
   "id": "7da0cc8e",
   "metadata": {},
   "source": [
    "from sklearn.cluster import AgglomerativeClustering<br/>\n",
    "single_clustering = AgglomerativeClustering(linkage='single', n_clusters=3)<br/><br/>\n",
    "single_clustering.fit(data)<br/><br/>\n",
    "single_cluster = single_clustering.labels"
   ]
  },
  {
   "cell_type": "markdown",
   "id": "af0ba001",
   "metadata": {},
   "source": [
    "<img src=\"./images/0411_6.png\" style=\"float:left\" width=600px>"
   ]
  }
 ],
 "metadata": {
  "kernelspec": {
   "display_name": "Python 3 (ipykernel)",
   "language": "python",
   "name": "python3"
  },
  "language_info": {
   "codemirror_mode": {
    "name": "ipython",
    "version": 3
   },
   "file_extension": ".py",
   "mimetype": "text/x-python",
   "name": "python",
   "nbconvert_exporter": "python",
   "pygments_lexer": "ipython3",
   "version": "3.9.7"
  }
 },
 "nbformat": 4,
 "nbformat_minor": 5
}
