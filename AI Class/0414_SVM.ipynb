{
 "cells": [
  {
   "cell_type": "code",
   "execution_count": 1,
   "id": "adad96f3",
   "metadata": {},
   "outputs": [],
   "source": [
    "import mglearn\n",
    "import numpy as np\n",
    "import pandas as pd\n",
    "from sklearn.model_selection import train_test_split\n",
    "import matplotlib.pyplot as plt"
   ]
  },
  {
   "cell_type": "code",
   "execution_count": 2,
   "id": "1d32a009",
   "metadata": {},
   "outputs": [],
   "source": [
    "from sklearn.datasets import load_breast_cancer\n",
    "cancer = load_breast_cancer()\n",
    "from sklearn.datasets import make_blobs"
   ]
  },
  {
   "cell_type": "code",
   "execution_count": 3,
   "id": "6310e9e7",
   "metadata": {},
   "outputs": [],
   "source": [
    "from sklearn.ensemble import GradientBoostingClassifier\n",
    "\n",
    "X_train, X_test, y_train, y_test = train_test_split(cancer.data, cancer.target, random_state=0)"
   ]
  },
  {
   "cell_type": "code",
   "execution_count": 4,
   "id": "024b4a99",
   "metadata": {},
   "outputs": [
    {
     "data": {
      "text/plain": [
       "GradientBoostingClassifier(random_state=0)"
      ]
     },
     "execution_count": 4,
     "metadata": {},
     "output_type": "execute_result"
    }
   ],
   "source": [
    "gbrt = GradientBoostingClassifier(random_state=0)\n",
    "gbrt.fit(X_train, y_train)"
   ]
  },
  {
   "cell_type": "code",
   "execution_count": 5,
   "id": "0a92292d",
   "metadata": {},
   "outputs": [
    {
     "name": "stdout",
     "output_type": "stream",
     "text": [
      "1.0\n",
      "0.965034965034965\n"
     ]
    }
   ],
   "source": [
    "print(gbrt.score(X_train, y_train))\n",
    "print(gbrt.score(X_test, y_test))"
   ]
  },
  {
   "cell_type": "code",
   "execution_count": 6,
   "id": "767ddc61",
   "metadata": {},
   "outputs": [
    {
     "name": "stdout",
     "output_type": "stream",
     "text": [
      "0.9906103286384976\n",
      "0.972027972027972\n"
     ]
    }
   ],
   "source": [
    "gbrt = GradientBoostingClassifier(random_state=0, max_depth=1)\n",
    "gbrt.fit(X_train, y_train)\n",
    "\n",
    "print(gbrt.score(X_train, y_train))\n",
    "print(gbrt.score(X_test, y_test))\n",
    "\n",
    "# depth를 깊게 안 내려가도 정확도가 높게 나온다.\n",
    "# max_depth = 1 이면 한 단계에서 선택되는데, 적은 depth에서 정확도를 올리면 장점은 적은 메모리로 동작된다.\n",
    "# 지금은 테스트를 위해 1단계만 진행했는데, 보통 gradientboosting은 4~5단계정도면 충분한데 5단계 정도에서도 학습이 과해지면 단계를 낮춰야 한다."
   ]
  },
  {
   "cell_type": "code",
   "execution_count": 7,
   "id": "6b1aea07",
   "metadata": {},
   "outputs": [
    {
     "name": "stdout",
     "output_type": "stream",
     "text": [
      "0.9882629107981221\n",
      "0.965034965034965\n"
     ]
    }
   ],
   "source": [
    "gbrt = GradientBoostingClassifier(random_state=0, learning_rate=0.01)\n",
    "gbrt.fit(X_train, y_train)\n",
    "\n",
    "print(gbrt.score(X_train, y_train))\n",
    "print(gbrt.score(X_test, y_test))\n",
    "\n",
    "# 학습정확도와 테스트정확도가 떨어졌다.\n",
    "# learning_rate로 학습을 위해 얼마나 복잡한 모델을 만들지에 대한 복잡도를 제어할 수 있다."
   ]
  },
  {
   "cell_type": "code",
   "execution_count": 8,
   "id": "7634ce38",
   "metadata": {},
   "outputs": [
    {
     "name": "stdout",
     "output_type": "stream",
     "text": [
      "1.0\n",
      "0.965034965034965\n"
     ]
    }
   ],
   "source": [
    "gbrt = GradientBoostingClassifier(random_state=0, learning_rate=0.1)\n",
    "gbrt.fit(X_train, y_train)\n",
    "\n",
    "print(gbrt.score(X_train, y_train))\n",
    "print(gbrt.score(X_test, y_test))\n",
    "\n",
    "# learning_rate를 0.1로 줬다. learning_rate는 학습량에 자체에 대한 제어이고 max_depth는 세세하게 깊이에 대해 제어를 줄 수 있다.\n",
    "# 높은 확률의 accuracy를 갖는 모델을 만드는 게 목표다.\n",
    "\n",
    "# GradientBoosting은 learning_rate와 max_depth를 제어할 수 있는 게 가장 큰 장점이다.\n",
    "# 보정하는 알고리즘이 있어서 depth를 작게 써도 원하는 결과를 빨리 낼 수 있다. 속도도 빠르고 메모리도 적게쓰는 장점이 있다."
   ]
  },
  {
   "cell_type": "code",
   "execution_count": 9,
   "id": "dd0ea05f",
   "metadata": {},
   "outputs": [],
   "source": [
    "X, y = make_blobs(centers=4, random_state=8)"
   ]
  },
  {
   "cell_type": "code",
   "execution_count": 10,
   "id": "084d0c06",
   "metadata": {
    "scrolled": true
   },
   "outputs": [
    {
     "data": {
      "text/plain": [
       "array([[ -1.72161036,  -1.48033142],\n",
       "       [ -3.6573384 ,  -9.5482383 ],\n",
       "       [  7.0778163 ,   0.99508772],\n",
       "       [ -1.36579859,  -0.3148625 ],\n",
       "       [ -2.66521206,  -3.12591651],\n",
       "       [  7.63027116,   8.69797933],\n",
       "       [ -5.27144331, -12.11880698],\n",
       "       [  7.91767139,   1.41547387],\n",
       "       [ -1.41284184,   0.11296348],\n",
       "       [ -1.01519039,  -1.03318203],\n",
       "       [  8.2634157 ,  10.34723435],\n",
       "       [  6.96767867,   8.9622523 ],\n",
       "       [ -0.84779249,  -2.12185612],\n",
       "       [  7.48006237,   2.49392925],\n",
       "       [  7.71454967,   1.8420701 ],\n",
       "       [ -7.74064658,  -8.61800744],\n",
       "       [ -5.41087235,  -8.7194128 ],\n",
       "       [ -2.27579204,  -2.89699926],\n",
       "       [ -1.25668449,  -2.33416219],\n",
       "       [  7.61227907,   9.4463627 ],\n",
       "       [  8.81545663,   8.76386046],\n",
       "       [  7.1895354 ,   0.43090048],\n",
       "       [  7.40292703,   9.16217702],\n",
       "       [  5.17209648,  11.78064756],\n",
       "       [ -2.10476115,  -1.57846672],\n",
       "       [  6.5342397 ,   9.45532341],\n",
       "       [  7.59635095,   8.0197955 ],\n",
       "       [ -0.6560501 ,   0.68997013],\n",
       "       [ -4.86090778, -10.77386053],\n",
       "       [  8.90864428,   0.97764968],\n",
       "       [  8.09770696,  -0.58369965],\n",
       "       [ -0.79757091,  -2.88641638],\n",
       "       [  9.92897802,   1.76719511],\n",
       "       [ -1.36106796,  -2.02701586],\n",
       "       [  5.5987887 ,   7.59170022],\n",
       "       [ -4.98457333,  -9.51656559],\n",
       "       [ -0.57094074,  -0.60647802],\n",
       "       [  6.28516091,  11.28717687],\n",
       "       [  7.46833627,   3.10336163],\n",
       "       [ -5.54704895,  -9.27237881],\n",
       "       [  7.71891403,   0.99191322],\n",
       "       [ -0.35871708,  -2.2023075 ],\n",
       "       [ -3.71313291,  -9.99476306],\n",
       "       [ -5.73423505, -11.3285597 ],\n",
       "       [  7.29433984,   9.79486468],\n",
       "       [ -5.91698308, -11.16202708],\n",
       "       [  8.23775366,   0.92449253],\n",
       "       [  8.91111219,   9.14933265],\n",
       "       [  7.31164869,   0.14826616],\n",
       "       [  7.49954   ,   1.94754445],\n",
       "       [  7.15741276,  -1.26863071],\n",
       "       [ -5.24568764,  -9.81840408],\n",
       "       [  7.40565933,   8.8292448 ],\n",
       "       [  8.32813617,   9.14002426],\n",
       "       [ -0.05919026,  -2.78055085],\n",
       "       [ -5.8559969 ,  -9.94359106],\n",
       "       [ -5.9232326 ,  -8.52984815],\n",
       "       [ -6.65506667, -10.44075032],\n",
       "       [  7.49985237,   9.55274284],\n",
       "       [ -2.04751119,  -0.43974475],\n",
       "       [ -3.57485395,  -1.1540622 ],\n",
       "       [ -5.89890454, -10.49471334],\n",
       "       [  9.85640178,   0.47025724],\n",
       "       [ -6.78464252,  -8.8230966 ],\n",
       "       [  6.34526126,   8.70677779],\n",
       "       [  6.77299778,   1.54735986],\n",
       "       [ -1.45137298,  -4.38745523],\n",
       "       [  7.88011867,  -0.71455284],\n",
       "       [  9.19642422,  11.57536954],\n",
       "       [  7.94310647,   8.20622208],\n",
       "       [  6.57242965,  -1.0261371 ],\n",
       "       [ -6.87196564,  -8.63515384],\n",
       "       [  7.31294296,   9.92166331],\n",
       "       [  5.19332032,   0.18104177],\n",
       "       [  7.09022949,   8.57919798],\n",
       "       [  9.17061801,  10.37690696],\n",
       "       [ -1.34457765,  -1.18271017],\n",
       "       [ -5.59306958, -11.07739303],\n",
       "       [ -2.76538887,  -1.94334158],\n",
       "       [  7.38527197,  -0.3043462 ],\n",
       "       [ -6.55585067,  -9.3477824 ],\n",
       "       [  5.82259795,   8.88727231],\n",
       "       [ -0.13342473,  -0.97686927],\n",
       "       [ -6.25582944, -10.29490478],\n",
       "       [ -0.77886564,  -1.29531228],\n",
       "       [ -5.66388829,  -9.61389782],\n",
       "       [  4.33366829,  10.51034676],\n",
       "       [ -7.18598198,  -9.36698274],\n",
       "       [ -3.91937544,  -8.8447732 ],\n",
       "       [ -3.35967956,  -2.27994112],\n",
       "       [  8.937858  ,   1.31407958],\n",
       "       [  8.00405631,  10.53695374],\n",
       "       [ -1.96692264,  -2.71744313],\n",
       "       [ -4.00405937,  -7.24066707],\n",
       "       [ -5.52677154, -11.52183918],\n",
       "       [  7.49348552,   0.8325929 ],\n",
       "       [  7.74040382,  -0.33504676],\n",
       "       [  0.54431911,  -3.22786507],\n",
       "       [  7.81296089,  -0.53415178],\n",
       "       [  7.53581859,   0.61774872]])"
      ]
     },
     "execution_count": 10,
     "metadata": {},
     "output_type": "execute_result"
    }
   ],
   "source": [
    "X"
   ]
  },
  {
   "cell_type": "code",
   "execution_count": 11,
   "id": "9385fc83",
   "metadata": {},
   "outputs": [
    {
     "data": {
      "text/plain": [
       "array([3, 2, 1, 3, 3, 0, 2, 1, 3, 3, 0, 0, 3, 1, 1, 2, 2, 3, 3, 0, 0, 1,\n",
       "       0, 0, 3, 0, 0, 3, 2, 1, 1, 3, 1, 3, 0, 2, 3, 0, 1, 2, 1, 3, 2, 2,\n",
       "       0, 2, 1, 0, 1, 1, 1, 2, 0, 0, 3, 2, 2, 2, 0, 3, 3, 2, 1, 2, 0, 1,\n",
       "       3, 1, 0, 0, 1, 2, 0, 1, 0, 0, 3, 2, 3, 1, 2, 0, 3, 2, 3, 2, 0, 2,\n",
       "       2, 3, 1, 0, 3, 2, 2, 1, 1, 3, 1, 1])"
      ]
     },
     "execution_count": 11,
     "metadata": {},
     "output_type": "execute_result"
    }
   ],
   "source": [
    "y\n",
    "# 0, 1, 2, 3 으로 총 4개의 집합이 나온다."
   ]
  },
  {
   "cell_type": "code",
   "execution_count": 12,
   "id": "e7ee7909",
   "metadata": {},
   "outputs": [
    {
     "data": {
      "text/plain": [
       "Text(0, 0.5, 'feature 1')"
      ]
     },
     "execution_count": 12,
     "metadata": {},
     "output_type": "execute_result"
    },
    {
     "data": {
      "image/png": "[encoded data removed]",
      "text/plain": [
       "<Figure size 432x288 with 1 Axes>"
      ]
     },
     "metadata": {
      "needs_background": "light"
     },
     "output_type": "display_data"
    }
   ],
   "source": [
    "mglearn.discrete_scatter(X[:, 0], X[:, 1], y)\n",
    "plt.xlabel('feature 0')\n",
    "plt.ylabel('feature 1')\n",
    "\n",
    "# 지금은 4개의 그룹으로 나오는데 2개의 그룹으로 만들고 싶다.\n",
    "# 어떻게 합치면 될까? 0, 2 짝수로 하나, 1, 3 홀수로 하나를 만든다."
   ]
  },
  {
   "cell_type": "code",
   "execution_count": 13,
   "id": "fb2575ea",
   "metadata": {},
   "outputs": [
    {
     "data": {
      "text/plain": [
       "Text(0, 0.5, 'feature 1')"
      ]
     },
     "execution_count": 13,
     "metadata": {},
     "output_type": "execute_result"
    },
    {
     "data": {
      "image/png": "[encoded data removed]",
      "text/plain": [
       "<Figure size 432x288 with 1 Axes>"
      ]
     },
     "metadata": {
      "needs_background": "light"
     },
     "output_type": "display_data"
    }
   ],
   "source": [
    "# 4개의 클래스를 2로 나눠서 두개의 그룹으로 만든다.\n",
    "\n",
    "y = y % 2\n",
    "mglearn.discrete_scatter(X[:, 0], X[:, 1], y)\n",
    "plt.xlabel('feature 0')\n",
    "plt.ylabel('feature 1')"
   ]
  },
  {
   "cell_type": "markdown",
   "id": "bd4966fd",
   "metadata": {},
   "source": [
    "# SVM\n",
    "Support Vector Machine<br/>\n",
    "사이킷런으로 접근하는 마지막 알고리즘<br/>\n",
    "공식문서에 따르면 '무한 차원 공간에서 초평면 또는 초평면 세트를 구성한다' 라고 되어있다."
   ]
  },
  {
   "cell_type": "markdown",
   "id": "40e1420f",
   "metadata": {},
   "source": [
    "<img src=\"./images/0414_1.png\" width=400px style=\"float:left\">"
   ]
  },
  {
   "cell_type": "markdown",
   "id": "89ad74db",
   "metadata": {},
   "source": [
    "A 그룹과 B 그룹을 기준선인 Separating Hyperplane으로 나눌 때 두 클래스 사이의 공간 자체를 마진이라 한다.<br/>\n",
    "마진 공간자체를 Support Vector 라고 부른다.<br/>\n",
    "공간을 타이트하게 관리하고 싶다는 것은 마진을 좁히고 싶다는 것이다.<br/>\n",
    "매개변수 C 값을 어떻게 주냐에 따라 마진의 넓이가 결정된다.<br/>\n",
    "\n",
    "중요한 개념 : 양 쪽 그룹으로 나누는 기준선, 마진, 매개변수 C 값"
   ]
  },
  {
   "cell_type": "markdown",
   "id": "91b8d3cf",
   "metadata": {},
   "source": [
    "<img src=\"./images/0414_2.png\" width=400px style=\"float:left\">"
   ]
  },
  {
   "cell_type": "markdown",
   "id": "d2cf6748",
   "metadata": {},
   "source": [
    "2차원이 아닌 3차원으로 보는 이유?<br/>\n",
    "우리가 만든 결과는 2차원에서는 예쁘게 자르려해도 예쁘게 잘라지지 않는다.<br/>\n",
    "이럴 때 3차원으로 만들어서 자른다.<br/>"
   ]
  },
  {
   "cell_type": "code",
   "execution_count": 14,
   "id": "7fe1aa09",
   "metadata": {},
   "outputs": [
    {
     "name": "stderr",
     "output_type": "stream",
     "text": [
      "C:\\Users\\Nagyeom\\AppData\\Local\\Temp/ipykernel_16064/3057223959.py:7: MatplotlibDeprecationWarning: Axes3D(fig) adding itself to the figure is deprecated since 3.4. Pass the keyword argument auto_add_to_figure=False and use fig.add_axes(ax) to suppress this warning. The default value of auto_add_to_figure will change to False in mpl3.5 and True values will no longer work in 3.6.  This is consistent with other Axes classes.\n",
      "  ax = Axes3D(figure, elev=-152, azim=-26)\n"
     ]
    },
    {
     "data": {
      "text/plain": [
       "<mpl_toolkits.mplot3d.art3d.Path3DCollection at 0x1d361a5fa00>"
      ]
     },
     "execution_count": 14,
     "metadata": {},
     "output_type": "execute_result"
    },
    {
     "data": {
      "image/png": "[encoded data removed]",
      "text/plain": [
       "<Figure size 432x288 with 1 Axes>"
      ]
     },
     "metadata": {
      "needs_background": "light"
     },
     "output_type": "display_data"
    }
   ],
   "source": [
    "# 두 번째 특성을 제곱하여 추가합니다\n",
    "X_new = np.hstack([X, X[:, 1:] ** 2])\n",
    "from mpl_toolkits.mplot3d import Axes3D, axes3d\n",
    "figure = plt.figure()\n",
    "\n",
    "# 3차원 그래프\n",
    "ax = Axes3D(figure, elev=-152, azim=-26)\n",
    "\n",
    "# y == 0 인 포인트를 먼저 그리고 그 다음 y == 1 인 포인트를 그립니다\n",
    "mask = y == 0\n",
    "ax.scatter(X_new[mask, 0], X_new[mask, 1], X_new[mask, 2], c='b',\n",
    "cmap=mglearn.cm2, s=60, edgecolor='k')\n",
    "ax.scatter(X_new[~mask, 0], X_new[~mask, 1], X_new[~mask, 2], c='r', marker='^',\n",
    "cmap=mglearn.cm2, s=60, edgecolor='k')"
   ]
  },
  {
   "cell_type": "markdown",
   "id": "f6ae036c",
   "metadata": {},
   "source": [
    "2D에서 해결하지 못해서 차원을 하나 더 올려서 3차원에서 해결한다.<br/>\n",
    "3차원으로 가면 윗면과 아랫면인 '면'으로 가르기 시작한다.<br/>\n",
    "3차원까지는 그릴 수 있지만, 그 이상으로는 그릴 수 없다. 하지만 그 이상의 차원도 존재한다. 3, 4, 5 ... 256차원 등<br/>\n",
    "\n",
    "즉, N차원으로 올리면 N-1 갯수의 면만큼 자르면 된다.<br/>\n",
    "평면을 그려서 해결할 수 있는데 이 평면이 어디까지 넓어질 지 모르기 때문에 초평면이라고 한다.<br/>\n",
    "SVM은 초평면을 그려서 해결하는 알고리즘이라고 생각하면 된다."
   ]
  },
  {
   "cell_type": "markdown",
   "id": "d215a770",
   "metadata": {},
   "source": [
    "# SVM 코드로 구현"
   ]
  },
  {
   "cell_type": "code",
   "execution_count": 15,
   "id": "691ef2b0",
   "metadata": {},
   "outputs": [
    {
     "data": {
      "text/plain": [
       "SVC()"
      ]
     },
     "execution_count": 15,
     "metadata": {},
     "output_type": "execute_result"
    }
   ],
   "source": [
    "X_train, X_test, y_train, y_test = train_test_split(cancer.data,\n",
    "                                                    cancer.target,\n",
    "                                                    random_state = 0)\n",
    "from sklearn.svm import SVC\n",
    "svc = SVC()\n",
    "svc.fit(X_train, y_train) # 훈련"
   ]
  },
  {
   "cell_type": "code",
   "execution_count": 16,
   "id": "99a5dae3",
   "metadata": {},
   "outputs": [
    {
     "name": "stdout",
     "output_type": "stream",
     "text": [
      "0.903755868544601\n",
      "0.9370629370629371\n"
     ]
    }
   ],
   "source": [
    "#정확도 분석\n",
    "print(svc.score(X_train, y_train))\n",
    "print(svc.score(X_test, y_test))"
   ]
  },
  {
   "cell_type": "markdown",
   "id": "7327b3f8",
   "metadata": {},
   "source": [
    "전체를 3차원으로 그리고 그 중 일부로 학습을 했을 때 모델이 초평면을 그렸다.<br/>\n",
    "테스트 데이터를 넣어서 분석했더니 초평면에 의해 93%가 정확하게 구별되었다는 결과가 나온 것이다.<br/>\n",
    "\n",
    "SVC는 데이터가 정확하게 구별이 될 정도로 군집이 잘 되어있으면 높은 정확도를 얻을 수 있다.<br/>\n",
    "오히려 데이터가 지저분하게 놓여있으면 트리계열 알고리즘을 쓰는 게 좋다."
   ]
  },
  {
   "cell_type": "markdown",
   "id": "467dfaf7",
   "metadata": {},
   "source": [
    "Regression, Tree, SVM 계열 중 알고리즘을 놓고 결정하는 게 1차적인 문제다.<br/>\n",
    "regression은 풀수 없는 문제들이 있다.<br/>\n",
    "트리계열은 학습되어있는 범위안에서만 동작한다.<br/>\n",
    "regression과 트리계열로 해결되지 않으면 차원을 높여서 SVM으로 해결할 수 있다.<br/>"
   ]
  }
 ],
 "metadata": {
  "kernelspec": {
   "display_name": "Python 3 (ipykernel)",
   "language": "python",
   "name": "python3"
  },
  "language_info": {
   "codemirror_mode": {
    "name": "ipython",
    "version": 3
   },
   "file_extension": ".py",
   "mimetype": "text/x-python",
   "name": "python",
   "nbconvert_exporter": "python",
   "pygments_lexer": "ipython3",
   "version": "3.9.7"
  }
 },
 "nbformat": 4,
 "nbformat_minor": 5
}
