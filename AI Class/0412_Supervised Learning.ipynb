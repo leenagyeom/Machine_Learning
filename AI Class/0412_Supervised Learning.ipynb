{
 "cells": [
  {
   "cell_type": "code",
   "execution_count": 1,
   "id": "62089e7c",
   "metadata": {},
   "outputs": [],
   "source": [
    "import numpy as np\n",
    "import pandas as pd\n",
    "import matplotlib.pyplot as plt"
   ]
  },
  {
   "cell_type": "markdown",
   "id": "83f39f96",
   "metadata": {},
   "source": [
    "!pip install mglearn\n",
    "\n",
    "데이터를 만들어주고, 데이터를 가지고 그림을 그릴 수 있는 패키지이다.<br/>\n",
    "일반적으로 데이터를 만드는 방식은 아니고, 테스트에 쓸 데이터를 만들어주는 패키지라고 생각하면 된다."
   ]
  },
  {
   "cell_type": "code",
   "execution_count": 2,
   "id": "7750f8e0",
   "metadata": {},
   "outputs": [],
   "source": [
    "import mglearn"
   ]
  },
  {
   "cell_type": "markdown",
   "id": "1cc2b708",
   "metadata": {},
   "source": [
    "# 지도 학습 알고리즘 (Supervised learning)"
   ]
  },
  {
   "cell_type": "markdown",
   "id": "2e12806b",
   "metadata": {},
   "source": [
    "### 데이터를 불러오는 방법"
   ]
  },
  {
   "cell_type": "code",
   "execution_count": 3,
   "id": "786d6887",
   "metadata": {},
   "outputs": [
    {
     "name": "stderr",
     "output_type": "stream",
     "text": [
      "C:\\Users\\Nagyeom\\anaconda3\\lib\\site-packages\\sklearn\\utils\\deprecation.py:87: FutureWarning: Function make_blobs is deprecated; Please import make_blobs directly from scikit-learn\n",
      "  warnings.warn(msg, category=FutureWarning)\n"
     ]
    },
    {
     "data": {
      "text/plain": [
       "<matplotlib.legend.Legend at 0x268d28d9a00>"
      ]
     },
     "execution_count": 3,
     "metadata": {},
     "output_type": "execute_result"
    },
    {
     "data": {
      "image/png": "[encoded data removed]",
      "text/plain": [
       "<Figure size 432x288 with 1 Axes>"
      ]
     },
     "metadata": {
      "needs_background": "light"
     },
     "output_type": "display_data"
    }
   ],
   "source": [
    "# X = feature, y = label\n",
    "# 대문자와 소문자로 쓰는거는 관행\n",
    "# forge로 데이터셋을 만든다.\n",
    "X, y = mglearn.datasets.make_forge()\n",
    "mglearn.discrete_scatter(X[:, 0], X[:, 1], y)\n",
    "#matplotlib을 사용하는 것과 같은 결과를 도출한다.\n",
    "plt.xlabel('First Feature')\n",
    "plt.ylabel('Second Feature')\n",
    "plt.legend()"
   ]
  },
  {
   "cell_type": "markdown",
   "id": "acdc6e53",
   "metadata": {},
   "source": [
    "mglearn에서 제공하는 forge 데이터셋을 이용한 분류 모델을 만들었다<br/>\n",
    "forge는 인위적으로 만들어진 분류 데이터 셋이다.<br/>\n",
    "X,y = mglearn.datasets.make_forge()를 통해 데이터를 적재한다.<br/>"
   ]
  },
  {
   "cell_type": "code",
   "execution_count": 49,
   "id": "22348d88",
   "metadata": {},
   "outputs": [
    {
     "data": {
      "text/plain": [
       "Text(0, 0.5, 'target')"
      ]
     },
     "execution_count": 49,
     "metadata": {},
     "output_type": "execute_result"
    },
    {
     "data": {
      "image/png": "[encoded data removed]",
      "text/plain": [
       "<Figure size 432x288 with 1 Axes>"
      ]
     },
     "metadata": {
      "needs_background": "light"
     },
     "output_type": "display_data"
    }
   ],
   "source": [
    "# 회귀 알고리즘에서는 인위적으로 만든 wave 데이터 셋을 사용한다.\n",
    "# wave 데이터셋은 입력 특성하나와 모델링 타깃 변수를 가진다.\n",
    "\n",
    "X, y = mglearn.datasets.make_wave(n_samples=40)\n",
    "plt.plot(X, y, 'o')\n",
    "plt.ylim(-3, 3) # y축 범위 : -3 ~ 3\n",
    "plt.xlabel(\"feature\")\n",
    "plt.ylabel(\"target\")"
   ]
  },
  {
   "cell_type": "markdown",
   "id": "4afdef38",
   "metadata": {},
   "source": [
    "scikit-learn에 들어 있는 실제 데이터셋 중 유방암에 대한 데이터셋을 사용해본다.<br/>\n",
    "유방암 종양의 임상 데이터를 기록해놓은 위스콘신 유방암 데이터셋(줄여서 cancer)<br/>\n",
    "각 종양은 양성과 악성으로 레이블 되어 있고,<br/>\n",
    "조직 데이터를 기반으로 종양이 악성인지를 예측 할 수 있도록 학습하는 것이 과제"
   ]
  },
  {
   "cell_type": "code",
   "execution_count": 5,
   "id": "3bcd6407",
   "metadata": {},
   "outputs": [
    {
     "name": "stdout",
     "output_type": "stream",
     "text": [
      "cancer.keys():\n",
      " dict_keys(['data', 'target', 'frame', 'target_names', 'DESCR', 'feature_names', 'filename', 'data_module'])\n"
     ]
    }
   ],
   "source": [
    "from sklearn.datasets import load_breast_cancer\n",
    "cancer = load_breast_cancer()\n",
    "print(\"cancer.keys():\\n\", cancer.keys())"
   ]
  },
  {
   "cell_type": "code",
   "execution_count": 6,
   "id": "01a9627d",
   "metadata": {},
   "outputs": [
    {
     "data": {
      "text/plain": [
       "(569, 30)"
      ]
     },
     "execution_count": 6,
     "metadata": {},
     "output_type": "execute_result"
    }
   ],
   "source": [
    "cancer.data.shape\n",
    "# 유방암과 관련된 feature를 30개로 정의하고 있다.\n",
    "# 데이터는 총 569개 쌓여있다."
   ]
  },
  {
   "cell_type": "code",
   "execution_count": 7,
   "id": "d21a2bd8",
   "metadata": {},
   "outputs": [
    {
     "data": {
      "text/plain": [
       "array([0, 0, 0, 0, 0, 0, 0, 0, 0, 0, 0, 0, 0, 0, 0, 0, 0, 0, 0, 1, 1, 1,\n",
       "       0, 0, 0, 0, 0, 0, 0, 0, 0, 0, 0, 0, 0, 0, 0, 1, 0, 0, 0, 0, 0, 0,\n",
       "       0, 0, 1, 0, 1, 1, 1, 1, 1, 0, 0, 1, 0, 0, 1, 1, 1, 1, 0, 1, 0, 0,\n",
       "       1, 1, 1, 1, 0, 1, 0, 0, 1, 0, 1, 0, 0, 1, 1, 1, 0, 0, 1, 0, 0, 0,\n",
       "       1, 1, 1, 0, 1, 1, 0, 0, 1, 1, 1, 0, 0, 1, 1, 1, 1, 0, 1, 1, 0, 1,\n",
       "       1, 1, 1, 1, 1, 1, 1, 0, 0, 0, 1, 0, 0, 1, 1, 1, 0, 0, 1, 0, 1, 0,\n",
       "       0, 1, 0, 0, 1, 1, 0, 1, 1, 0, 1, 1, 1, 1, 0, 1, 1, 1, 1, 1, 1, 1,\n",
       "       1, 1, 0, 1, 1, 1, 1, 0, 0, 1, 0, 1, 1, 0, 0, 1, 1, 0, 0, 1, 1, 1,\n",
       "       1, 0, 1, 1, 0, 0, 0, 1, 0, 1, 0, 1, 1, 1, 0, 1, 1, 0, 0, 1, 0, 0,\n",
       "       0, 0, 1, 0, 0, 0, 1, 0, 1, 0, 1, 1, 0, 1, 0, 0, 0, 0, 1, 1, 0, 0,\n",
       "       1, 1, 1, 0, 1, 1, 1, 1, 1, 0, 0, 1, 1, 0, 1, 1, 0, 0, 1, 0, 1, 1,\n",
       "       1, 1, 0, 1, 1, 1, 1, 1, 0, 1, 0, 0, 0, 0, 0, 0, 0, 0, 0, 0, 0, 0,\n",
       "       0, 0, 1, 1, 1, 1, 1, 1, 0, 1, 0, 1, 1, 0, 1, 1, 0, 1, 0, 0, 1, 1,\n",
       "       1, 1, 1, 1, 1, 1, 1, 1, 1, 1, 1, 0, 1, 1, 0, 1, 0, 1, 1, 1, 1, 1,\n",
       "       1, 1, 1, 1, 1, 1, 1, 1, 1, 0, 1, 1, 1, 0, 1, 0, 1, 1, 1, 1, 0, 0,\n",
       "       0, 1, 1, 1, 1, 0, 1, 0, 1, 0, 1, 1, 1, 0, 1, 1, 1, 1, 1, 1, 1, 0,\n",
       "       0, 0, 1, 1, 1, 1, 1, 1, 1, 1, 1, 1, 1, 0, 0, 1, 0, 0, 0, 1, 0, 0,\n",
       "       1, 1, 1, 1, 1, 0, 1, 1, 1, 1, 1, 0, 1, 1, 1, 0, 1, 1, 0, 0, 1, 1,\n",
       "       1, 1, 1, 1, 0, 1, 1, 1, 1, 1, 1, 1, 0, 1, 1, 1, 1, 1, 0, 1, 1, 0,\n",
       "       1, 1, 1, 1, 1, 1, 1, 1, 1, 1, 1, 1, 0, 1, 0, 0, 1, 0, 1, 1, 1, 1,\n",
       "       1, 0, 1, 1, 0, 1, 0, 1, 1, 0, 1, 0, 1, 1, 1, 1, 1, 1, 1, 1, 0, 0,\n",
       "       1, 1, 1, 1, 1, 1, 0, 1, 1, 1, 1, 1, 1, 1, 1, 1, 1, 0, 1, 1, 1, 1,\n",
       "       1, 1, 1, 0, 1, 0, 1, 1, 0, 1, 1, 1, 1, 1, 0, 0, 1, 0, 1, 0, 1, 1,\n",
       "       1, 1, 1, 0, 1, 1, 0, 1, 0, 1, 0, 0, 1, 1, 1, 0, 1, 1, 1, 1, 1, 1,\n",
       "       1, 1, 1, 1, 1, 0, 1, 0, 0, 1, 1, 1, 1, 1, 1, 1, 1, 1, 1, 1, 1, 1,\n",
       "       1, 1, 1, 1, 1, 1, 1, 1, 1, 1, 1, 1, 0, 0, 0, 0, 0, 0, 1])"
      ]
     },
     "execution_count": 7,
     "metadata": {},
     "output_type": "execute_result"
    }
   ],
   "source": [
    "cancer.target\n",
    "# 양성과 음성 두가지 결과로 나오는데\n",
    "# 양성은 malignant, 음성은 benign\n",
    "# 유방암은 증상이 잘 알려진 편이라 음성과 양성을 분명하게 나뉠 수 있다."
   ]
  },
  {
   "cell_type": "code",
   "execution_count": 8,
   "id": "e4f10e8b",
   "metadata": {},
   "outputs": [
    {
     "data": {
      "text/plain": [
       "array(['malignant', 'benign'], dtype='<U9')"
      ]
     },
     "execution_count": 8,
     "metadata": {},
     "output_type": "execute_result"
    }
   ],
   "source": [
    "cancer.target_names"
   ]
  },
  {
   "cell_type": "code",
   "execution_count": 9,
   "id": "70f1204b",
   "metadata": {
    "scrolled": true
   },
   "outputs": [
    {
     "data": {
      "text/plain": [
       "array(['mean radius', 'mean texture', 'mean perimeter', 'mean area',\n",
       "       'mean smoothness', 'mean compactness', 'mean concavity',\n",
       "       'mean concave points', 'mean symmetry', 'mean fractal dimension',\n",
       "       'radius error', 'texture error', 'perimeter error', 'area error',\n",
       "       'smoothness error', 'compactness error', 'concavity error',\n",
       "       'concave points error', 'symmetry error',\n",
       "       'fractal dimension error', 'worst radius', 'worst texture',\n",
       "       'worst perimeter', 'worst area', 'worst smoothness',\n",
       "       'worst compactness', 'worst concavity', 'worst concave points',\n",
       "       'worst symmetry', 'worst fractal dimension'], dtype='<U23')"
      ]
     },
     "execution_count": 9,
     "metadata": {},
     "output_type": "execute_result"
    }
   ],
   "source": [
    "cancer.feature_names\n",
    "# 특성의 이름, 30가지 요소가 있고 이것으로 인해 양성과 음성이 결정된다.\n",
    "# 숫자들이 가지고 있는 insight를 뽑아내려면 결과적으로 전문가와 협업해야 한다."
   ]
  },
  {
   "cell_type": "markdown",
   "id": "22bf7c82",
   "metadata": {},
   "source": [
    "# k-최근접 이웃\n",
    "- k-NN(k-Nearest Neighbors)알고리즘은 가장 간단한 머신러닝 알고리즘<br/>\n",
    "- 훈련 데이터셋을 그냥 저장하는 것이 모델을 만드는 과정의 전부<br/>\n",
    "- 새로운 데이터 포인트에 대해 예측할 땐 알고리즘이 훈련 데이터넷에서 가장 가까운 데이터 포인트,<br/>즉 '최근접 이웃'을 찾습니다."
   ]
  },
  {
   "cell_type": "code",
   "execution_count": 10,
   "id": "98d3148e",
   "metadata": {},
   "outputs": [
    {
     "name": "stderr",
     "output_type": "stream",
     "text": [
      "C:\\Users\\Nagyeom\\anaconda3\\lib\\site-packages\\sklearn\\utils\\deprecation.py:87: FutureWarning: Function make_blobs is deprecated; Please import make_blobs directly from scikit-learn\n",
      "  warnings.warn(msg, category=FutureWarning)\n"
     ]
    },
    {
     "data": {
      "image/png": "[encoded data removed]",
      "text/plain": [
       "<Figure size 432x288 with 1 Axes>"
      ]
     },
     "metadata": {
      "needs_background": "light"
     },
     "output_type": "display_data"
    }
   ],
   "source": [
    "mglearn.plots.plot_knn_classification(n_neighbors=1)\n",
    "# classification용 데이터를 그림으로 바로 볼 수 있다."
   ]
  },
  {
   "cell_type": "markdown",
   "id": "40fe144c",
   "metadata": {},
   "source": [
    "이웃의 갯수를 달리하면 판별이 달라진다."
   ]
  },
  {
   "cell_type": "code",
   "execution_count": 11,
   "id": "381d167d",
   "metadata": {},
   "outputs": [
    {
     "name": "stderr",
     "output_type": "stream",
     "text": [
      "C:\\Users\\Nagyeom\\anaconda3\\lib\\site-packages\\sklearn\\utils\\deprecation.py:87: FutureWarning: Function make_blobs is deprecated; Please import make_blobs directly from scikit-learn\n",
      "  warnings.warn(msg, category=FutureWarning)\n"
     ]
    },
    {
     "data": {
      "image/png": "[encoded data removed]",
      "text/plain": [
       "<Figure size 432x288 with 1 Axes>"
      ]
     },
     "metadata": {
      "needs_background": "light"
     },
     "output_type": "display_data"
    }
   ],
   "source": [
    "mglearn.plots.plot_knn_classification(n_neighbors=3)"
   ]
  },
  {
   "cell_type": "markdown",
   "id": "e71c9868",
   "metadata": {},
   "source": [
    "주변의 점 3개를 보고 많은 쪽으로 레이블이 정해진다.<br/>\n",
    "최근접 알고리즘은 짝수로 정하지 않고 가급적 홀수로 n_neighbors 값을 준다.<br/>\n",
    "만약 짝수로 값을 줬다면 길이로 레이블이 정해진다."
   ]
  },
  {
   "cell_type": "markdown",
   "id": "dfa29f2c",
   "metadata": {},
   "source": [
    "보통 모델을 만들때는 train, test로 나눠서 사용하지만\n",
    "train, test, validation 으로 나눠서 사용할 수도 있다."
   ]
  },
  {
   "cell_type": "code",
   "execution_count": 12,
   "id": "bef420e2",
   "metadata": {},
   "outputs": [
    {
     "name": "stderr",
     "output_type": "stream",
     "text": [
      "C:\\Users\\Nagyeom\\anaconda3\\lib\\site-packages\\sklearn\\utils\\deprecation.py:87: FutureWarning: Function make_blobs is deprecated; Please import make_blobs directly from scikit-learn\n",
      "  warnings.warn(msg, category=FutureWarning)\n"
     ]
    }
   ],
   "source": [
    "from sklearn.model_selection import train_test_split\n",
    "X, y = mglearn.datasets.make_forge()\n",
    "\n",
    "# 실제로 데이터를 쪼개는 작업\n",
    "X_train, X_test, y_train, y_test = train_test_split(X, y, random_state=0)"
   ]
  },
  {
   "cell_type": "code",
   "execution_count": 13,
   "id": "d4002737",
   "metadata": {},
   "outputs": [],
   "source": [
    "# 최근접 분류 알고리즘 준비\n",
    "from sklearn.neighbors import KNeighborsClassifier\n",
    "clf = KNeighborsClassifier(n_neighbors=5)"
   ]
  },
  {
   "cell_type": "code",
   "execution_count": 14,
   "id": "f245bf90",
   "metadata": {},
   "outputs": [
    {
     "data": {
      "text/plain": [
       "KNeighborsClassifier()"
      ]
     },
     "execution_count": 14,
     "metadata": {},
     "output_type": "execute_result"
    }
   ],
   "source": [
    "# 학습용 데이터 셋을 사용해서 분류 모델을 학습\n",
    "clf.fit(X_train, y_train)"
   ]
  },
  {
   "cell_type": "code",
   "execution_count": 15,
   "id": "afd38ede",
   "metadata": {},
   "outputs": [
    {
     "data": {
      "text/plain": [
       "array([1, 0, 1, 0, 1, 0, 0])"
      ]
     },
     "execution_count": 15,
     "metadata": {},
     "output_type": "execute_result"
    }
   ],
   "source": [
    "clf.predict(X_test)"
   ]
  },
  {
   "cell_type": "code",
   "execution_count": 16,
   "id": "fefaccff",
   "metadata": {},
   "outputs": [
    {
     "data": {
      "text/plain": [
       "0.8571428571428571"
      ]
     },
     "execution_count": 16,
     "metadata": {},
     "output_type": "execute_result"
    }
   ],
   "source": [
    "clf.score(X_test, y_test)"
   ]
  },
  {
   "cell_type": "code",
   "execution_count": 17,
   "id": "743df11b",
   "metadata": {},
   "outputs": [
    {
     "data": {
      "image/png": "[encoded data removed]",
      "text/plain": [
       "<Figure size 720x216 with 3 Axes>"
      ]
     },
     "metadata": {},
     "output_type": "display_data"
    }
   ],
   "source": [
    "# 1개, 3개, 9개에 따라 특성이 달라지는 것을 확인할것이다.\n",
    "# 한 라인에 여러개를 나타낼 때 subplot을 사용한다.\n",
    "fit, axes = plt.subplots(1, 3, figsize=(10, 3))\n",
    "for n_neighbors, ax in zip([1,3,9], axes) :\n",
    "    clf = KNeighborsClassifier(n_neighbors=n_neighbors) # 1, 3, 9 최근접을 가지게\n",
    "    clf.fit(X, y)\n",
    "    # 그림을 그린다.\n",
    "    mglearn.plots.plot_2d_separator(clf, X, fill=True, eps=0.5, ax=ax, alpha=.4)\n",
    "    # alpha : 투명도\n",
    "    mglearn.discrete_scatter(X[:, 0], X[:, 1], y, ax=ax)"
   ]
  },
  {
   "cell_type": "markdown",
   "id": "b2fe9b3f",
   "metadata": {},
   "source": [
    "데이터의 갯수가 많지 않아서 결과는 크게 바뀌지 않는다.<br/>\n",
    "1개를 기준으로 봤을 때는 데이터의 특성이 예리하게 살아있다.<br/>\n",
    "3개씩 기준으로 봤을 때는 가장 가까운 것은 합병되는 특성이 나온다.<br/>\n",
    "9개는 데이터가 가지는 원래 특성이 사라지고 완만한 선을 가진 것이 보인다.<br/>"
   ]
  },
  {
   "cell_type": "markdown",
   "id": "0820d7a9",
   "metadata": {},
   "source": [
    "## 유방암 데이터"
   ]
  },
  {
   "cell_type": "code",
   "execution_count": 18,
   "id": "2461b146",
   "metadata": {},
   "outputs": [],
   "source": [
    "from sklearn.datasets import load_breast_cancer\n",
    "cancer = load_breast_cancer()\n",
    "X_train, X_test, y_train, y_test = train_test_split(cancer.data, cancer.target, random_state=66)\n",
    "\n",
    "training_accuracy = []\n",
    "test_accuracy = []\n",
    "\n",
    "neighbors_settings = range(1, 11)\n",
    "\n",
    "for n_neighbors in neighbors_settings :\n",
    "    clf = KNeighborsClassifier(n_neighbors=n_neighbors)\n",
    "    clf.fit(X_train, y_train)\n",
    "    \n",
    "    #학습 정확도 (= 훈련 정확도)\n",
    "    training_accuracy.append(clf.score(X_train, y_train))\n",
    "    \n",
    "    # 테스트 정확도 (학습 정확도보다 테스트 정확도가 잘 나오는 게 중요함)\n",
    "    test_accuracy.append(clf.score(X_test, y_test))"
   ]
  },
  {
   "cell_type": "code",
   "execution_count": 19,
   "id": "0dcc5d51",
   "metadata": {},
   "outputs": [
    {
     "name": "stdout",
     "output_type": "stream",
     "text": [
      "[1.0, 0.9671361502347418, 0.9671361502347418, 0.9553990610328639, 0.9483568075117371, 0.9483568075117371, 0.9436619718309859, 0.9413145539906104, 0.9460093896713615, 0.9413145539906104]\n",
      "[0.9230769230769231, 0.9020979020979021, 0.9230769230769231, 0.916083916083916, 0.916083916083916, 0.916083916083916, 0.9090909090909091, 0.9090909090909091, 0.9090909090909091, 0.9090909090909091]\n"
     ]
    }
   ],
   "source": [
    "print(training_accuracy)\n",
    "print(test_accuracy)"
   ]
  },
  {
   "cell_type": "markdown",
   "id": "02109332",
   "metadata": {},
   "source": [
    "## 중요\n",
    "학습 정확도는 100%에서 떨어지는 양상을 보이고, 테스트는 점점 올라가다가 다시 내려간다.<br/>\n",
    "몇 번째에 가장 좋은 모델을 만들 수 있는 지를 평가해서 모델을 만들어서 사용하도록 한다.<br/>"
   ]
  },
  {
   "cell_type": "code",
   "execution_count": 20,
   "id": "c2d6f145",
   "metadata": {},
   "outputs": [
    {
     "data": {
      "text/plain": [
       "Text(0, 0.5, 'Accuracy')"
      ]
     },
     "execution_count": 20,
     "metadata": {},
     "output_type": "execute_result"
    },
    {
     "data": {
      "image/png": "[encoded data removed]",
      "text/plain": [
       "<Figure size 432x288 with 1 Axes>"
      ]
     },
     "metadata": {
      "needs_background": "light"
     },
     "output_type": "display_data"
    }
   ],
   "source": [
    "plt.plot(neighbors_settings, training_accuracy, label='trining_accuracy', c='orange')\n",
    "plt.plot(neighbors_settings, test_accuracy, label='test_accuracy', c='purple')\n",
    "plt.legend()\n",
    "plt.xlabel('n_neighbors')\n",
    "plt.ylabel('Accuracy')"
   ]
  },
  {
   "cell_type": "markdown",
   "id": "1ef73802",
   "metadata": {},
   "source": [
    "현재 데이터에서는<br/>\n",
    "최근접 알고리즘에서 n_neighbors의 갯수가 3개일때 제일 테스트 정확도가 좋았다.<br/>\n",
    "데이터마다 다르기 때문에 학습하고 결과를 보고 결정해야 한다.<br/>\n",
    "1개일 때는 데이터의 특성을 너무 담고 있어서 해당 데이터에 대해서만 사용가능 한 것이다."
   ]
  },
  {
   "cell_type": "code",
   "execution_count": 21,
   "id": "8925a232",
   "metadata": {},
   "outputs": [
    {
     "data": {
      "image/png": "[encoded data removed]",
      "text/plain": [
       "<Figure size 720x432 with 1 Axes>"
      ]
     },
     "metadata": {
      "needs_background": "light"
     },
     "output_type": "display_data"
    }
   ],
   "source": [
    "mglearn.plots.plot_knn_regression(n_neighbors=1)"
   ]
  },
  {
   "cell_type": "code",
   "execution_count": 22,
   "id": "bcc68966",
   "metadata": {},
   "outputs": [
    {
     "data": {
      "image/png": "[encoded data removed]",
      "text/plain": [
       "<Figure size 720x432 with 1 Axes>"
      ]
     },
     "metadata": {
      "needs_background": "light"
     },
     "output_type": "display_data"
    }
   ],
   "source": [
    "mglearn.plots.plot_knn_regression(n_neighbors=3)\n",
    "# 갯수가 많아질수록 별끼리 이은 선의 경사가 완만해진다.\n",
    "# 데이터의 특성이 완화된다. 완화되는 것이 좋은 것은 아니다."
   ]
  },
  {
   "cell_type": "code",
   "execution_count": 23,
   "id": "e4b881fa",
   "metadata": {},
   "outputs": [
    {
     "data": {
      "text/plain": [
       "KNeighborsRegressor(n_neighbors=3)"
      ]
     },
     "execution_count": 23,
     "metadata": {},
     "output_type": "execute_result"
    }
   ],
   "source": [
    "from sklearn.neighbors import KNeighborsRegressor # 회귀문제를 풀어본다\n",
    "X, y = mglearn.datasets.make_wave(n_samples=40) # 40개의 샘플데이터\n",
    "X_train, X_test, y_train, y_test = train_test_split(X, y, random_state=0)\n",
    "reg = KNeighborsRegressor(n_neighbors=3)\n",
    "reg.fit(X_train, y_train)"
   ]
  },
  {
   "cell_type": "code",
   "execution_count": 24,
   "id": "42edfcc8",
   "metadata": {},
   "outputs": [
    {
     "data": {
      "text/plain": [
       "0.8344172446249605"
      ]
     },
     "execution_count": 24,
     "metadata": {},
     "output_type": "execute_result"
    }
   ],
   "source": [
    "reg.predict(X_test)\n",
    "reg.score(X_test, y_test)"
   ]
  },
  {
   "cell_type": "code",
   "execution_count": 25,
   "id": "bc90eade",
   "metadata": {},
   "outputs": [],
   "source": [
    "line = np.linspace(-3, 3, 1000).reshape(-1, 1)"
   ]
  },
  {
   "cell_type": "code",
   "execution_count": 26,
   "id": "a5e9b2db",
   "metadata": {},
   "outputs": [
    {
     "data": {
      "image/png": "[encoded data removed]",
      "text/plain": [
       "<Figure size 1080x288 with 3 Axes>"
      ]
     },
     "metadata": {
      "needs_background": "light"
     },
     "output_type": "display_data"
    }
   ],
   "source": [
    "fig, axes = plt.subplots(1, 3, figsize=(15, 4))\n",
    "\n",
    "for n_neighbors, ax in zip([1, 3, 9], axes) :\n",
    "    reg = KNeighborsRegressor(n_neighbors=n_neighbors)\n",
    "    reg.fit(X_train, y_train)\n",
    "    ax.plot(line, reg.predict(line))\n",
    "    ax.plot(X_train, y_train, '^', markersize=8) # 학습 데이터를 마커로 표현\n",
    "    ax.plot(X_test, y_test, 'v', markersize=8)\n",
    "    \n",
    "    ax.set_xlabel('feature')\n",
    "    ax.set_ylabel('target')"
   ]
  },
  {
   "cell_type": "code",
   "execution_count": 27,
   "id": "507bacba",
   "metadata": {},
   "outputs": [
    {
     "name": "stdout",
     "output_type": "stream",
     "text": [
      "w[0]: 0.393906  b: -0.031804\n"
     ]
    },
    {
     "data": {
      "image/png": "[encoded data removed]",
      "text/plain": [
       "<Figure size 576x576 with 1 Axes>"
      ]
     },
     "metadata": {
      "needs_background": "light"
     },
     "output_type": "display_data"
    }
   ],
   "source": [
    "mglearn.plots.plot_linear_regression_wave()"
   ]
  },
  {
   "cell_type": "markdown",
   "id": "b9e03422",
   "metadata": {},
   "source": [
    "점으로 된 값들의 평균 값이 model line 이다."
   ]
  },
  {
   "cell_type": "code",
   "execution_count": 57,
   "id": "257e46a8",
   "metadata": {},
   "outputs": [],
   "source": [
    "from sklearn.linear_model import LinearRegression\n",
    "X, y = mglearn.datasets.make_wave(n_samples=60)\n",
    "X_train, X_test, y_train, y_test = train_test_split(X, y, random_state = 42)\n",
    "lr = LinearRegression().fit(X_train, y_train)"
   ]
  },
  {
   "cell_type": "code",
   "execution_count": 58,
   "id": "0fd6695c",
   "metadata": {},
   "outputs": [
    {
     "name": "stdout",
     "output_type": "stream",
     "text": [
      "0.6700890315075756\n",
      "0.65933685968637\n"
     ]
    }
   ],
   "source": [
    "print(lr.score(X_train, y_train))\n",
    "print(lr.score(X_test, y_test))"
   ]
  },
  {
   "cell_type": "code",
   "execution_count": 59,
   "id": "1b64051e",
   "metadata": {},
   "outputs": [
    {
     "data": {
      "text/plain": [
       "-0.031804343026759746"
      ]
     },
     "execution_count": 59,
     "metadata": {},
     "output_type": "execute_result"
    }
   ],
   "source": [
    "lr.coef_      # w = 가중치 = 계수 = coef_ 속성에 저장\n",
    "lr.intercept_ # b = 편향 = 절편 = intercept_ 속성에 저장"
   ]
  },
  {
   "cell_type": "code",
   "execution_count": 60,
   "id": "8ab2a12f",
   "metadata": {},
   "outputs": [
    {
     "name": "stderr",
     "output_type": "stream",
     "text": [
      "C:\\Users\\Nagyeom\\anaconda3\\lib\\site-packages\\sklearn\\utils\\deprecation.py:87: FutureWarning: Function load_boston is deprecated; `load_boston` is deprecated in 1.0 and will be removed in 1.2.\n",
      "\n",
      "    The Boston housing prices dataset has an ethical problem. You can refer to\n",
      "    the documentation of this function for further details.\n",
      "\n",
      "    The scikit-learn maintainers therefore strongly discourage the use of this\n",
      "    dataset unless the purpose of the code is to study and educate about\n",
      "    ethical issues in data science and machine learning.\n",
      "\n",
      "    In this special case, you can fetch the dataset from the original\n",
      "    source::\n",
      "\n",
      "        import pandas as pd\n",
      "        import numpy as np\n",
      "\n",
      "\n",
      "        data_url = \"http://lib.stat.cmu.edu/datasets/boston\"\n",
      "        raw_df = pd.read_csv(data_url, sep=\"\\s+\", skiprows=22, header=None)\n",
      "        data = np.hstack([raw_df.values[::2, :], raw_df.values[1::2, :2]])\n",
      "        target = raw_df.values[1::2, 2]\n",
      "\n",
      "    Alternative datasets include the California housing dataset (i.e.\n",
      "    :func:`~sklearn.datasets.fetch_california_housing`) and the Ames housing\n",
      "    dataset. You can load the datasets as follows::\n",
      "\n",
      "        from sklearn.datasets import fetch_california_housing\n",
      "        housing = fetch_california_housing()\n",
      "\n",
      "    for the California housing dataset and::\n",
      "\n",
      "        from sklearn.datasets import fetch_openml\n",
      "        housing = fetch_openml(name=\"house_prices\", as_frame=True)\n",
      "\n",
      "    for the Ames housing dataset.\n",
      "    \n",
      "  warnings.warn(msg, category=FutureWarning)\n"
     ]
    }
   ],
   "source": [
    "X, y = mglearn.datasets.load_extended_boston()\n",
    "\n",
    "X_train, X_test, y_train, y_test = train_test_split(X, y, random_state=0)\n",
    "lr = LinearRegression().fit(X_train, y_train)"
   ]
  },
  {
   "cell_type": "code",
   "execution_count": 61,
   "id": "d3f634ab",
   "metadata": {},
   "outputs": [
    {
     "name": "stdout",
     "output_type": "stream",
     "text": [
      "0.9520519609032729\n",
      "0.6074721959665788\n"
     ]
    }
   ],
   "source": [
    "print(lr.score(X_train, y_train))\n",
    "print(lr.score(X_test, y_test))"
   ]
  },
  {
   "cell_type": "markdown",
   "id": "eaa01e42",
   "metadata": {},
   "source": [
    "## Ridge / 릿지\n",
    "- 회귀를 위한 선형 모델\n",
    "- 가중치(계수, w, coef_값) 선택은 훈련 데이터를 잘 예측하기 위한 것 뿐만 아니라 추가 제약 조건을 만족시키기 위한 목적도 있음\n",
    "- 가중치의 절대값을 간으한 작게 만드는 것이 좋다\n",
    "- w의 모든 원소가 0에 가깝게 되길 원함\n",
    "- 모든 특성이 출력에 주는 영향을 최소한으로 만듬\n",
    "- 규제 : 과대적합이 되지 않도록 모델을 강제로 제한하는 의미\n",
    "- 리지 회귀에 사용하는 규제 방식을 L2 규제"
   ]
  },
  {
   "cell_type": "code",
   "execution_count": 62,
   "id": "6c1747a1",
   "metadata": {},
   "outputs": [
    {
     "name": "stdout",
     "output_type": "stream",
     "text": [
      "0.885796658517094\n",
      "0.7527683481744752\n"
     ]
    }
   ],
   "source": [
    "from sklearn.linear_model import Ridge\n",
    "\n",
    "ridge = Ridge().fit(X_train, y_train) # default value = 1.0\n",
    "\n",
    "print(ridge.score(X_train, y_train))\n",
    "print(ridge.score(X_test, y_test))"
   ]
  },
  {
   "cell_type": "code",
   "execution_count": 63,
   "id": "15c123c6",
   "metadata": {},
   "outputs": [
    {
     "name": "stdout",
     "output_type": "stream",
     "text": [
      "0.7882787115369616\n",
      "0.6359411489177311\n"
     ]
    }
   ],
   "source": [
    "ridge10 = Ridge(alpha=10).fit(X_train, y_train)\n",
    "\n",
    "print(ridge10.score(X_train, y_train))\n",
    "print(ridge10.score(X_test, y_test))"
   ]
  },
  {
   "cell_type": "code",
   "execution_count": 64,
   "id": "4c388c9b",
   "metadata": {},
   "outputs": [
    {
     "name": "stdout",
     "output_type": "stream",
     "text": [
      "0.9282273685001985\n",
      "0.7722067936479811\n"
     ]
    }
   ],
   "source": [
    "ridge01 = Ridge(alpha=0.1).fit(X_train, y_train)\n",
    "\n",
    "print(ridge01.score(X_train, y_train))\n",
    "print(ridge01.score(X_test, y_test))"
   ]
  },
  {
   "cell_type": "markdown",
   "id": "ef80409e",
   "metadata": {},
   "source": [
    "alpha 값은 제약이다. alpha 값을 줄일수록 제약이 줄어들면서 점수가 바뀐다.<br/>\n",
    "아주 작은 alpha 값은 계수를 거의 제한하지 않으므로 LinearRegression 모델과 거의 같아진다.<br/>\n",
    "for문을 걸어놓고 제약이 어디쯤 제일 잘 나오는 지 보면 된다.<br/><br/>\n",
    "\n",
    "훈련 세트의 점수가 테스트 세트의 점수보다 높다.<br/>\n",
    "데이터를 충분히 주면 규제 항목이 덜 중요해져서 리지 회귀와 선형 회귀의 성능이 같아질 것이라 한다.<br/>"
   ]
  },
  {
   "cell_type": "code",
   "execution_count": 37,
   "id": "c1586d28",
   "metadata": {},
   "outputs": [
    {
     "name": "stdout",
     "output_type": "stream",
     "text": [
      "0.0  :  0.9520003825588945 0.6039587357836507\n",
      "0.1001001001001001  :  0.9282171604515123 0.7722161242634561\n",
      "0.2002002002002002  :  0.9199139230223696 0.7749434630314416\n",
      "0.3003003003003003  :  0.9136318041259568 0.7732341251836508\n",
      "0.4004004004004004  :  0.9083552270339974 0.7705355547801392\n",
      "0.5005005005005005  :  0.903718447003567 0.7675486241446373\n",
      "0.6006006006006006  :  0.8995402474657141 0.764494766659041\n",
      "0.7007007007007008  :  0.8957148524297253 0.7614597149835471\n",
      "0.8008008008008008  :  0.8921737636775592 0.7584800181114637\n",
      "0.9009009009009009  :  0.8888693124330311 0.7555715116944274\n",
      "1.001001001001001  :  0.8857665360564501 0.7527404280353583\n",
      "1.1011011011011012  :  0.8828387508744164 0.7499882709543102\n",
      "1.2012012012012012  :  0.8800649507455458 0.7473141418486771\n",
      "1.3013013013013013  :  0.8774281848290343 0.7447159191431675\n",
      "1.4014014014014016  :  0.8749144962392534 0.7421908829546593\n",
      "1.5015015015015016  :  0.8725121997247313 0.7397360557774029\n",
      "1.6016016016016017  :  0.8702113736321181 0.7373483912946325\n",
      "1.7017017017017018  :  0.8680034925023103 0.7350248791647245\n",
      "1.8018018018018018  :  0.8658811549635125 0.7327626021141291\n",
      "1.9019019019019021  :  0.8638378780029123 0.7305587654666146\n",
      "2.002002002002002  :  0.8618679385925052 0.7284107105747009\n",
      "2.1021021021021022  :  0.859966249812125 0.7263159188313968\n",
      "2.2022022022022023  :  0.8581282625729634 0.7242720102200086\n",
      "2.3023023023023024  :  0.8563498866550892 0.722276738777546\n",
      "2.4024024024024024  :  0.8546274265333182 0.7203279864088091\n",
      "2.5025025025025025  :  0.8529575286784622 0.7184237559225426\n",
      "2.6026026026026026  :  0.8513371378718537 0.7165621638156373\n",
      "2.702702702702703  :  0.8497634606781355 0.7147414331183887\n",
      "2.802802802802803  :  0.8482339346611136 0.7129598864816569\n",
      "2.902902902902903  :  0.84674620225056 0.7112159396045681\n",
      "3.0030030030030033  :  0.8452980884082173 0.7095080950503516\n",
      "3.1031031031031033  :  0.8438875814222049 0.7078349364664951\n",
      "3.2032032032032034  :  0.8425128162967093 0.7061951232063827\n",
      "3.3033033033033035  :  0.8411720603096762 0.7045873853384397\n",
      "3.4034034034034035  :  0.8398637003933291 0.7030105190226609\n",
      "3.5035035035035036  :  0.8385862320566002 0.7014633822313878\n",
      "3.6036036036036037  :  0.8373382496192696 0.699944890790164\n",
      "3.7037037037037037  :  0.8361184375679278 0.6984540147146487\n",
      "3.8038038038038042  :  0.8349255628761691 0.696989774820441\n",
      "3.9039039039039043  :  0.8337584681574673 0.6955512395839314\n",
      "4.004004004004004  :  0.8326160655403165 0.6941375222337428\n",
      "4.104104104104104  :  0.8314973311724855 0.692747778053857\n",
      "4.2042042042042045  :  0.830401300275401 0.6913812018810277\n",
      "4.3043043043043046  :  0.8293270626813884 0.6900370257805336\n",
      "4.404404404404405  :  0.8282737587962112 0.6887145168856996\n",
      "4.504504504504505  :  0.8272405759374619 0.6874129753878889\n",
      "4.604604604604605  :  0.8262267450061525 0.686131732664836\n",
      "4.704704704704705  :  0.8252315374545723 0.6848701495362811\n",
      "4.804804804804805  :  0.8242542625183281 0.6836276146368303\n",
      "4.904904904904905  :  0.8232942646845803 0.6824035428968714\n",
      "5.005005005005005  :  0.8223509213720048 0.681197374123176\n",
      "5.105105105105105  :  0.821423640800997 0.6800085716715527\n",
      "5.205205205205205  :  0.8205118600352176 0.678836621204581\n",
      "5.305305305305305  :  0.8196150431777943 0.6776810295280588\n",
      "5.405405405405406  :  0.8187326797074117 0.6765413235003306\n",
      "5.505505505505506  :  0.8178642829411886 0.6754170490091662\n",
      "5.605605605605606  :  0.817009388612688 0.6743077700113038\n",
      "5.705705705705706  :  0.816167553554666 0.6732130676301668\n",
      "5.805805805805806  :  0.8153383544772748 0.6721325393076469\n",
      "5.9059059059059065  :  0.8145213868334029 0.6710657980061641\n",
      "6.0060060060060065  :  0.8137162637636859 0.6700124714575256\n",
      "6.106106106106107  :  0.8129226151144778 0.6689722014553834\n",
      "6.206206206206207  :  0.812140086522734 0.6679446431883302\n",
      "6.306306306306307  :  0.8113683385623456 0.6669294646109181\n",
      "6.406406406406407  :  0.8106070459469916 0.6659263458500801\n",
      "6.506506506506507  :  0.8098558967850336 0.6649349786446315\n",
      "6.606606606606607  :  0.809114591882398 0.6639550658157045\n",
      "6.706706706706707  :  0.8083828440897605 0.6629863207661237\n",
      "6.806806806806807  :  0.8076603776906739 0.6620284670068792\n",
      "6.906906906906907  :  0.806946927827584 0.6610812377089922\n",
      "7.007007007007007  :  0.8062422399629416 0.6601443752791822\n",
      "7.107107107107107  :  0.8055460693728588 0.6592176309578688\n",
      "7.207207207207207  :  0.804858180670975 0.6583007644381331\n",
      "7.307307307307307  :  0.8041783473603941 0.6573935435043745\n",
      "7.407407407407407  :  0.8035063514117279 0.6564957436894703\n",
      "7.507507507507508  :  0.8028419828654453 0.6556071479493393\n",
      "7.6076076076076085  :  0.802185039456866 0.6547275463538822\n",
      "7.7077077077077085  :  0.8015353262622759 0.653856735793338\n",
      "7.807807807807809  :  0.8008926553647517 0.6529945196991609\n",
      "7.907907907907909  :  0.8002568455384038 0.6521407077785861\n",
      "8.008008008008009  :  0.7996277219498311 0.6512951157620992\n",
      "8.108108108108109  :  0.7990051158756855 0.6504575651630846\n",
      "8.208208208208209  :  0.7983888644353159 0.649627883048963\n",
      "8.308308308308309  :  0.7977788103375457 0.648805901823188\n",
      "8.408408408408409  :  0.7971748016406996 0.6479914590174933\n",
      "8.508508508508509  :  0.7965766915250656 0.6471843970938382\n",
      "8.608608608608609  :  0.7959843380770304 0.646384563255519\n",
      "8.70870870870871  :  0.7953976040841869 0.6455918092669566\n",
      "8.80880880880881  :  0.794816356840754 0.6448059912816957\n",
      "8.90890890890891  :  0.7942404679626998 0.6440269696781791\n",
      "9.00900900900901  :  0.7936698132119993 0.6432546089028925\n",
      "9.10910910910911  :  0.7931042723294965 0.6424887773204888\n",
      "9.20920920920921  :  0.792543728875875 0.6417293470705383\n",
      "9.30930930930931  :  0.7919880700802754 0.6409761939305572\n",
      "9.40940940940941  :  0.7914371866961288 0.6402291971849996\n",
      "9.50950950950951  :  0.7908909728638018 0.6394882394999084\n",
      "9.60960960960961  :  0.7903493259796752 0.6387532068029407\n",
      "9.70970970970971  :  0.7898121465713045 0.6380239881685015\n",
      "9.80980980980981  :  0.7892793381783293 0.6373004757077317\n",
      "9.90990990990991  :  0.788750807238822 0.6365825644631111\n",
      "10.01001001001001  :  0.788226462980785 0.6358701523074533\n",
      "10.11011011011011  :  0.7877062173185232 0.6351631398470761\n",
      "10.21021021021021  :  0.7871899847536339 0.6344614303289512\n",
      "10.31031031031031  :  0.7866776822803759 0.63376492955164\n",
      "10.41041041041041  :  0.7861692292951888 0.6330735457798351\n",
      "10.51051051051051  :  0.7856645475101496 0.6323871896623412\n",
      "10.61061061061061  :  0.7851635608701681 0.6317057741533303\n",
      "10.710710710710712  :  0.7846661954737306 0.6310292144367231\n",
      "10.810810810810812  :  0.7841723794970142 0.6303574278535486\n",
      "10.910910910910912  :  0.7836820431212039 0.6296903338321477\n",
      "11.011011011011012  :  0.7831951184628564 0.6290278538210894\n",
      "11.111111111111112  :  0.7827115395071589 0.6283699112246809\n",
      "11.211211211211213  :  0.7822312420439435 0.6277164313409489\n",
      "11.311311311311313  :  0.7817541636063242 0.6270673413019856\n",
      "11.411411411411413  :  0.7812802434118317 0.6264225700165567\n",
      "11.511511511511513  :  0.7808094223059251 0.6257820481148636\n",
      "11.611611611611613  :  0.7803416427077706 0.6251457078953765\n",
      "11.711711711711713  :  0.7798768485581813 0.624513483273637\n",
      "11.811811811811813  :  0.7794149852696141 0.6238853097329548\n",
      "11.911911911911913  :  0.7789559996781337 0.6232611242769097\n",
      "12.012012012012013  :  0.7784998399972496 0.6226408653835873\n",
      "12.112112112112113  :  0.7780464557735434 0.6220244729614701\n",
      "12.212212212212213  :  0.7775957978440027 0.6214118883069174\n",
      "12.312312312312313  :  0.7771478182949887 0.6208030540631673\n",
      "12.412412412412413  :  0.7767024704227614 0.6201979141807954\n",
      "12.512512512512513  :  0.7762597086954944 0.6195964138795709\n",
      "12.612612612612613  :  0.7758194887167155 0.6189984996116524\n",
      "12.712712712712714  :  0.7753817671901071 0.6184041190260713\n",
      "12.812812812812814  :  0.7749465018856119 0.6178132209344438\n",
      "12.912912912912914  :  0.7745136516067832 0.6172257552778695\n",
      "13.013013013013014  :  0.7740831761593304 0.6166416730949638\n",
      "13.113113113113114  :  0.7736550363208051 0.6160609264909797\n",
      "13.213213213213214  :  0.7732291938113832 0.6154834686079776\n",
      "13.313313313313314  :  0.7728056112656937 0.614909253596001\n",
      "13.413413413413414  :  0.7723842522056523 0.6143382365852144\n",
      "13.513513513513514  :  0.771965081014259 0.6137703736589749\n",
      "13.613613613613614  :  0.7715480629103157 0.6132056218277911\n",
      "13.713713713713714  :  0.7711331639240327 0.6126439390041416\n",
      "13.813813813813814  :  0.7707203508734809 0.612085283978119\n",
      "13.913913913913914  :  0.7703095913418603 0.611529616393865\n",
      "14.014014014014014  :  0.7699008536555509 0.610976896726771\n",
      "14.114114114114114  :  0.7694941068629128 0.6104270862614112\n",
      "14.214214214214214  :  0.7690893207138073 0.6098801470701827\n",
      "14.314314314314315  :  0.7686864656398115 0.609336041992627\n"
     ]
    },
    {
     "name": "stdout",
     "output_type": "stream",
     "text": [
      "14.414414414414415  :  0.768285512735096 0.608794734615405\n",
      "14.514514514514515  :  0.7678864337379434 0.6082561892529044\n",
      "14.614614614614615  :  0.7674892010128793 0.6077203709284529\n",
      "14.714714714714715  :  0.767093787533395 0.6071872453561196\n",
      "14.814814814814815  :  0.7667001668652373 0.6066567789230769\n",
      "14.914914914914915  :  0.766308313150245 0.606128938672509\n",
      "15.015015015015017  :  0.7659182010907091 0.6056036922870451\n",
      "15.115115115115117  :  0.7655298059342412 0.6050810080726942\n",
      "15.215215215215217  :  0.7651431034591255 0.6045608549432715\n",
      "15.315315315315317  :  0.7647580699601411 0.6040432024052933\n",
      "15.415415415415417  :  0.764374682234834 0.6035280205433247\n",
      "15.515515515515517  :  0.7639929175702244 0.6030152800057669\n",
      "15.615615615615617  :  0.7636127537299312 0.6025049519910649\n",
      "15.715715715715717  :  0.7632341689417006 0.601997008234325\n",
      "15.815815815815817  :  0.7628571418853216 0.6014914209943248\n",
      "15.915915915915917  :  0.7624816516809175 0.6009881630409037\n",
      "16.016016016016017  :  0.7621076778775966 0.6004872076427197\n",
      "16.116116116116117  :  0.7617352004424521 0.599988528555364\n",
      "16.216216216216218  :  0.7613641997498968 0.5994921000098141\n",
      "16.316316316316318  :  0.7609946565713215 0.598997896701221\n",
      "16.416416416416418  :  0.7606265520650658 0.5985058937780158\n",
      "16.516516516516518  :  0.7602598677666904 0.5980160668313248\n",
      "16.616616616616618  :  0.7598945855795397 0.5975283918846865\n",
      "16.716716716716718  :  0.759530687765585 0.5970428453840533\n",
      "16.816816816816818  :  0.7591681569365397 0.596559404188078\n",
      "16.916916916916918  :  0.7588069760452352 0.5960780455586665\n",
      "17.017017017017018  :  0.7584471283772496 0.5955987471517961\n",
      "17.117117117117118  :  0.7580885975427814 0.5951214870085848\n",
      "17.217217217217218  :  0.7577313674687578 0.5946462435466061\n",
      "17.31731731731732  :  0.7573754223911722 0.5941729955514424\n",
      "17.41741741741742  :  0.7570207468476412 0.5937017221684657\n",
      "17.51751751751752  :  0.756667325670175 0.5932324028948437\n",
      "17.61761761761762  :  0.7563151439781535 0.5927650175717594\n",
      "17.71771771771772  :  0.7559641871715006 0.592299546376839\n",
      "17.81781781781782  :  0.7556144409240537 0.5918359698167837\n",
      "17.91791791791792  :  0.7552658911771161 0.5913742687201966\n",
      "18.01801801801802  :  0.7549185241331917 0.590914424230597\n",
      "18.11811811811812  :  0.7545723262498936 0.5904564177996223\n",
      "18.21821821821822  :  0.7542272842340215 0.5900002311804056\n",
      "18.31831831831832  :  0.7538833850358014 0.5895458464211274\n",
      "18.41841841841842  :  0.753540615843285 0.5890932458587325\n",
      "18.51851851851852  :  0.7531989640769012 0.5886424121128124\n",
      "18.61861861861862  :  0.7528584173841553 0.5881933280796428\n",
      "18.71871871871872  :  0.752518963634473 0.587745976926375\n",
      "18.81881881881882  :  0.752180590914183 0.5873003420853748\n",
      "18.91891891891892  :  0.751843287521633 0.5868564072487057\n",
      "19.01901901901902  :  0.7515070419624383 0.5864141563627505\n",
      "19.11911911911912  :  0.7511718429448555 0.5859735736229709\n",
      "19.21921921921922  :  0.7508376793752786 0.5855346434687942\n",
      "19.31931931931932  :  0.750504540353855 0.5850973505786315\n",
      "19.41941941941942  :  0.7501724151702159 0.5846616798650182\n",
      "19.51951951951952  :  0.7498412932993179 0.5842276164698723\n",
      "19.61961961961962  :  0.7495111643973944 0.5837951457598758\n",
      "19.71971971971972  :  0.7491820182980098 0.583364253321961\n",
      "19.81981981981982  :  0.748853845008218 0.5829349249589145\n",
      "19.91991991991992  :  0.7485266347048183 0.5825071466850826\n",
      "20.02002002002002  :  0.7482003777307066 0.5820809047221849\n",
      "20.12012012012012  :  0.7478750645913215 0.5816561854952251\n",
      "20.22022022022022  :  0.7475506859511785 0.5812329756285031\n",
      "20.32032032032032  :  0.747227232630494 0.5808112619417203\n",
      "20.42042042042042  :  0.7469046956018925 0.5803910314461781\n",
      "20.52052052052052  :  0.7465830659871979 0.5799722713410678\n",
      "20.62062062062062  :  0.7462623350543036 0.5795549690098463\n",
      "20.72072072072072  :  0.7459424942141208 0.5791391120166977\n",
      "20.82082082082082  :  0.7456235350176044 0.5787246881030784\n",
      "20.92092092092092  :  0.7453054491528486 0.5783116851843413\n",
      "21.02102102102102  :  0.7449882284422575 0.5779000913464407\n",
      "21.12112112112112  :  0.7446718648397831 0.5774898948427102\n",
      "21.22122122122122  :  0.74435635042823 0.5770810840907179\n",
      "21.32132132132132  :  0.7440416774166285 0.5766736476691925\n",
      "21.421421421421424  :  0.743727838137668 0.576267574315018\n",
      "21.521521521521525  :  0.7434148250451938 0.5758628529203007\n",
      "21.621621621621625  :  0.7431026307117649 0.5754594725294981\n",
      "21.721721721721725  :  0.7427912478262676 0.5750574223366176\n",
      "21.821821821821825  :  0.7424806691915893 0.5746566916824721\n",
      "21.921921921921925  :  0.7421708877223445 0.574257270052003\n",
      "22.022022022022025  :  0.7418618964426567 0.5738591470716599\n",
      "22.122122122122125  :  0.7415536884839913 0.5734623125068381\n",
      "22.222222222222225  :  0.7412462570830398 0.5730667562593748\n",
      "22.322322322322325  :  0.740939595579654 0.5726724683650988\n",
      "22.422422422422425  :  0.7406336974148273 0.5722794389914349\n",
      "22.522522522522525  :  0.7403285561287236 0.5718876584350611\n",
      "22.622622622622625  :  0.7400241653587512 0.5714971171196137\n",
      "22.722722722722725  :  0.7397205188376818 0.5711078055934493\n",
      "22.822822822822825  :  0.7394176103918125 0.5707197145274461\n",
      "22.922922922922925  :  0.7391154339391692 0.5703328347128598\n",
      "23.023023023023026  :  0.7388139834877512 0.5699471570592224\n",
      "23.123123123123126  :  0.7385132531338165 0.5695626725922861\n",
      "23.223223223223226  :  0.7382132370602048 0.5691793724520112\n",
      "23.323323323323326  :  0.7379139295346987 0.5687972478905977\n",
      "23.423423423423426  :  0.7376153249084216 0.5684162902705563\n",
      "23.523523523523526  :  0.737317417614272 0.5680364910628225\n",
      "23.623623623623626  :  0.7370202021653923 0.5676578418449086\n",
      "23.723723723723726  :  0.7367236731536709 0.5672803342990955\n",
      "23.823823823823826  :  0.7364278252482793 0.56690396021066\n",
      "23.923923923923926  :  0.7361326531942394 0.5665287114661426\n",
      "24.024024024024026  :  0.7358381518110236 0.566154580051648\n",
      "24.124124124124126  :  0.7355443159911861 0.5657815580511802\n",
      "24.224224224224226  :  0.7352511406990212 0.5654096376450161\n",
      "24.324324324324326  :  0.7349586209692555 0.5650388111081068\n",
      "24.424424424424426  :  0.7346667519057635 0.5646690708085151\n",
      "24.524524524524526  :  0.7343755286803149 0.5643004092058841\n",
      "24.624624624624627  :  0.734084946531346 0.5639328188499362\n",
      "24.724724724724727  :  0.7337950007627597 0.5635662923790015\n",
      "24.824824824824827  :  0.7335056867427499 0.5632008225185785\n",
      "24.924924924924927  :  0.7332169999026507 0.5628364020799215\n",
      "25.025025025025027  :  0.7329289357358115 0.5624730239586553\n",
      "25.125125125125127  :  0.7326414897964947 0.5621106811334204\n",
      "25.225225225225227  :  0.7323546576987966 0.5617493666645424\n",
      "25.325325325325327  :  0.7320684351155922 0.5613890736927296\n",
      "25.425425425425427  :  0.7317828177775006 0.5610297954377934\n",
      "25.525525525525527  :  0.7314978014718734 0.5606715251973975\n",
      "25.625625625625627  :  0.731213382041803 0.5603142563458294\n",
      "25.725725725725727  :  0.7309295553851525 0.5599579823327947\n",
      "25.825825825825827  :  0.7306463174536046 0.5596026966822374\n",
      "25.925925925925927  :  0.7303636642517317 0.5592483929911811\n",
      "26.026026026026027  :  0.7300815918360831 0.5588950649285935\n",
      "26.126126126126128  :  0.7298000963142928 0.5585427062342723\n",
      "26.226226226226228  :  0.7295191738442035 0.5581913107177514\n",
      "26.326326326326328  :  0.729238820633012 0.5578408722572309\n",
      "26.426426426426428  :  0.7289590329364266 0.5574913847985241\n",
      "26.526526526526528  :  0.7286798070578466 0.5571428423540266\n",
      "26.626626626626628  :  0.7284011393475556 0.5567952390017019\n",
      "26.726726726726728  :  0.7281230262019318 0.5564485688840926\n",
      "26.826826826826828  :  0.7278454640626738 0.556102826207341\n",
      "26.926926926926928  :  0.7275684494160426 0.5557580052402362\n",
      "27.027027027027028  :  0.7272919787921177 0.555414100313274\n",
      "27.127127127127128  :  0.7270160487640688 0.5550711058177353\n",
      "27.227227227227228  :  0.7267406559474414 0.5547290162047837\n",
      "27.32732732732733  :  0.7264657969994568 0.5543878259845764\n",
      "27.42742742742743  :  0.7261914686183261 0.5540475297253935\n",
      "27.52752752752753  :  0.7259176675425763 0.5537081220527837\n",
      "27.62762762762763  :  0.725644390550392 0.553369597648723\n",
      "27.72772772772773  :  0.7253716344589674 0.5530319512507915\n",
      "27.82782782782783  :  0.7250993961238728 0.5526951776513633\n",
      "27.92792792792793  :  0.724827672438432 0.5523592716968129\n",
      "28.02802802802803  :  0.7245564603331132 0.5520242282867336\n",
      "28.12812812812813  :  0.7242857567749292 0.551690042373171\n",
      "28.22822822822823  :  0.7240155587668526 0.5513567089598705\n"
     ]
    },
    {
     "name": "stdout",
     "output_type": "stream",
     "text": [
      "28.32832832832833  :  0.7237458633472393 0.5510242231015385\n",
      "28.42842842842843  :  0.7234766675892641 0.5506925799031159\n",
      "28.52852852852853  :  0.7232079686003664 0.5503617745190639\n",
      "28.62862862862863  :  0.7229397635217083 0.550031802152664\n",
      "28.72872872872873  :  0.7226720495276405 0.5497026580553299\n",
      "28.82882882882883  :  0.7224048238251797 0.5493743375259303\n",
      "28.92892892892893  :  0.7221380836534956 0.5490468359101259\n",
      "29.02902902902903  :  0.7218718262834076 0.5487201485997144\n",
      "29.12912912912913  :  0.7216060490168903 0.54839427103199\n",
      "29.22922922922923  :  0.7213407491865893 0.5480691986891142\n",
      "29.32932932932933  :  0.7210759241553445 0.5477449270974932\n",
      "29.42942942942943  :  0.7208115713157246 0.5474214518271726\n",
      "29.52952952952953  :  0.7205476880895666 0.5470987684912356\n",
      "29.62962962962963  :  0.7202842719275284 0.546776872745217\n",
      "29.72972972972973  :  0.7200213203086452 0.5464557602865243\n",
      "29.82982982982983  :  0.7197588307398968 0.5461354268538696\n",
      "29.929929929929934  :  0.7194968007557817 0.5458158682267102\n",
      "30.030030030030034  :  0.7192352279178997 0.5454970802246999\n",
      "30.130130130130134  :  0.7189741098145415 0.5451790587071489\n",
      "30.230230230230234  :  0.7187134440602851 0.5448617995724925\n",
      "30.330330330330334  :  0.7184532282956018 0.5445452987577695\n",
      "30.430430430430434  :  0.7181934601864661 0.5442295522381086\n",
      "30.530530530530534  :  0.7179341374239756 0.5439145560262236\n",
      "30.630630630630634  :  0.7176752577239757 0.5436003061719166\n",
      "30.730730730730734  :  0.7174168188266918 0.5432867987615904\n",
      "30.830830830830834  :  0.7171588184963685 0.5429740299177674\n",
      "30.930930930930934  :  0.7169012545209137 0.542661995798619\n",
      "31.031031031031034  :  0.7166441247115509 0.5423506925974984\n",
      "31.131131131131134  :  0.7163874269024764 0.542040116542486\n",
      "31.231231231231234  :  0.7161311589505224 0.5417302638959387\n",
      "31.331331331331334  :  0.7158753187348275 0.5414211309540475\n",
      "31.431431431431434  :  0.7156199041565113 0.5411127140464038\n",
      "31.531531531531535  :  0.7153649131383555 0.5408050095355691\n",
      "31.631631631631635  :  0.7151103436244906 0.540498013816656\n",
      "31.731731731731735  :  0.7148561935800875 0.5401917233169118\n",
      "31.831831831831835  :  0.7146024609910551 0.5398861344953128\n",
      "31.931931931931935  :  0.7143491438637433 0.5395812438421614\n",
      "32.032032032032035  :  0.7140962402246496 0.5392770478786912\n",
      "32.132132132132135  :  0.7138437481201332 0.5389735431566801\n",
      "32.232232232232235  :  0.7135916656161317 0.538670726258065\n",
      "32.332332332332335  :  0.7133399907978836 0.5383685937945679\n",
      "32.432432432432435  :  0.713088721769656 0.538067142407324\n",
      "32.532532532532535  :  0.7128378566544766 0.5377663687665171\n",
      "32.632632632632635  :  0.7125873935938691 0.5374662695710204\n",
      "32.732732732732735  :  0.7123373307475958 0.5371668415480436\n",
      "32.832832832832835  :  0.7120876662934007 0.5368680814527843\n",
      "32.932932932932935  :  0.7118383984267616 0.5365699860680859\n",
      "33.033033033033036  :  0.7115895253606412 0.5362725522040996\n",
      "33.133133133133136  :  0.7113410453252478 0.5359757766979532\n",
      "33.233233233233236  :  0.7110929565677945 0.5356796564134232\n",
      "33.333333333333336  :  0.710845257352267 0.5353841882406134\n",
      "33.433433433433436  :  0.7105979459591933 0.5350893690956366\n",
      "33.533533533533536  :  0.7103510206854162 0.534795195920305\n",
      "33.633633633633636  :  0.7101044798438717 0.5345016656818192\n",
      "33.733733733733736  :  0.7098583217633698 0.5342087753724684\n",
      "33.833833833833836  :  0.709612544788379 0.5339165220093296\n",
      "33.933933933933936  :  0.7093671472788148 0.533624902633975\n",
      "34.034034034034036  :  0.709122127609831 0.5333339143121829\n",
      "34.134134134134136  :  0.7088774841716151 0.533043554133652\n",
      "34.234234234234236  :  0.7086332153691868 0.5327538192117203\n",
      "34.334334334334336  :  0.708389319622199 0.532464706683089\n",
      "34.434434434434436  :  0.7081457953647436 0.5321762137075496\n",
      "34.53453453453454  :  0.7079026410451592 0.5318883374677158\n",
      "34.63463463463464  :  0.707659855125842 0.5316010751687579\n",
      "34.73473473473474  :  0.7074174360830606 0.5313144240381433\n",
      "34.83483483483484  :  0.7071753824067726 0.5310283813253789\n",
      "34.93493493493494  :  0.7069336926004448 0.5307429443017585\n",
      "35.03503503503504  :  0.706692365180877 0.5304581102601127\n",
      "35.13513513513514  :  0.7064513986780265 0.5301738765145634\n",
      "35.23523523523524  :  0.706210791634838 0.5298902404002819\n",
      "35.33533533533534  :  0.7059705426070735 0.5296071992732502\n",
      "35.43543543543544  :  0.7057306501631478 0.5293247505100246\n",
      "35.53553553553554  :  0.7054911128839638 0.529042891507505\n",
      "35.63563563563564  :  0.7052519293627525 0.5287616196827063\n",
      "35.73573573573574  :  0.7050130982049143 0.5284809324725317\n",
      "35.83583583583584  :  0.7047746180278633 0.5282008273335529\n",
      "35.93593593593594  :  0.7045364874608739 0.5279213017417885\n",
      "36.03603603603604  :  0.7042987051449296 0.5276423531924911\n",
      "36.13613613613614  :  0.7040612697325749 0.5273639791999308\n",
      "36.23623623623624  :  0.7038241798877682 0.5270861772971898\n",
      "36.33633633633634  :  0.7035874342857382 0.5268089450359514\n",
      "36.43643643643644  :  0.7033510316128424 0.5265322799862995\n",
      "36.53653653653654  :  0.7031149705664261 0.5262561797365148\n",
      "36.63663663663664  :  0.7028792498546867 0.5259806418928783\n",
      "36.73673673673674  :  0.7026438681965368 0.5257056640794748\n",
      "36.83683683683684  :  0.7024088243214714 0.5254312439380012\n",
      "36.93693693693694  :  0.702174116969437 0.5251573791275745\n",
      "37.03703703703704  :  0.7019397448907017 0.5248840673245471\n",
      "37.13713713713714  :  0.7017057068457278 0.5246113062223183\n",
      "37.23723723723724  :  0.7014720016050469 0.524339093531155\n",
      "37.33733733733734  :  0.7012386279491364 0.52406742697801\n",
      "37.43743743743744  :  0.701005584668297 0.5237963043063454\n",
      "37.53753753753754  :  0.7007728705625339 0.5235257232759576\n",
      "37.63763763763764  :  0.700540484441438 0.5232556816628036\n",
      "37.73773773773774  :  0.7003084251240701 0.5229861772588322\n",
      "37.83783783783784  :  0.7000766914388464 0.5227172078718145\n",
      "37.93793793793794  :  0.6998452822234256 0.52244877132518\n",
      "38.03803803803804  :  0.699614196324597 0.5221808654578508\n",
      "38.13813813813814  :  0.6993834325981723 0.5219134881240816\n",
      "38.23823823823824  :  0.6991529899088772 0.5216466371933008\n",
      "38.33833833833834  :  0.6989228671302448 0.5213803105499527\n",
      "38.43843843843844  :  0.6986930631445112 0.5211145060933431\n",
      "38.53853853853854  :  0.6984635768425124 0.5208492217374855\n",
      "38.63863863863864  :  0.6982344071235822 0.5205844554109513\n",
      "38.73873873873874  :  0.6980055528954529 0.5203202050567205\n",
      "38.83883883883884  :  0.6977770130741554 0.5200564686320339\n",
      "38.93893893893894  :  0.6975487865839232 0.5197932441082495\n",
      "39.03903903903904  :  0.6973208723570954 0.5195305294706987\n",
      "39.13913913913914  :  0.6970932693340232 0.5192683227185446\n",
      "39.23923923923924  :  0.6968659764629759 0.5190066218646432\n",
      "39.33933933933934  :  0.6966389927000499 0.5187454249354064\n",
      "39.43943943943944  :  0.696412317009078 0.5184847299706641\n",
      "39.53953953953954  :  0.6961859483615401 0.5182245350235324\n",
      "39.63963963963964  :  0.6959598857364753 0.5179648381602797\n",
      "39.73973973973974  :  0.6957341281203959 0.5177056374601972\n",
      "39.83983983983984  :  0.6955086745072009 0.5174469310154687\n",
      "39.93993993993994  :  0.6952835238980934 0.5171887169310451\n",
      "40.04004004004004  :  0.6950586753014962 0.5169309933245159\n",
      "40.14014014014014  :  0.694834127732971 0.5166737583259884\n",
      "40.24024024024024  :  0.6946098802151368 0.5164170100779626\n",
      "40.34034034034034  :  0.6943859317775917 0.5161607467352113\n",
      "40.44044044044044  :  0.6941622814568332 0.5159049664646607\n",
      "40.54054054054054  :  0.6939389282961819 0.515649667445272\n",
      "40.64064064064064  :  0.693715871345705 0.5153948478679256\n",
      "40.74074074074074  :  0.6934931096621411 0.5151405059353051\n",
      "40.84084084084084  :  0.6932706423088262 0.5148866398617851\n",
      "40.94094094094094  :  0.6930484683556204 0.5146332478733174\n",
      "41.04104104104104  :  0.6928265868788365 0.5143803282073218\n",
      "41.14114114114114  :  0.6926049969611685 0.5141278791125754\n",
      "41.24124124124124  :  0.6923836976916216 0.5138758988491057\n",
      "41.34134134134134  :  0.6921626881654428 0.5136243856880832\n",
      "41.44144144144144  :  0.6919419674840541 0.5133733379117158\n",
      "41.54154154154154  :  0.6917215347549832 0.5131227538131455\n",
      "41.64164164164164  :  0.6915013890917994 0.5128726316963453\n",
      "41.74174174174174  :  0.6912815296140462 0.5126229698760165\n",
      "41.84184184184184  :  0.6910619554471789 0.5123737666774906\n",
      "41.94194194194194  :  0.6908426657224993 0.5121250204366279\n"
     ]
    },
    {
     "name": "stdout",
     "output_type": "stream",
     "text": [
      "42.04204204204204  :  0.6906236595770936 0.5118767294997211\n",
      "42.14214214214214  :  0.6904049361537707 0.511628892223398\n",
      "42.24224224224224  :  0.6901864946010012 0.5113815069745257\n",
      "42.34234234234234  :  0.6899683340728566 0.511134572130117\n",
      "42.44244244244244  :  0.6897504537289503 0.5108880860772362\n",
      "42.54254254254254  :  0.6895328527343794 0.5106420472129074\n",
      "42.64264264264264  :  0.6893155302596654 0.5103964539440233\n",
      "42.74274274274275  :  0.6890984854806997 0.5101513046872552\n",
      "42.84284284284285  :  0.6888817175786845 0.5099065978689646\n",
      "42.94294294294295  :  0.6886652257400789 0.5096623319251147\n",
      "43.04304304304305  :  0.6884490091565442 0.509418505301183\n",
      "43.14314314314315  :  0.6882330670248886 0.5091751164520772\n",
      "43.24324324324325  :  0.6880173985470152 0.5089321638420492\n",
      "43.34334334334335  :  0.6878020029298686 0.5086896459446113\n",
      "43.44344344344345  :  0.6875868793853828 0.5084475612424544\n",
      "43.54354354354355  :  0.6873720271304307 0.508205908227364\n",
      "43.64364364364365  :  0.6871574453867726 0.5079646854001423\n",
      "43.74374374374375  :  0.6869431333810068 0.5077238912705255\n",
      "43.84384384384385  :  0.6867290903445202 0.5074835243571065\n",
      "43.94394394394395  :  0.6865153155134399 0.5072435831872558\n",
      "44.04404404404405  :  0.6863018081285843 0.507004066297045\n",
      "44.14414414414415  :  0.6860885674354167 0.50676497223117\n",
      "44.24424424424425  :  0.6858755926839981 0.5065262995428754\n",
      "44.34434434434435  :  0.6856628831289411 0.5062880467938808\n",
      "44.44444444444445  :  0.6854504380293641 0.506050212554306\n",
      "44.54454454454455  :  0.6852382566488467 0.5058127954025988\n",
      "44.64464464464465  :  0.685026338255385 0.5055757939254624\n",
      "44.74474474474475  :  0.6848146821213477 0.5053392067177847\n",
      "44.84484484484485  :  0.6846032875234331 0.5051030323825674\n",
      "44.94494494494495  :  0.6843921537426263 0.504867269530857\n",
      "45.04504504504505  :  0.6841812800641567 0.5046319167816745\n",
      "45.14514514514515  :  0.6839706657774565 0.5043969727619493\n",
      "45.24524524524525  :  0.68376031017612 0.50416243610645\n",
      "45.34534534534535  :  0.6835502125578624 0.5039283054577193\n",
      "45.44544544544545  :  0.68334037222448 0.5036945794660068\n",
      "45.54554554554555  :  0.6831307884818105 0.5034612567892056\n",
      "45.64564564564565  :  0.6829214606396941 0.503228336092786\n",
      "45.74574574574575  :  0.6827123880119343 0.5029958160497334\n",
      "45.84584584584585  :  0.6825035699162612 0.5027636953404835\n",
      "45.94594594594595  :  0.6822950056742918 0.5025319726528628\n",
      "46.04604604604605  :  0.682086694611495 0.5023006466820246\n",
      "46.14614614614615  :  0.6818786360571527 0.5020697161303886\n",
      "46.24624624624625  :  0.6816708293443255 0.5018391797075814\n",
      "46.34634634634635  :  0.681463273809816 0.5016090361303766\n",
      "46.44644644644645  :  0.6812559687941331 0.5013792841226345\n",
      "46.54654654654655  :  0.6810489136414577 0.5011499224152466\n",
      "46.64664664664665  :  0.6808421076996078 0.5009209497460754\n",
      "46.74674674674675  :  0.6806355503200051 0.5006923648598985\n",
      "46.84684684684685  :  0.6804292408576402 0.5004641665083518\n",
      "46.94694694694695  :  0.6802231786710407 0.5002363534498736\n",
      "47.04704704704705  :  0.6800173631222366 0.5000089244496501\n",
      "47.14714714714715  :  0.6798117935767302 0.4997818782795599\n",
      "47.24724724724725  :  0.6796064694034616 0.4995552137181202\n",
      "47.34734734734735  :  0.679401389974779 0.49932892955043373\n",
      "47.44744744744745  :  0.6791965546664063 0.4991030245681348\n",
      "47.54754754754755  :  0.6789919628574128 0.49887749756933863\n",
      "47.64764764764765  :  0.6787876139301819 0.498652347358588\n",
      "47.74774774774775  :  0.6785835072703821 0.4984275727468025\n",
      "47.84784784784785  :  0.6783796422669359 0.49820317255122804\n",
      "47.94794794794795  :  0.6781760183119915 0.4979791455953866\n",
      "48.04804804804805  :  0.6779726348008931 0.49775549070902636\n",
      "48.14814814814815  :  0.6777694911321521 0.49753220672807297\n",
      "48.24824824824825  :  0.6775665867074192 0.4973092924945802\n",
      "48.34834834834835  :  0.6773639209314558 0.4970867468566831\n",
      "48.44844844844845  :  0.6771614932121065 0.49686456866854867\n",
      "48.54854854854855  :  0.6769593029602716 0.4966427567903301\n",
      "48.64864864864865  :  0.6767573495898804 0.49642131008811985\n",
      "48.74874874874875  :  0.6765556325178641 0.49620022743390324\n",
      "48.84884884884885  :  0.6763541511641289 0.4959795077055126\n",
      "48.94894894894895  :  0.6761529049515309 0.49575914978658275\n",
      "49.04904904904905  :  0.6759518933058495 0.4955391525665057\n",
      "49.14914914914915  :  0.6757511156557623 0.4953195149403862\n",
      "49.24924924924925  :  0.6755505714328192 0.49510023580899876\n",
      "49.34934934934935  :  0.6753502600714185 0.49488131407874314\n",
      "49.44944944944945  :  0.6751501810087811 0.4946627486616024\n",
      "49.54954954954955  :  0.6749503336849272 0.49444453847509984\n",
      "49.64964964964965  :  0.6747507175426515 0.494226682442257\n",
      "49.74974974974975  :  0.6745513320274996 0.49400917949155176\n",
      "49.84984984984985  :  0.6743521765877443 0.4937920285568781\n",
      "49.94994994994995  :  0.674153250674363 0.4935752285775038\n",
      "50.050050050050054  :  0.6739545537410139 0.4933587784980311\n",
      "50.150150150150154  :  0.6737560852440134 0.49314267726835603\n",
      "50.250250250250254  :  0.6735578446423143 0.4929269238436297\n",
      "50.350350350350354  :  0.6733598313974827 0.49271151718421735\n",
      "50.450450450450454  :  0.6731620449736764 0.49249645625566274\n",
      "50.550550550550554  :  0.6729644848376235 0.492281740028645\n",
      "50.650650650650654  :  0.6727671504586004 0.49206736747894486\n",
      "50.750750750750754  :  0.672570041308411 0.4918533375874049\n",
      "50.850850850850854  :  0.6723731568613652 0.49163964933989246\n",
      "50.950950950950954  :  0.6721764965942587 0.49142630172726287\n",
      "51.051051051051054  :  0.6719800599863525 0.49121329374532263\n",
      "51.151151151151154  :  0.6717838465193515 0.49100062439479375\n",
      "51.251251251251254  :  0.671587855677386 0.49078829268127677\n",
      "51.351351351351354  :  0.671392086946991 0.4905762976152166\n",
      "51.451451451451454  :  0.6711965398170865 0.49036463821186616\n",
      "51.551551551551555  :  0.6710012137789585 0.49015331349125213\n",
      "51.651651651651655  :  0.6708061083262393 0.4899423224781405\n",
      "51.751751751751755  :  0.6706112229548893 0.4897316642020014\n",
      "51.851851851851855  :  0.6704165571631773 0.48952133769697737\n",
      "51.951951951951955  :  0.6702221104516628 0.48931134200184734\n",
      "52.052052052052055  :  0.6700278823231769 0.4891016761599949\n",
      "52.152152152152155  :  0.6698338722828046 0.48889233921937525\n",
      "52.252252252252255  :  0.669640079837867 0.48868333023248245\n",
      "52.352352352352355  :  0.6694465044979028 0.4884746482563167\n",
      "52.452452452452455  :  0.6692531457746513 0.48826629235235375\n",
      "52.552552552552555  :  0.6690600031820353 0.4880582615865109\n",
      "52.652652652652655  :  0.6688670762361429 0.48785055502911867\n",
      "52.752752752752755  :  0.6686743644552118 0.48764317175488736\n",
      "52.852852852852855  :  0.6684818673596109 0.4874361108428763\n",
      "52.952952952952955  :  0.6682895844718257 0.4872293713764656\n",
      "53.053053053053056  :  0.6680975153164396 0.48702295244332383\n",
      "53.153153153153156  :  0.6679056594201194 0.4868168531353776\n",
      "53.253253253253256  :  0.667714016311598 0.4866110725487851\n",
      "53.353353353353356  :  0.6675225855216596 0.48640560978390335\n",
      "53.453453453453456  :  0.6673313665831226 0.48620046394526073\n",
      "53.553553553553556  :  0.6671403590308251 0.48599563414152824\n",
      "53.653653653653656  :  0.6669495624016089 0.4857911194854897\n",
      "53.753753753753756  :  0.6667589762343045 0.48558691909401586\n",
      "53.853853853853856  :  0.6665686000697154 0.48538303208803324\n",
      "53.953953953953956  :  0.6663784334506047 0.48517945759249903\n",
      "54.054054054054056  :  0.6661884759216777 0.4849761947363723\n",
      "54.154154154154156  :  0.6659987270295702 0.4847732426525865\n",
      "54.254254254254256  :  0.6658091863228317 0.4845706004780237\n",
      "54.354354354354356  :  0.6656198533519122 0.48436826735348626\n",
      "54.454454454454456  :  0.665430727669148 0.48416624242367134\n",
      "54.55455455455456  :  0.6652418088287474 0.4839645248371449\n",
      "54.65465465465466  :  0.6650530963867763 0.4837631137463143\n",
      "54.75475475475476  :  0.6648645899011457 0.48356200830740326\n",
      "54.85485485485486  :  0.664676288931597 0.4833612076804271\n",
      "54.95495495495496  :  0.6644881930396892 0.48316071102916547\n",
      "55.05505505505506  :  0.6643003017887849 0.48296051752113933\n",
      "55.15515515515516  :  0.6641126147440379 0.48276062632758443\n",
      "55.25525525525526  :  0.6639251314723797 0.4825610366234273\n",
      "55.35535535535536  :  0.6637378515425068 0.48236174758726147\n",
      "55.45545545545546  :  0.663550774524867 0.4821627584013213\n",
      "55.55555555555556  :  0.6633638999916484 0.48196406825145965\n",
      "55.65565565565566  :  0.6631772275167656 0.4817656763271241\n",
      "55.75575575575576  :  0.6629907566758475 0.4815675818213323\n",
      "55.85585585585586  :  0.6628044870462257 0.4813697839306491\n",
      "55.95595595595596  :  0.6626184182069215 0.48117228185516336\n",
      "56.05605605605606  :  0.6624325497386337 0.4809750747984649\n",
      "56.15615615615616  :  0.6622468812237285 0.48077816196762235\n",
      "56.25625625625626  :  0.6620614122462254 0.480581542573159\n",
      "56.35635635635636  :  0.6618761423917866 0.4803852158290324\n",
      "56.45645645645646  :  0.6616910712477058 0.48018918095261043\n",
      "56.55655655655656  :  0.6615061984028963 0.4799934371646505\n",
      "56.65665665665666  :  0.6613215234478791 0.47979798368927673\n",
      "56.75675675675676  :  0.6611370459747734 0.47960281975395935\n",
      "56.85685685685686  :  0.6609527655772834 0.4794079445894931\n",
      "56.95695695695696  :  0.660768681850689 0.4792133574299746\n",
      "57.05705705705706  :  0.6605847943918339 0.4790190575127832\n"
     ]
    },
    {
     "name": "stdout",
     "output_type": "stream",
     "text": [
      "57.15715715715716  :  0.6604011027991152 0.4788250440785592\n",
      "57.25725725725726  :  0.660217606672473 0.4786313163711827\n",
      "57.35735735735736  :  0.6600343056133791 0.47843787363775425\n",
      "57.45745745745746  :  0.659851199224827 0.47824471512857314\n",
      "57.55755755755756  :  0.6596682871113222 0.4780518400971182\n",
      "57.65765765765766  :  0.6594855688788701 0.4778592478000274\n",
      "57.75775775775776  :  0.6593030441349682 0.4776669374970782\n",
      "57.85785785785786  :  0.6591207124885938 0.4774749084511678\n",
      "57.95795795795796  :  0.6589385735501958 0.4772831599282932\n",
      "58.05805805805806  :  0.6587566269316836 0.47709169119753236\n",
      "58.15815815815816  :  0.6585748722464184 0.47690050153102526\n",
      "58.25825825825826  :  0.6583933091092025 0.4767095902039542\n",
      "58.35835835835836  :  0.6582119371362702 0.47651895649452547\n",
      "58.45845845845846  :  0.6580307559452783 0.4763285996839499\n",
      "58.55855855855856  :  0.657849765155297 0.4761385190564257\n",
      "58.65865865865866  :  0.6576689643868001 0.4759487138991185\n",
      "58.75875875875876  :  0.6574883532616553 0.47575918350214397\n",
      "58.85885885885886  :  0.6573079314031169 0.4755699271585496\n",
      "58.95895895895896  :  0.6571276984358146 0.4753809441642973\n",
      "59.05905905905906  :  0.6569476539857462 0.47519223381824394\n",
      "59.15915915915916  :  0.656767797680267 0.47500379542212556\n",
      "59.25925925925926  :  0.6565881291480831 0.47481562828053947\n",
      "59.35935935935936  :  0.656408648019241 0.4746277317009254\n",
      "59.45945945945946  :  0.6562293539251199 0.47444010499355016\n",
      "59.55955955955956  :  0.6560502464984226 0.47425274747149027\n",
      "59.65965965965966  :  0.6558713253731672 0.474065658450613\n",
      "59.75975975975976  :  0.6556925901846788 0.47387883724956315\n",
      "59.85985985985987  :  0.6555140405695816 0.4736922831897432\n",
      "59.95995995995997  :  0.6553356761657894 0.47350599559529816\n",
      "60.06006006006007  :  0.655157496612499 0.47331997379309887\n",
      "60.16016016016017  :  0.6549795015501809 0.47313421711272596\n",
      "60.26026026026027  :  0.6548016906205716 0.47294872488645423\n",
      "60.36036036036037  :  0.6546240634666667 0.47276349644923454\n",
      "60.46046046046047  :  0.6544466197327111 0.4725785311386814\n",
      "60.56056056056057  :  0.654269359064193 0.4723938282950535\n",
      "60.66066066066067  :  0.6540922811078349 0.47220938726124073\n",
      "60.76076076076077  :  0.653915385511587 0.47202520738274834\n",
      "60.86086086086087  :  0.6537386719246185 0.4718412880076793\n",
      "60.96096096096097  :  0.6535621399973115 0.4716576284867222\n",
      "61.06106106106107  :  0.653385789381252 0.4714742281731348\n",
      "61.16116116116117  :  0.6532096197292236 0.47129108642272777\n",
      "61.26126126126127  :  0.6530336306952 0.4711082025938519\n",
      "61.36136136136137  :  0.6528578219343372 0.47092557604738217\n",
      "61.46146146146147  :  0.6526821931029669 0.47074320614670306\n",
      "61.56156156156157  :  0.6525067438585899 0.4705610922576945\n",
      "61.66166166166167  :  0.6523314738598671 0.47037923374871726\n",
      "61.76176176176177  :  0.6521563827666148 0.4701976299905982\n",
      "61.86186186186187  :  0.6519814702397961 0.47001628035661613\n",
      "61.96196196196197  :  0.6518067359415155 0.4698351842224895\n",
      "62.06206206206207  :  0.6516321795350103 0.46965434096635894\n",
      "62.16216216216217  :  0.6514578006846454 0.469473749968777\n",
      "62.26226226226227  :  0.6512835990559063 0.46929341061269203\n",
      "62.36236236236237  :  0.6511095743153914 0.46911332228343494\n",
      "62.46246246246247  :  0.6509357261308071 0.4689334843687064\n",
      "62.56256256256257  :  0.65076205417096 0.468753896258563\n",
      "62.66266266266267  :  0.6505885581057509 0.4685745573454033\n",
      "62.76276276276277  :  0.6504152376061687 0.46839546702395574\n",
      "62.86286286286287  :  0.6502420923442833 0.4682166246912647\n",
      "62.96296296296297  :  0.6500691219932402 0.46803802974667685\n",
      "63.06306306306307  :  0.6498963262272535 0.4678596815918301\n",
      "63.16316316316317  :  0.6497237047216003 0.46768157963063905\n",
      "63.26326326326327  :  0.6495512571526143 0.4675037232692828\n",
      "63.36336336336337  :  0.6493789831976795 0.4673261119161922\n",
      "63.46346346346347  :  0.6492068825352248 0.46714874498203784\n",
      "63.56356356356357  :  0.6490349548447176 0.46697162187971675\n",
      "63.66366366366367  :  0.6488631998066577 0.46679474202434057\n",
      "63.76376376376377  :  0.6486916171025721 0.46661810483322286\n",
      "63.86386386386387  :  0.6485202064150082 0.46644170972586774\n",
      "63.96396396396397  :  0.6483489674275292 0.4662655561239568\n",
      "64.06406406406407  :  0.6481778998247074 0.4660896434513375\n",
      "64.16416416416416  :  0.6480070032921191 0.46591397113401145\n",
      "64.26426426426427  :  0.6478362775163387 0.46573853860012215\n",
      "64.36436436436436  :  0.6476657221849333 0.46556334527994436\n",
      "64.46446446446447  :  0.6474953369864571 0.46538839060587023\n",
      "64.56456456456456  :  0.6473251216104458 0.46521367401240044\n",
      "64.66466466466467  :  0.6471550757474112 0.4650391949361309\n",
      "64.76476476476476  :  0.6469851990888361 0.46486495281574114\n",
      "64.86486486486487  :  0.6468154913271686 0.46469094709198544\n",
      "64.96496496496496  :  0.646645952155817 0.46451717720767793\n",
      "65.06506506506507  :  0.6464765812691444 0.46434364260768446\n",
      "65.16516516516516  :  0.6463073783624639 0.46417034273891034\n",
      "65.26526526526527  :  0.6461383431320322 0.46399727705028937\n",
      "65.36536536536536  :  0.6459694752750466 0.4638244449927732\n",
      "65.46546546546547  :  0.6458007744896375 0.4636518460193203\n",
      "65.56556556556556  :  0.6456322404748656 0.4634794795848851\n",
      "65.66566566566567  :  0.6454638729307147 0.4633073451464077\n",
      "65.76576576576576  :  0.6452956715580889 0.4631354421628028\n",
      "65.86586586586587  :  0.6451276360588059 0.4629637700949498\n",
      "65.96596596596596  :  0.6449597661355935 0.4627923284056822\n",
      "66.06606606606607  :  0.6447920614920833 0.4626211165597761\n",
      "66.16616616616616  :  0.6446245218328077 0.46245013402394197\n",
      "66.26626626626627  :  0.6444571468631934 0.4622793802668128\n",
      "66.36636636636636  :  0.6442899362895578 0.4621088547589346\n",
      "66.46646646646647  :  0.6441228898191035 0.4619385569727559\n",
      "66.56656656656656  :  0.6439560071599146 0.4617684863826187\n",
      "66.66666666666667  :  0.6437892880209515 0.46159864246474747\n",
      "66.76676676676676  :  0.6436227321120459 0.46142902469724\n",
      "66.86686686686687  :  0.6434563391438974 0.4612596325600573\n",
      "66.96696696696696  :  0.643290108828068 0.46109046553501376\n",
      "67.06706706706707  :  0.643124040876978 0.46092152310576784\n",
      "67.16716716716716  :  0.6429581350039016 0.4607528047578121\n",
      "67.26726726726727  :  0.6427923909229625 0.46058430997846445\n",
      "67.36736736736736  :  0.6426268083491291 0.46041603825685784\n",
      "67.46746746746747  :  0.6424613869982112 0.46024798908393105\n",
      "67.56756756756756  :  0.6422961265868548 0.46008016195241985\n",
      "67.66766766766767  :  0.6421310268325378 0.45991255635684736\n",
      "67.76776776776777  :  0.6419660874535664 0.4597451717935148\n",
      "67.86786786786787  :  0.6418013081690706 0.4595780077604925\n",
      "67.96796796796797  :  0.6416366886989997 0.4594110637576114\n",
      "68.06806806806807  :  0.641472228764119 0.45924433928645303\n",
      "68.16816816816817  :  0.6413079280860046 0.45907783385034084\n",
      "68.26826826826827  :  0.6411437863870402 0.458911546954332\n",
      "68.36836836836838  :  0.6409798033904128 0.45874547810520827\n",
      "68.46846846846847  :  0.6408159788201087 0.45857962681146636\n",
      "68.56856856856858  :  0.6406523124009094 0.45841399258331095\n",
      "68.66866866866867  :  0.6404888038583876 0.4582485749326445\n",
      "68.76876876876878  :  0.640325452918904 0.45808337337305927\n",
      "68.86886886886887  :  0.6401622593096024 0.4579183874198295\n",
      "68.96896896896898  :  0.6399992227584061 0.45775361658990144\n",
      "69.06906906906907  :  0.6398363429940148 0.4575890604018863\n",
      "69.16916916916918  :  0.6396736197459003 0.45742471837605114\n",
      "69.26926926926927  :  0.6395110527443022 0.4572605900343111\n",
      "69.36936936936938  :  0.6393486417202248 0.4570966749002211\n",
      "69.46946946946947  :  0.6391863864054338 0.45693297249896725\n",
      "69.56956956956958  :  0.6390242865324515 0.4567694823573587\n",
      "69.66966966966967  :  0.6388623418345538 0.45660620400382\n",
      "69.76976976976978  :  0.6387005520457669 0.4564431369683839\n",
      "69.86986986986987  :  0.6385389169008631 0.456280280782681\n",
      "69.96996996996998  :  0.6383774361353569 0.4561176349799344\n",
      "70.07007007007007  :  0.6382161094855027 0.4559551990949503\n",
      "70.17017017017018  :  0.6380549366882902 0.45579297266411034\n",
      "70.27027027027027  :  0.6378939174814413 0.4556309552253651\n",
      "70.37037037037038  :  0.6377330516034065 0.45546914631822466\n",
      "70.47047047047047  :  0.637572338793362 0.4553075454837523\n",
      "70.57057057057058  :  0.637411778791205 0.45514615226455624\n",
      "70.67067067067067  :  0.6372513713375518 0.454984966204782\n",
      "70.77077077077078  :  0.6370911161737335 0.4548239868501053\n",
      "70.87087087087087  :  0.6369310130417931 0.454663213747725\n",
      "70.97097097097098  :  0.6367710616844813 0.45450264644635463\n",
      "71.07107107107107  :  0.6366112618452548 0.4543422844962156\n",
      "71.17117117117118  :  0.6364516132682718 0.4541821274490305\n",
      "71.27127127127127  :  0.6362921156983887 0.45402217485801455\n",
      "71.37137137137138  :  0.6361327688811576 0.45386242627786977\n",
      "71.47147147147147  :  0.6359735725628228 0.45370288126477665\n",
      "71.57157157157158  :  0.6358145264903173 0.4535435393763877\n",
      "71.67167167167167  :  0.6356556304112599 0.4533844001718209\n",
      "71.77177177177178  :  0.6354968840739523 0.45322546321165114\n",
      "71.87187187187187  :  0.6353382872273757 0.45306672805790493\n",
      "71.97197197197198  :  0.6351798396211874 0.45290819427405193\n",
      "72.07207207207207  :  0.6350215410057187 0.4527498614249996\n",
      "72.17217217217218  :  0.6348633911319705 0.45259172907708534\n",
      "72.27227227227228  :  0.6347053897516117 0.45243379679806983\n",
      "72.37237237237238  :  0.634547536616975 0.4522760641571306\n",
      "72.47247247247248  :  0.6343898314810551 0.4521185307248555\n"
     ]
    },
    {
     "name": "stdout",
     "output_type": "stream",
     "text": [
      "72.57257257257258  :  0.634232274097504 0.4519611960732344\n",
      "72.67267267267268  :  0.6340748642206302 0.45180405977565585\n",
      "72.77277277277278  :  0.6339176016053941 0.4516471214068971\n",
      "72.87287287287288  :  0.6337604860074058 0.4514903805431193\n",
      "72.97297297297298  :  0.6336035171829223 0.4513338367618609\n",
      "73.07307307307308  :  0.633446694888844 0.45117748964203064\n",
      "73.17317317317318  :  0.6332900188827129 0.45102133876390216\n",
      "73.27327327327328  :  0.6331334889227088 0.4508653837091062\n",
      "73.37337337337338  :  0.6329771047676471 0.45070962406062565\n",
      "73.47347347347348  :  0.6328208661769759 0.4505540594027885\n",
      "73.57357357357358  :  0.6326647729107725 0.4503986893212615\n",
      "73.67367367367368  :  0.6325088247297421 0.4502435134030439\n",
      "73.77377377377378  :  0.632353021395214 0.45008853123646286\n",
      "73.87387387387388  :  0.6321973626691391 0.44993374241116457\n",
      "73.97397397397398  :  0.6320418483140868 0.44977914651811046\n",
      "74.07407407407408  :  0.631886478093244 0.44962474314957\n",
      "74.17417417417418  :  0.6317312517704101 0.4494705318991151\n",
      "74.27427427427428  :  0.6315761691099959 0.44931651236161396\n",
      "74.37437437437438  :  0.631421229877021 0.4491626841332249\n",
      "74.47447447447448  :  0.6312664338371101 0.4490090468113913\n",
      "74.57457457457458  :  0.6311117807564918 0.4488555999948345\n",
      "74.67467467467468  :  0.6309572704019946 0.44870234328354897\n",
      "74.77477477477478  :  0.6308029025410458 0.44854927627879637\n",
      "74.87487487487488  :  0.6306486769416678 0.4483963985830991\n",
      "74.97497497497498  :  0.6304945933724764 0.4482437098002353\n",
      "75.07507507507508  :  0.6303406516026776 0.44809120953523307\n",
      "75.17517517517518  :  0.6301868514020658 0.4479388973943642\n",
      "75.27527527527528  :  0.6300331925410205 0.44778677298513914\n",
      "75.37537537537538  :  0.6298796747905051 0.44763483591630193\n",
      "75.47547547547548  :  0.6297262979220632 0.4474830857978227\n",
      "75.57557557557558  :  0.6295730617078168 0.4473315222408948\n",
      "75.67567567567568  :  0.6294199659204639 0.4471801448579269\n",
      "75.77577577577578  :  0.6292670103332758 0.4470289532625388\n",
      "75.87587587587588  :  0.6291141947200953 0.4468779470695563\n",
      "75.97597597597598  :  0.6289615188553337 0.4467271258950045\n",
      "76.07607607607608  :  0.6288089825139689 0.4465764893561044\n",
      "76.17617617617618  :  0.6286565854715427 0.44642603707126516\n",
      "76.27627627627628  :  0.628504327504159 0.4462757686600807\n",
      "76.37637637637638  :  0.6283522083884809 0.4461256837433235\n",
      "76.47647647647648  :  0.6282002279017295 0.4459757819429404\n",
      "76.57657657657658  :  0.6280483858216799 0.44582606288204574\n",
      "76.67667667667668  :  0.6278966819266603 0.4456765261849178\n",
      "76.77677677677679  :  0.6277451159955496 0.4455271714769925\n",
      "76.87687687687688  :  0.6275936878077746 0.44537799838485925\n",
      "76.97697697697699  :  0.6274423971433087 0.4452290065362552\n",
      "77.07707707707708  :  0.6272912437826684 0.44508019556006073\n",
      "77.17717717717719  :  0.6271402275069127 0.4449315650862934\n",
      "77.27727727727728  :  0.6269893480976394 0.44478311474610444\n",
      "77.37737737737739  :  0.6268386053369841 0.44463484417177257\n",
      "77.47747747747748  :  0.6266879990076173 0.4444867529966998\n",
      "77.57757757757759  :  0.6265375288927431 0.4443388408554061\n",
      "77.67767767767768  :  0.6263871947760957 0.4441911073835251\n",
      "77.77777777777779  :  0.6262369964419392 0.44404355221779856\n",
      "77.87787787787788  :  0.6260869336750639 0.4438961749960715\n",
      "77.97797797797799  :  0.6259370062607847 0.4437489753572883\n",
      "78.07807807807808  :  0.6257872139849397 0.44360195294148774\n",
      "78.17817817817819  :  0.625637556633887 0.4434551073897971\n",
      "78.27827827827828  :  0.6254880339945037 0.443308438344429\n",
      "78.37837837837839  :  0.6253386458541831 0.44316194544867527\n",
      "78.47847847847848  :  0.6251893920008333 0.4430156283469042\n",
      "78.57857857857859  :  0.625040272222875 0.44286948668455406\n",
      "78.67867867867868  :  0.6248912863092391 0.44272352010812954\n",
      "78.77877877877879  :  0.6247424340493652 0.44257772826519637\n",
      "78.87887887887888  :  0.6245937152331997 0.4424321108043783\n",
      "78.97897897897899  :  0.6244451296511935 0.4422866673753503\n",
      "79.07907907907908  :  0.6242966770943001 0.44214139762883653\n",
      "79.17917917917919  :  0.6241483573539741 0.44199630121660427\n",
      "79.27927927927928  :  0.6240001702221685 0.4418513777914599\n",
      "79.37937937937939  :  0.6238521154913339 0.4417066270072446\n",
      "79.47947947947948  :  0.6237041929544154 0.44156204851882963\n",
      "79.57957957957959  :  0.6235564024048517 0.4414176419821131\n",
      "79.67967967967968  :  0.6234087436365723 0.4412734070540132\n",
      "79.77977977977979  :  0.6232612164439968 0.44112934339246723\n",
      "79.87987987987988  :  0.623113820622032 0.4409854506564246\n",
      "79.97997997997999  :  0.6229665559660705 0.44084172850584336\n",
      "80.08008008008008  :  0.6228194222719892 0.4406981766016863\n",
      "80.18018018018019  :  0.6226724193361466 0.4405547946059173\n",
      "80.28028028028028  :  0.6225255469553818 0.4404115821814949\n",
      "80.38038038038039  :  0.6223788049270125 0.44026853899237095\n",
      "80.48048048048048  :  0.622232193048833 0.440125664703485\n",
      "80.58058058058059  :  0.6220857111191126 0.4399829589807589\n",
      "80.68068068068068  :  0.621939358936594 0.4398404214910965\n",
      "80.78078078078079  :  0.621793136300491 0.4396980519023749\n",
      "80.88088088088088  :  0.6216470430104877 0.4395558498834442\n",
      "80.98098098098099  :  0.6215010788667352 0.4394138151041218\n",
      "81.08108108108108  :  0.6213552436698517 0.4392719472351879\n",
      "81.18118118118119  :  0.6212095372209198 0.4391302459483827\n",
      "81.28128128128128  :  0.6210639593214848 0.4389887109164018\n",
      "81.38138138138139  :  0.620918509773553 0.43884734181289264\n",
      "81.48148148148148  :  0.6207731883795904 0.4387061383124503\n",
      "81.58158158158159  :  0.6206279949425209 0.43856510009061267\n",
      "81.68168168168168  :  0.6204829292657241 0.43842422682385884\n",
      "81.78178178178179  :  0.6203379911530343 0.43828351818960376\n",
      "81.88188188188188  :  0.6201931804087389 0.43814297386619405\n",
      "81.98198198198199  :  0.620048496837576 0.4380025935329048\n",
      "82.08208208208208  :  0.6199039402447335 0.43786237686993634\n",
      "82.18218218218219  :  0.6197595104358472 0.43772232355840934\n",
      "82.28228228228228  :  0.6196152072169993 0.4375824332803616\n",
      "82.38238238238239  :  0.6194710303947166 0.43744270571874466\n",
      "82.48248248248248  :  0.6193269797759693 0.43730314055741915\n",
      "82.58258258258259  :  0.6191830551681685 0.4371637374811522\n",
      "82.68268268268268  :  0.6190392563791662 0.43702449617561356\n",
      "82.78278278278279  :  0.6188955832172522 0.43688541632737043\n",
      "82.88288288288288  :  0.6187520354911533 0.4367464976238866\n",
      "82.98298298298299  :  0.6186086130100318 0.43660773975351597\n",
      "83.08308308308308  :  0.6184653155834834 0.43646914240550116\n",
      "83.18318318318319  :  0.6183221430215364 0.43633070526996875\n",
      "83.28328328328328  :  0.6181790951346497 0.4361924280379261\n",
      "83.38338338338339  :  0.6180361717337115 0.4360543104012583\n",
      "83.48348348348348  :  0.6178933726300372 0.43591635205272283\n",
      "83.58358358358359  :  0.6177506976353693 0.4357785526859488\n",
      "83.68368368368368  :  0.6176081465618741 0.4356409119954312\n",
      "83.78378378378379  :  0.6174657192221418 0.43550342967652866\n",
      "83.88388388388388  :  0.6173234154291842 0.4353661054254594\n",
      "83.98398398398399  :  0.6171812349964332 0.4352289389392986\n",
      "84.08408408408408  :  0.61703917773774 0.4350919299159739\n",
      "84.18418418418419  :  0.6168972434673722 0.4349550780542625\n",
      "84.28428428428428  :  0.6167554320000145 0.4348183830537886\n",
      "84.38438438438439  :  0.6166137431507657 0.43468184461501913\n",
      "84.48448448448448  :  0.6164721767351373 0.43454546243925973\n",
      "84.58458458458459  :  0.6163307325690531 0.4344092362286537\n",
      "84.68468468468468  :  0.6161894104688469 0.43427316568617613\n",
      "84.78478478478479  :  0.6160482102512611 0.4341372505156331\n",
      "84.88488488488488  :  0.615907131733446 0.4340014904216555\n",
      "84.98498498498499  :  0.6157661747329577 0.4338658851096995\n",
      "85.08508508508508  :  0.6156253390677571 0.4337304342860395\n",
      "85.18518518518519  :  0.6154846245562082 0.43359513765776736\n",
      "85.28528528528528  :  0.6153440310170775 0.4334599949327893\n",
      "85.38538538538539  :  0.6152035582695317 0.4333250058198208\n",
      "85.4854854854855  :  0.6150632061331365 0.4331901700283851\n",
      "85.58558558558559  :  0.614922974427856 0.4330554872688098\n",
      "85.6856856856857  :  0.6147828629740508 0.43292095725222324\n",
      "85.78578578578579  :  0.6146428715924763 0.4327865796905517\n",
      "85.8858858858859  :  0.6145030001042823 0.4326523542965166\n",
      "85.98598598598599  :  0.6143632483310109 0.43251828078363064\n",
      "86.0860860860861  :  0.6142236160945955 0.4323843588661953\n",
      "86.18618618618619  :  0.6140841032173597 0.4322505882592983\n",
      "86.2862862862863  :  0.6139447095220155 0.4321169686788092\n",
      "86.38638638638639  :  0.6138054348316624 0.43198349984137707\n",
      "86.4864864864865  :  0.613666278969786 0.43185018146442866\n",
      "86.58658658658659  :  0.6135272417602569 0.4317170132661634\n",
      "86.6866866866867  :  0.6133883230273287 0.43158399496555166\n",
      "86.78678678678679  :  0.613249522595638 0.4314511262823313\n",
      "86.8868868868869  :  0.6131108402902021 0.4313184069370053\n",
      "86.98698698698699  :  0.612972275936418 0.4311858366508383\n",
      "87.0870870870871  :  0.6128338293600611 0.43105341514585427\n",
      "87.18718718718719  :  0.6126955003872847 0.43092114214483257\n",
      "87.2872872872873  :  0.6125572888446178 0.4307890173713056\n",
      "87.38738738738739  :  0.6124191945589639 0.43065704054955767\n",
      "87.4874874874875  :  0.6122812173576004 0.4305252114046184\n",
      "87.58758758758759  :  0.6121433570681777 0.43039352966226363\n",
      "87.6876876876877  :  0.6120056135187163 0.4302619950490103\n"
     ]
    },
    {
     "name": "stdout",
     "output_type": "stream",
     "text": [
      "87.78778778778779  :  0.6118679865376077 0.4301306072921144\n",
      "87.8878878878879  :  0.6117304759536113 0.42999936611956835\n",
      "87.98798798798799  :  0.6115930815958548 0.4298682712600981\n",
      "88.0880880880881  :  0.611455803293832 0.4297373224431599\n",
      "88.18818818818819  :  0.6113186408774022 0.42960651939893824\n",
      "88.2882882882883  :  0.6111815941767882 0.42947586185834263\n",
      "88.38838838838839  :  0.6110446630225765 0.42934534955300563\n",
      "88.4884884884885  :  0.6109078472457149 0.4292149822152783\n",
      "88.58858858858859  :  0.6107711466775116 0.42908475957823033\n",
      "88.6886886886887  :  0.6106345611496347 0.42895468137564485\n",
      "88.78878878878879  :  0.6104980904941104 0.4288247473420169\n",
      "88.8888888888889  :  0.6103617345433219 0.42869495721255046\n",
      "88.988988988989  :  0.6102254931300086 0.42856531072315673\n",
      "89.0890890890891  :  0.6100893660872648 0.4284358076104495\n",
      "89.1891891891892  :  0.6099533532485388 0.42830644761174474\n",
      "89.2892892892893  :  0.6098174544476308 0.42817723046505685\n",
      "89.3893893893894  :  0.6096816695186934 0.42804815590909573\n",
      "89.4894894894895  :  0.6095459982962292 0.4279192236832654\n",
      "89.5895895895896  :  0.6094104406150904 0.42779043352766044\n",
      "89.6896896896897  :  0.6092749963104771 0.4276617851830633\n",
      "89.7897897897898  :  0.6091396652179368 0.42753327839094346\n",
      "89.8898898898899  :  0.6090044471733631 0.42740491289345217\n",
      "89.98998998999  :  0.6088693420129945 0.42727668843342215\n",
      "90.0900900900901  :  0.6087343495734134 0.4271486047543651\n",
      "90.1901901901902  :  0.6085994696915452 0.42702066160046726\n",
      "90.2902902902903  :  0.608464702204657 0.42689285871658855\n",
      "90.3903903903904  :  0.6083300469503563 0.42676519584826\n",
      "90.4904904904905  :  0.6081955037665909 0.42663767274168074\n",
      "90.5905905905906  :  0.6080610724916469 0.426510289143716\n",
      "90.6906906906907  :  0.6079267529641477 0.4263830448018944\n",
      "90.7907907907908  :  0.6077925450230541 0.4262559394644059\n",
      "90.8908908908909  :  0.6076584485076613 0.42612897288009843\n",
      "90.990990990991  :  0.6075244632575998 0.4260021447984773\n",
      "91.0910910910911  :  0.6073905891128331 0.4258754549697008\n",
      "91.1911911911912  :  0.6072568259136574 0.42574890314457914\n",
      "91.2912912912913  :  0.6071231735007001 0.4256224890745721\n",
      "91.3913913913914  :  0.6069896317149195 0.4254962125117854\n",
      "91.4914914914915  :  0.6068562003976024 0.4253700732089696\n",
      "91.5915915915916  :  0.606722879390365 0.42524407091951844\n",
      "91.6916916916917  :  0.60658966853515 0.4251182053974639\n",
      "91.7917917917918  :  0.6064565676742273 0.4249924763974767\n",
      "91.8918918918919  :  0.6063235766501914 0.42486688367486203\n",
      "91.991991991992  :  0.6061906953059624 0.42474142698555906\n",
      "92.0920920920921  :  0.6060579234847825 0.42461610608613654\n",
      "92.1921921921922  :  0.6059252610302173 0.424490920733793\n",
      "92.2922922922923  :  0.6057927077861538 0.42436587068635134\n",
      "92.3923923923924  :  0.6056602635967991 0.4242409557022603\n",
      "92.4924924924925  :  0.6055279283066806 0.4241161755405898\n",
      "92.5925925925926  :  0.6053957017606435 0.4239915299610283\n",
      "92.6926926926927  :  0.6052635838038516 0.4238670187238831\n",
      "92.7927927927928  :  0.6051315742817845 0.42374264159007546\n",
      "92.8928928928929  :  0.6049996730402383 0.42361839832114034\n",
      "92.992992992993  :  0.6048678799253238 0.42349428867922323\n",
      "93.0930930930931  :  0.6047361947834653 0.4233703124270781\n",
      "93.1931931931932  :  0.6046046174614004 0.42324646932806553\n",
      "93.2932932932933  :  0.6044731478061791 0.4231227591461506\n",
      "93.3933933933934  :  0.6043417856651621 0.42299918164590034\n",
      "93.4934934934935  :  0.6042105308860203 0.422875736592481\n",
      "93.5935935935936  :  0.6040793833167339 0.4227524237516589\n",
      "93.6936936936937  :  0.603948342805592 0.42262924288979464\n",
      "93.7937937937938  :  0.6038174092011902 0.42250619377384235\n",
      "93.8938938938939  :  0.6036865823524318 0.42238327617134863\n",
      "93.993993993994  :  0.6035558621085251 0.4222604898504496\n",
      "94.0940940940941  :  0.603425248318983 0.42213783457986864\n",
      "94.1941941941942  :  0.6032947408336232 0.4220153101289146\n",
      "94.2942942942943  :  0.6031643395025655 0.42189291626747993\n",
      "94.3943943943944  :  0.6030340441762325 0.4217706527660382\n",
      "94.4944944944945  :  0.6029038547053474 0.42164851939564263\n",
      "94.5945945945946  :  0.6027737709409341 0.4215265159279238\n",
      "94.6946946946947  :  0.6026437927343162 0.42140464213508755\n",
      "94.7947947947948  :  0.6025139199371159 0.42128289778991257\n",
      "94.8948948948949  :  0.6023841524012525 0.4211612826657498\n",
      "94.994994994995  :  0.6022544899789435 0.421039796536519\n",
      "95.0950950950951  :  0.6021249325227009 0.42091843917670735\n",
      "95.1951951951952  :  0.6019954798853332 0.42079721036136764\n",
      "95.2952952952953  :  0.6018661319199425 0.42067610986611603\n",
      "95.3953953953954  :  0.6017368884799248 0.4205551374671307\n",
      "95.4954954954955  :  0.6016077494189687 0.420434292941148\n",
      "95.5955955955956  :  0.6014787145910543 0.4203135760654638\n",
      "95.6956956956957  :  0.6013497838504531 0.4201929866179286\n",
      "95.7957957957958  :  0.6012209570517267 0.4200725243769472\n",
      "95.8958958958959  :  0.6010922340497258 0.4199521891214757\n",
      "95.995995995996  :  0.6009636146995898 0.4198319806310211\n",
      "96.0960960960961  :  0.6008350988567457 0.4197118986856385\n",
      "96.1961961961962  :  0.6007066863769075 0.41959194306592873\n",
      "96.2962962962963  :  0.6005783771160751 0.4194721135530374\n",
      "96.3963963963964  :  0.6004501709305338 0.4193524099286523\n",
      "96.4964964964965  :  0.6003220676768533 0.41923283197500283\n",
      "96.5965965965966  :  0.6001940672118868 0.4191133794748565\n",
      "96.6966966966967  :  0.6000661693927705 0.4189940522115183\n",
      "96.7967967967968  :  0.5999383740769227 0.4188748499688282\n",
      "96.8968968968969  :  0.5998106811220427 0.4187557725311597\n",
      "96.996996996997  :  0.5996830903861103 0.4186368196834177\n",
      "97.0970970970971  :  0.5995556017273855 0.41851799121103705\n",
      "97.1971971971972  :  0.5994282150044066 0.4183992868999813\n",
      "97.2972972972973  :  0.5993009300759897 0.41828070653673877\n",
      "97.3973973973974  :  0.5991737468012294 0.41816224990832374\n",
      "97.4974974974975  :  0.5990466650394957 0.41804391680227215\n",
      "97.5975975975976  :  0.5989196846504349 0.4179257070066409\n",
      "97.6976976976977  :  0.5987928054939685 0.41780762031000707\n",
      "97.7977977977978  :  0.5986660274302917 0.41768965650146395\n",
      "97.8978978978979  :  0.5985393503198739 0.41757181537062127\n",
      "97.997997997998  :  0.5984127740234566 0.4174540967076028\n",
      "98.0980980980981  :  0.5982862984020535 0.4173365003030439\n",
      "98.1981981981982  :  0.5981599233169497 0.4172190259480907\n",
      "98.2982982982983  :  0.5980336486297007 0.41710167343439863\n",
      "98.3983983983984  :  0.5979074742021313 0.41698444255413003\n",
      "98.4984984984985  :  0.5977813998963362 0.4168673330999523\n",
      "98.5985985985986  :  0.5976554255746773 0.4167503448650366\n",
      "98.6986986986987  :  0.5975295510997848 0.41663347764305714\n",
      "98.7987987987988  :  0.5974037763345554 0.41651673122818733\n",
      "98.8988988988989  :  0.597278101142152 0.41640010541509986\n",
      "98.998998998999  :  0.5971525253860024 0.41628359999896436\n",
      "99.0990990990991  :  0.5970270489297991 0.4161672147754465\n",
      "99.1991991991992  :  0.5969016716374993 0.41605094954070465\n",
      "99.2992992992993  :  0.5967763933733222 0.4159348040913904\n",
      "99.3993993993994  :  0.5966512140017501 0.4158187782246454\n",
      "99.4994994994995  :  0.5965261333875268 0.41570287173809994\n",
      "99.5995995995996  :  0.5964011513956573 0.4155870844298727\n",
      "99.6996996996997  :  0.5962762678914066 0.4154714160985663\n",
      "99.7997997997998  :  0.5961514827402997 0.4153558665432694\n",
      "99.8998998998999  :  0.5960267958081202 0.41524043556355195\n",
      "100.0  :  0.5959022069609099 0.41512512295946546\n"
     ]
    }
   ],
   "source": [
    "# 연습\n",
    "\n",
    "import numpy as np\n",
    "np.linspace(0, 1, 11)\n",
    "\n",
    "for i in np.linspace(0, 100, 1000) :\n",
    "    ridgeTest = Ridge(alpha=i).fit(X_train, y_train)\n",
    "    print(i,' : ', ridgeTest.score(X_train, y_train), ridgeTest.score(X_test, y_test))"
   ]
  },
  {
   "cell_type": "code",
   "execution_count": 38,
   "id": "102d44ef",
   "metadata": {},
   "outputs": [
    {
     "data": {
      "text/plain": [
       "<matplotlib.legend.Legend at 0x268d8ca3a30>"
      ]
     },
     "execution_count": 38,
     "metadata": {},
     "output_type": "execute_result"
    },
    {
     "data": {
      "image/png": "[encoded data removed]",
      "text/plain": [
       "<Figure size 432x288 with 1 Axes>"
      ]
     },
     "metadata": {
      "needs_background": "light"
     },
     "output_type": "display_data"
    }
   ],
   "source": [
    "plt.plot(ridge.coef_, 's', label='Ridge')\n",
    "plt.plot(ridge10.coef_, '^', label='Ridge10')\n",
    "plt.plot(ridge01.coef_, 'v', label='Ridge01')\n",
    "plt.legend()"
   ]
  },
  {
   "cell_type": "markdown",
   "id": "2eb373f1",
   "metadata": {},
   "source": [
    "결과를 예측할 때 제약을 10 걸었더니 데이터에서 튀는 데이터가 많이 없는 것을 볼 수 있다.<br/>\n",
    "0.1을 걸었더니 제약이 풀리면서 범위가 훨씬 넓어졌다.<br/>\n",
    "높은 alpha 값은 제약이 더 많은 모델이므로 작은 alpha 값 보다 coef_ 절대값의 크기가 작을 것이라고 예상\n",
    "\n",
    "### 제약을 얼마나 거냐에 따라 예측되는 데이터의 편차가 벌어지는 지가 달라진다.\n",
    "#### 규제를 이해하는 방법은 alpha 값을 고정하고 훈련 데이터의 크기를 변화시켜 본다."
   ]
  },
  {
   "cell_type": "markdown",
   "id": "1f55614c",
   "metadata": {},
   "source": [
    "## Lasso / 라쏘 회귀\n",
    "- 선형회귀에서 규제를 적용하는 데 Ridge의 대안으로 Lasso가 있다.\n",
    "- 계수를 0에 가깝게 만들려고 한다.\n",
    "- 방식이 조금 다르고 이를 L1 규제라고 한다."
   ]
  },
  {
   "cell_type": "code",
   "execution_count": 71,
   "id": "5b64bed3",
   "metadata": {
    "scrolled": true
   },
   "outputs": [
    {
     "name": "stdout",
     "output_type": "stream",
     "text": [
      "0.29323768991114607\n",
      "0.20937503255272294\n",
      "4\n"
     ]
    }
   ],
   "source": [
    "from sklearn.linear_model import Lasso\n",
    "\n",
    "lasso = Lasso().fit(X_train, y_train)\n",
    "\n",
    "print(lasso.score(X_train, y_train))\n",
    "print(lasso.score(X_test, y_test))\n",
    "print(np.sum(lasso.coef_ != 0))"
   ]
  },
  {
   "cell_type": "markdown",
   "id": "ac38b50e",
   "metadata": {},
   "source": [
    "Lasso는 훈련 셋과 결과 셋 모두 점수가 좋지 않다.<br/>\n",
    "사용한 특성의 개수도 4개로 과소적합이다.<br/>\n",
    "과소적합을 줄이려면 alpha 값을 줄여본다.<br/>\n",
    "그러면 반복 실행하는 최대 횟수인 max_iter의 기본값을 늘려야한다. 늘리지않으면 경고가 뜬다."
   ]
  },
  {
   "cell_type": "code",
   "execution_count": 75,
   "id": "69dd9452",
   "metadata": {},
   "outputs": [
    {
     "name": "stdout",
     "output_type": "stream",
     "text": [
      "0.8962226511086497\n",
      "0.7656571174549983\n",
      "33\n"
     ]
    }
   ],
   "source": [
    "lasso001 = Lasso(alpha=0.01, max_iter=100000).fit(X_train, y_train)\n",
    "print(lasso001.score(X_train, y_train))\n",
    "print(lasso001.score(X_test, y_test))\n",
    "print(np.sum(lasso001.coef_ != 0))"
   ]
  },
  {
   "cell_type": "code",
   "execution_count": 76,
   "id": "ebad810c",
   "metadata": {},
   "outputs": [
    {
     "name": "stdout",
     "output_type": "stream",
     "text": [
      "0.9507158754515467\n",
      "0.6437467421272709\n",
      "96\n"
     ]
    }
   ],
   "source": [
    "lasso00001 = Lasso(alpha=0.0001, max_iter=100000).fit(X_train, y_train)\n",
    "print(lasso00001.score(X_train, y_train))\n",
    "print(lasso00001.score(X_test, y_test))\n",
    "print(np.sum(lasso00001.coef_ != 0))"
   ]
  },
  {
   "cell_type": "code",
   "execution_count": 77,
   "id": "bc486f84",
   "metadata": {},
   "outputs": [
    {
     "name": "stdout",
     "output_type": "stream",
     "text": [
      "0.9426383219008585\n",
      "0.6916323869060191\n",
      "104\n"
     ]
    },
    {
     "name": "stderr",
     "output_type": "stream",
     "text": [
      "C:\\Users\\Nagyeom\\AppData\\Local\\Temp/ipykernel_26796/460168388.py:1: UserWarning: With alpha=0, this algorithm does not converge well. You are advised to use the LinearRegression estimator\n",
      "  lasso0 = Lasso(alpha=0).fit(X_train, y_train)\n",
      "C:\\Users\\Nagyeom\\anaconda3\\lib\\site-packages\\sklearn\\linear_model\\_coordinate_descent.py:647: UserWarning: Coordinate descent with no regularization may lead to unexpected results and is discouraged.\n",
      "  model = cd_fast.enet_coordinate_descent(\n",
      "C:\\Users\\Nagyeom\\anaconda3\\lib\\site-packages\\sklearn\\linear_model\\_coordinate_descent.py:647: ConvergenceWarning: Objective did not converge. You might want to increase the number of iterations, check the scale of the features or consider increasing regularisation. Duality gap: 9.273e+02, tolerance: 3.233e+00 Linear regression models with null weight for the l1 regularization term are more efficiently fitted using one of the solvers implemented in sklearn.linear_model.Ridge/RidgeCV instead.\n",
      "  model = cd_fast.enet_coordinate_descent(\n"
     ]
    }
   ],
   "source": [
    "lasso0 = Lasso(alpha=0).fit(X_train, y_train)\n",
    "print(lasso0.score(X_train, y_train))\n",
    "print(lasso0.score(X_test, y_test))\n",
    "print(np.sum(lasso0.coef_ != 0))"
   ]
  },
  {
   "cell_type": "markdown",
   "id": "33275650",
   "metadata": {},
   "source": [
    "alpha 값을 낮추면 모델의 복잡도가 증가해서 훈련셋과 테스트셋의 성능이 좋아진다.<br/>\n",
    "alpha 값을 너무 낮추면 규제의 효과가 없어져서 과대적합이 된다.<br/>"
   ]
  },
  {
   "cell_type": "markdown",
   "id": "01ddc7f8",
   "metadata": {},
   "source": [
    "## 분류용 선형 모델"
   ]
  },
  {
   "cell_type": "code",
   "execution_count": 79,
   "id": "2dadbfdd",
   "metadata": {},
   "outputs": [
    {
     "name": "stderr",
     "output_type": "stream",
     "text": [
      "C:\\Users\\Nagyeom\\anaconda3\\lib\\site-packages\\sklearn\\utils\\deprecation.py:87: FutureWarning: Function make_blobs is deprecated; Please import make_blobs directly from scikit-learn\n",
      "  warnings.warn(msg, category=FutureWarning)\n",
      "C:\\Users\\Nagyeom\\anaconda3\\lib\\site-packages\\sklearn\\svm\\_base.py:1206: ConvergenceWarning: Liblinear failed to converge, increase the number of iterations.\n",
      "  warnings.warn(\n"
     ]
    },
    {
     "data": {
      "image/png": "[encoded data removed]",
      "text/plain": [
       "<Figure size 720x216 with 2 Axes>"
      ]
     },
     "metadata": {},
     "output_type": "display_data"
    }
   ],
   "source": [
    "from sklearn.linear_model import LogisticRegression #Classification Algorithm 중 하나\n",
    "from sklearn.svm import LinearSVC\n",
    "\n",
    "X, y = mglearn.datasets.make_forge()\n",
    "\n",
    "fig, axes = plt.subplots(1, 2, figsize=(10, 3))\n",
    "\n",
    "for model, ax in zip([LinearSVC(), LogisticRegression()], axes) :\n",
    "    clf = model.fit(X, y)\n",
    "    mglearn.plots.plot_2d_separator(clf, X, fill=False, eps=0.5, alpha=0.7, ax=ax)\n",
    "    mglearn.discrete_scatter(X[:, 0], X[:, 1], y, ax=ax)"
   ]
  },
  {
   "cell_type": "code",
   "execution_count": 44,
   "id": "395600bb",
   "metadata": {
    "scrolled": false
   },
   "outputs": [
    {
     "data": {
      "image/png": "[encoded data removed]",
      "text/plain": [
       "<Figure size 864x288 with 3 Axes>"
      ]
     },
     "metadata": {},
     "output_type": "display_data"
    }
   ],
   "source": [
    "mglearn.plots.plot_linear_svc_regularization()\n",
    "# regularization = 정규화"
   ]
  },
  {
   "cell_type": "code",
   "execution_count": 82,
   "id": "e54a825f",
   "metadata": {
    "scrolled": true
   },
   "outputs": [
    {
     "name": "stdout",
     "output_type": "stream",
     "text": [
      "0.9553990610328639\n",
      "0.958041958041958\n"
     ]
    },
    {
     "name": "stderr",
     "output_type": "stream",
     "text": [
      "C:\\Users\\Nagyeom\\anaconda3\\lib\\site-packages\\sklearn\\linear_model\\_logistic.py:814: ConvergenceWarning: lbfgs failed to converge (status=1):\n",
      "STOP: TOTAL NO. of ITERATIONS REACHED LIMIT.\n",
      "\n",
      "Increase the number of iterations (max_iter) or scale the data as shown in:\n",
      "    https://scikit-learn.org/stable/modules/preprocessing.html\n",
      "Please also refer to the documentation for alternative solver options:\n",
      "    https://scikit-learn.org/stable/modules/linear_model.html#logistic-regression\n",
      "  n_iter_i = _check_optimize_result(\n"
     ]
    }
   ],
   "source": [
    "from sklearn.datasets import load_breast_cancer\n",
    "cancer = load_breast_cancer()\n",
    "X_train, X_test, y_train, y_test = train_test_split(cancer.data, cancer.target, random_state=42)\n",
    "\n",
    "logreg = LogisticRegression().fit(X_train, y_train)\n",
    "# 아무 제약을 걸지 않음\n",
    "\n",
    "print(logreg.score(X_train, y_train))\n",
    "print(logreg.score(X_test, y_test))"
   ]
  },
  {
   "cell_type": "code",
   "execution_count": 83,
   "id": "00d0dd4a",
   "metadata": {},
   "outputs": [
    {
     "name": "stdout",
     "output_type": "stream",
     "text": [
      "0.960093896713615\n",
      "0.972027972027972\n"
     ]
    }
   ],
   "source": [
    "# max_iteration을 5000번으로 늘린다.\n",
    "\n",
    "logreg = LogisticRegression(max_iter=5000).fit(X_train, y_train)\n",
    "\n",
    "print(logreg.score(X_train, y_train))\n",
    "print(logreg.score(X_test, y_test))"
   ]
  },
  {
   "cell_type": "markdown",
   "id": "c48a47c4",
   "metadata": {},
   "source": [
    "max_iteration을 5000번이나 줬는데 결과가 빨리나온 이유?<br/>\n",
    "임계치를 찾게되면 끝내버리기 때문에 5000번을 다 돌지 않아서 속도가 빠르게 보인다.<br/>\n",
    "경고가 따로 뜨지 않는 것은 충분히 돌았다고 생각하기 때문이다.<br/>"
   ]
  },
  {
   "cell_type": "markdown",
   "id": "8b7dc715",
   "metadata": {},
   "source": [
    "# 정리\n",
    "\n",
    "최적의 알고리즘을 찾아내는 것을 자동화 할 수 있겠다.<br/>\n",
    "알고리즘 종류별로 넣고 파라미터를 바꿔보다보면 코딩으로 잘만들면 자동으로 할 수 있을 것이다.<br/>\n",
    " = autoML"
   ]
  }
 ],
 "metadata": {
  "kernelspec": {
   "display_name": "Python 3 (ipykernel)",
   "language": "python",
   "name": "python3"
  },
  "language_info": {
   "codemirror_mode": {
    "name": "ipython",
    "version": 3
   },
   "file_extension": ".py",
   "mimetype": "text/x-python",
   "name": "python",
   "nbconvert_exporter": "python",
   "pygments_lexer": "ipython3",
   "version": "3.9.7"
  }
 },
 "nbformat": 4,
 "nbformat_minor": 5
}
