{
 "cells": [
  {
   "cell_type": "markdown",
   "id": "df2e1c0f",
   "metadata": {},
   "source": [
    "<img src=\"./images/0415_1.png\" style=\"float:left\" width=500px>"
   ]
  },
  {
   "cell_type": "code",
   "execution_count": 1,
   "id": "93037b42",
   "metadata": {},
   "outputs": [],
   "source": [
    "import math\n",
    "import numpy as np\n",
    "import matplotlib.pyplot as plt\n",
    "plt.style.use('seaborn-whitegrid')"
   ]
  },
  {
   "cell_type": "code",
   "execution_count": 2,
   "id": "6cf7d1f7",
   "metadata": {},
   "outputs": [],
   "source": [
    "from keras.datasets import mnist\n",
    "(train_images, train_labels),(test_images, test_labels) = mnist.load_data()"
   ]
  },
  {
   "cell_type": "code",
   "execution_count": 3,
   "id": "812cf1d1",
   "metadata": {},
   "outputs": [],
   "source": [
    "from keras import models # 모델과 관련된 내용이 들어가있다.\n",
    "from keras import layers\n",
    "\n",
    "# 순차적인 망은 Sequential 로 만들 수 있다.\n",
    "# 신경망의 이름을 network라고 붙였다.\n",
    "network = models.Sequential()\n",
    "\n",
    "# 신경망을 두개 추가했다.\n",
    "\n",
    "# 신경망을 만들었으니까 레이어를 추가할 것이다.\n",
    "# add로 가장 기본적인 Dense 레이어를 추가한다.\n",
    "# 512개의 셀\n",
    "# 활성함수인 activation, 입력으로 들어오는 모양을 28 * 28로 만들었다.\n",
    "# ,는 한 차원이 더 있다는 걸 나타내는 것이다.\n",
    "network.add(layers.Dense(512, activation='relu', input_shape=(28 * 28,)))\n",
    "\n",
    "# 출력이 나오는 레이어를 추가해본다.\n",
    "# Dense 레이어를 추가하고 10개의 셀 (0 ~ 9), activation은 softmax를 쓴다.\n",
    "# softmax : 3개 이상으로 분류하는 다중 클래스 분류에서 사용되는 활성화 함수\n",
    "# softmax는 1을 기준으로 각각의 퍼센트를 만들어줘서 총 합은 항상 1이 된다.\n",
    "network.add(layers.Dense(10, activation='softmax'))"
   ]
  },
  {
   "cell_type": "code",
   "execution_count": 4,
   "id": "07151dcd",
   "metadata": {},
   "outputs": [
    {
     "name": "stdout",
     "output_type": "stream",
     "text": [
      "(60000, 28, 28)\n",
      "(60000,)\n",
      "(10000, 28, 28)\n"
     ]
    }
   ],
   "source": [
    "print(train_images.shape)\n",
    "print(train_labels.shape)\n",
    "print(test_images.shape)"
   ]
  },
  {
   "cell_type": "code",
   "execution_count": 5,
   "id": "9f82538e",
   "metadata": {},
   "outputs": [],
   "source": [
    "network.compile(optimizer='rmsprop', loss='categorical_crossentropy', metrics=['accuracy'])\n",
    "\n",
    "# optimizer는 최적화를 해준다.\n",
    "# 손실값을 가지고 오면, 손실값을 가지고 와서 각 층에 가중치를 적용해준다.\n",
    "# 가중치를 적용하는 방법 중 가장 일반적인 것이 경사하강법 (Gradient Descent)"
   ]
  },
  {
   "cell_type": "markdown",
   "id": "6208fb29",
   "metadata": {},
   "source": [
    "- 경사하강법 (Gradient Descent) : 기울기가 올라가면 내려가고 기울기가 올라가면 내려가서 기울기가 0인 지점을 찾는 것 (최적화 된 포인트를 찾음)\n",
    "- 알고리즘들 중에서 어떤 것은 반복할 때마다 촘촘하게 내려가는 게 아니라 띄엄띄엄 빠른 속도로 내려가다가 기울기가 완만해지면 촘촘하게 내려가는 방법도 있다.\n",
    "- 확률적 경사하강법 (Stochastic gradient descent, SGD) : 적절한 평활도 속성으로 목적 함수를 최적화하기 위한 반복적 방법입니다."
   ]
  },
  {
   "cell_type": "markdown",
   "id": "1fc08e9d",
   "metadata": {},
   "source": [
    "<img src=\"./images/0415_2.png\" style=\"float:left\">"
   ]
  },
  {
   "cell_type": "code",
   "execution_count": 6,
   "id": "43019520",
   "metadata": {},
   "outputs": [
    {
     "name": "stdout",
     "output_type": "stream",
     "text": [
      "(60000, 28, 28)\n",
      "(60000, 784)\n"
     ]
    }
   ],
   "source": [
    "# 60000, 28, 28 = train_images 인데 reshape을 한다.\n",
    "# 28 * 28의 정사각의 형상을 1 * 784의 직사각형의 형상으로 reshape 한다.\n",
    "# 컴퓨터는 가로, 세로 의미가 없기 때문에 3D를 2D로 만들어서 학습하는게 효율적이다\n",
    "\n",
    "print(train_images.shape)\n",
    "train_images = train_images.reshape(60000, 28 * 28)\n",
    "print(train_images.shape)"
   ]
  },
  {
   "cell_type": "code",
   "execution_count": 7,
   "id": "0baecc53",
   "metadata": {},
   "outputs": [],
   "source": [
    "# 데이터가 8bit의 inte 타입으로 되어있다.\n",
    "# 계산이 쉽도록 float 형식으로 바꾼다.\n",
    "\n",
    "train_images = train_images.astype('float32') / 255\n",
    "# 255로 나눈 이유? 0 ~ 255 사이의 숫자로 만들겠다는 것이다.\n",
    "# 딥러닝에서는 정수형으로 잘 쓰지 않기 때문에 실수형으로 변환한다."
   ]
  },
  {
   "cell_type": "code",
   "execution_count": 8,
   "id": "fcb88bb8",
   "metadata": {},
   "outputs": [
    {
     "data": {
      "text/plain": [
       "array([[0., 0., 0., ..., 0., 0., 0.],\n",
       "       [0., 0., 0., ..., 0., 0., 0.],\n",
       "       [0., 0., 0., ..., 0., 0., 0.],\n",
       "       ...,\n",
       "       [0., 0., 0., ..., 0., 0., 0.],\n",
       "       [0., 0., 0., ..., 0., 0., 0.],\n",
       "       [0., 0., 0., ..., 0., 0., 0.]], dtype=float32)"
      ]
     },
     "execution_count": 8,
     "metadata": {},
     "output_type": "execute_result"
    }
   ],
   "source": [
    "train_images"
   ]
  },
  {
   "cell_type": "code",
   "execution_count": 9,
   "id": "56fae95b",
   "metadata": {},
   "outputs": [],
   "source": [
    "test_images = test_images.reshape(10000, 28 * 28)\n",
    "test_images = test_images.astype('float32') / 255"
   ]
  },
  {
   "cell_type": "code",
   "execution_count": 10,
   "id": "9eb5007a",
   "metadata": {},
   "outputs": [
    {
     "data": {
      "text/plain": [
       "array([[0., 0., 0., ..., 0., 0., 0.],\n",
       "       [0., 0., 0., ..., 0., 0., 0.],\n",
       "       [0., 0., 0., ..., 0., 0., 0.],\n",
       "       ...,\n",
       "       [0., 0., 0., ..., 0., 0., 0.],\n",
       "       [0., 0., 0., ..., 0., 0., 0.],\n",
       "       [0., 0., 0., ..., 0., 0., 0.]], dtype=float32)"
      ]
     },
     "execution_count": 10,
     "metadata": {},
     "output_type": "execute_result"
    }
   ],
   "source": [
    "test_images"
   ]
  },
  {
   "cell_type": "code",
   "execution_count": 11,
   "id": "92054b81",
   "metadata": {},
   "outputs": [],
   "source": [
    "from tensorflow.keras.utils import to_categorical # 데이터를 카테고리컬 데이터로 바꾸는 역할을 한다\n",
    "\n",
    "train_labels = to_categorical(train_labels)\n",
    "test_labels = to_categorical(test_labels)"
   ]
  },
  {
   "cell_type": "code",
   "execution_count": 12,
   "id": "3e379620",
   "metadata": {},
   "outputs": [
    {
     "name": "stdout",
     "output_type": "stream",
     "text": [
      "Epoch 1/5\n",
      "469/469 [==============================] - 2s 3ms/step - loss: 0.2610 - accuracy: 0.9248\n",
      "Epoch 2/5\n",
      "469/469 [==============================] - 2s 3ms/step - loss: 0.1048 - accuracy: 0.9696\n",
      "Epoch 3/5\n",
      "469/469 [==============================] - 2s 3ms/step - loss: 0.0695 - accuracy: 0.9797\n",
      "Epoch 4/5\n",
      "469/469 [==============================] - 2s 3ms/step - loss: 0.0510 - accuracy: 0.9844\n",
      "Epoch 5/5\n",
      "469/469 [==============================] - 2s 3ms/step - loss: 0.0377 - accuracy: 0.9888\n"
     ]
    },
    {
     "data": {
      "text/plain": [
       "<keras.callbacks.History at 0x230b8ce5e80>"
      ]
     },
     "execution_count": 12,
     "metadata": {},
     "output_type": "execute_result"
    }
   ],
   "source": [
    "network.fit(train_images, train_labels, epochs=5, batch_size=128)"
   ]
  },
  {
   "cell_type": "markdown",
   "id": "3761cb89",
   "metadata": {},
   "source": [
    "loss : 손실값<br/>\n",
    "accuracy : 정확도<br/>\n",
    "\n",
    "돌 때 마다 손실값이 점점 줄어들고 있다.<br/>\n",
    "optimizer로 현재 'rmsprop'를 사용해서 가중치를 조정하는데, 70 ~ 80%는 맞다.<br/>"
   ]
  },
  {
   "cell_type": "code",
   "execution_count": 13,
   "id": "1d5e25d9",
   "metadata": {},
   "outputs": [
    {
     "name": "stdout",
     "output_type": "stream",
     "text": [
      "313/313 [==============================] - 0s 534us/step - loss: 0.0646 - accuracy: 0.9807\n"
     ]
    }
   ],
   "source": [
    "test_loss, test_accuracy = network.evaluate(test_images, test_labels) # 평가"
   ]
  },
  {
   "cell_type": "code",
   "execution_count": 14,
   "id": "b19b36b6",
   "metadata": {},
   "outputs": [
    {
     "name": "stdout",
     "output_type": "stream",
     "text": [
      "test_acc :  0.9807000160217285\n"
     ]
    }
   ],
   "source": [
    "print('test_acc : ', test_accuracy)"
   ]
  },
  {
   "cell_type": "markdown",
   "id": "fdadb6de",
   "metadata": {},
   "source": [
    "어떤 값이 기대치보다 낮으면 무시하고 기대치 이상일 때 값을 가진다."
   ]
  }
 ],
 "metadata": {
  "kernelspec": {
   "display_name": "Python 3 (ipykernel)",
   "language": "python",
   "name": "python3"
  },
  "language_info": {
   "codemirror_mode": {
    "name": "ipython",
    "version": 3
   },
   "file_extension": ".py",
   "mimetype": "text/x-python",
   "name": "python",
   "nbconvert_exporter": "python",
   "pygments_lexer": "ipython3",
   "version": "3.9.7"
  }
 },
 "nbformat": 4,
 "nbformat_minor": 5
}
