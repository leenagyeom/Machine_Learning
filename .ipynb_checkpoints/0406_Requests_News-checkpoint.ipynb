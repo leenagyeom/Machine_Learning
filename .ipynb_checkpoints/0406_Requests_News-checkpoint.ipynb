{
 "cells": [
  {
   "cell_type": "code",
   "execution_count": 1,
   "id": "31fe281a",
   "metadata": {},
   "outputs": [],
   "source": [
    "import requests\n",
    "from bs4 import BeautifulSoup\n",
    "import pandas as pd\n",
    "import re"
   ]
  },
  {
   "cell_type": "code",
   "execution_count": 8,
   "id": "879bcd7c",
   "metadata": {},
   "outputs": [
    {
     "name": "stdout",
     "output_type": "stream",
     "text": [
      "[<span class=\"txt_category\">국제</span>, <span class=\"txt_category\">국제</span>, <span class=\"txt_category\">사회</span>, <span class=\"txt_category\">국제</span>, <span class=\"txt_category\">국제</span>, <span class=\"txt_category\">국제</span>, <span class=\"txt_category\">정치</span>, <span class=\"txt_category\">사회</span>, <span class=\"txt_category\">국제</span>, <span class=\"txt_category\">정치</span>, <span class=\"txt_category\">국제</span>, <span class=\"txt_category\">사회</span>, <span class=\"txt_category\">사회</span>, <span class=\"txt_category\">사회</span>, <span class=\"txt_category\">국제</span>, <span class=\"txt_category\">국제</span>, <span class=\"txt_category\">경제</span>, <span class=\"txt_category\">경제</span>, <span class=\"txt_category\">국제</span>, <span class=\"txt_category\">정치</span>]\n"
     ]
    }
   ],
   "source": [
    "req = requests.get('http://media.daum.net/ranking/popular/')\n",
    "html = req.text\n",
    "soup = BeautifulSoup(html, 'html.parser')\n",
    "newstitle = soup.select('a.link_txt')\n",
    "newscategory = soup.select('span.txt_category')\n",
    "print(newscategory)"
   ]
  },
  {
   "cell_type": "code",
   "execution_count": 10,
   "id": "4b651f29",
   "metadata": {},
   "outputs": [
    {
     "name": "stdout",
     "output_type": "stream",
     "text": [
      "   카테고리                                          뉴스제목\n",
      "0    국제           美·英·濠 오커스 3국 \"극초음속 미사일 개발 협력 시작할 것\"\n",
      "1    국제                유엔 \"러 침공 41일째 민간인 최소 1480명 사망\"\n",
      "2    사회            판례로만 인정됐던 '인격권' 민법에 명문화..법무부, 입법예고\n",
      "3    국제           中 \"우크라 부차 소식 참혹하지만 모든 비난은 사실에 근거해야\"\n",
      "4    국제          유엔 총장 \"우크라 전쟁, 국제 질서에 최대 도전..당장 멈춰야\"\n",
      "5    국제        체코, 우크라에 T-72 탱크 보내..정비도 지원 검토[우크라 침공]\n",
      "6    정치              한덕수 청문회..불씨 떠오른 '고액 고문료'[나이트포커스]\n",
      "7    사회                  침대 매트리스도 '짝퉁'..겉은 비슷해도 속은 엉망\n",
      "8    국제  러 유엔대사 \"기대만큼 전진 못한 건 민간인 공격 피했기 때문\"..전쟁범죄 부인\n",
      "9    정치          54년 만에 북악산 전면 개방..文 대통령 \"가장 특별한 둘레길\"\n",
      "10   국제                   프란치스코 교황, 최악 경제난 레바논 6월에 방문\n",
      "11   사회             \"뼈 깎는 노력은 반드시 실패\" 대치동 1타강사의 고백, 왜\n",
      "12   사회       제주 투자병원 내국인 진료 가능해졌다..정부 \"다른 지역 확대 안한다\"\n",
      "13   사회             인천>서울, 전남>경기.. 단골 1등 잡은 '언더독의 반란'\n",
      "14   국제            나토 총장 \"우크라 위기, 전세계 영향..한국 등 협력 기대\"\n",
      "15   국제           美합참의장 \"中, 2027년까지 '대만 장악' 군사 역량 개발\"\n",
      "16   경제  유통업계 주총 결산..'신사업·온라인' 내건 오프라인 유통 공룡들 [한경 엣지]\n",
      "17   경제             해외로 피신한 투자자 '울상'..3조 삼킨 해외펀드 '뚝뚝'\n",
      "18   국제            젤렌스키 \"러, 상임이사국으로서 거부권 갖는 안보리 개혁해야\"\n",
      "19   정치      '이재명 저격수' 김정화, 尹 인수위 상임자문위원 위촉..중도 확장 박차\n"
     ]
    }
   ],
   "source": [
    "lst1 = []\n",
    "lst2 = []\n",
    "\n",
    "for i in range(len(newscategory)) :\n",
    "    lst1.append(newscategory[i].text.strip())\n",
    "    lst2.append(newstitle[i].text.strip())\n",
    "    \n",
    "result_file = pd.DataFrame({'카테고리':lst1, '뉴스제목':lst2})\n",
    "print(result_file)\n",
    "result_file.to_csv(\"E:\\\\Python\\\\0406_Requests_News_Result.csv\", index=False, encoding = 'euc-kr')"
   ]
  }
 ],
 "metadata": {
  "kernelspec": {
   "display_name": "Python 3 (ipykernel)",
   "language": "python",
   "name": "python3"
  },
  "language_info": {
   "codemirror_mode": {
    "name": "ipython",
    "version": 3
   },
   "file_extension": ".py",
   "mimetype": "text/x-python",
   "name": "python",
   "nbconvert_exporter": "python",
   "pygments_lexer": "ipython3",
   "version": "3.9.7"
  }
 },
 "nbformat": 4,
 "nbformat_minor": 5
}
