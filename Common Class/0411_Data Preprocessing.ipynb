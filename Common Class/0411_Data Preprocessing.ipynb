{
 "cells": [
  {
   "cell_type": "markdown",
   "id": "f6760f7a",
   "metadata": {},
   "source": [
    "# 데이터 전처리 (Preprocessing)"
   ]
  },
  {
   "cell_type": "markdown",
   "id": "35fe12a1",
   "metadata": {},
   "source": [
    "데이터를 전처리해야 하는 경우<br/>\n",
    "- 문자로 되어있는 데이터를 숫자 타입으로 변환\n",
    "- 값이 중간에 없는 경우 빼거나 평균 값으로 값을 채워넣거나 일괄적으로 데이터를 추가한다<br/>\n",
    "데이터양이 충분하다면 지우는 것이 좋다.<br/><br/>\n",
    "1. Data Proprocessing\n",
    "2. Scaling\n",
    "3. Sampling\n",
    "4. Dimensionality Reduction\n",
    "5. Categorial Variable to Numeric Variable"
   ]
  },
  {
   "cell_type": "markdown",
   "id": "f960c5ac",
   "metadata": {},
   "source": [
    "# 1. Data Preprocessing"
   ]
  },
  {
   "cell_type": "markdown",
   "id": "2020ad2d",
   "metadata": {},
   "source": [
    "- 데이터를 분석하기 용이하게 고치는 모든 작업\n",
    "- 데이터 사이언스 전 과정에서 알고리즘을 수행하는 것 보다 더 많은 시간을 데이터 전처리 과정에서 소모함 (80~90%)\n",
    "- 알고리즘이나 파라메터가 잘못된 경우에는 지속적인 실험으로 문제를 찾아 개선할 수 있지만<br/>\n",
    "데이터 자체가 잘못된 경우에는 실험 결과가 개선되지 않음<br/><br/>\n",
    "\n",
    "데이터의 경우 다음과 같음 문제점들이 있을 수 있음\n",
    "- 결측치 : 중요한 데이터 누락\n",
    "- 데이터 오류 : 잘못된 데이터의 입력\n",
    "- 이상치 : 값의 범위가 일반적인 범위에서 벗어남\n",
    "- 데이터 형식 : 분석하기 적합하지 않은 형식\n",
    "- 범주형 데이터 : 범주형으로 표시되어야 하는데 다른 형태로 되어있음<br/>\n",
    "숫자인 경우에 연산을 하려고 해서 흑백이 아닌 회색의 결과가 출력됨"
   ]
  },
  {
   "cell_type": "markdown",
   "id": "cdd953b9",
   "metadata": {},
   "source": [
    "# 2. Scaling\n",
    "- 변수의 크기가 너무 크거나 너무 작은 경우 결과에 미치는 영향력이 일정하지 않을 수 있어서<br/>\n",
    "변수의 크기를 일정하게 맞추는 작업을 <strong>Scaling</strong>이라고 함\n",
    "- 우리가 배울 Scikit-learn의 대표적인 스케일링 함수<br/>\n",
    "Min-Max 스케일링<br/>\n",
    "z-정규화를 이용한 Standard 스케일링"
   ]
  },
  {
   "cell_type": "markdown",
   "id": "0a6c3797",
   "metadata": {},
   "source": [
    "## Min-Max Scaling\n",
    "- Min-Max 스케일링을 하면 값의 범위가 0~1 사이로 변경됨<br/>\n",
    "이렇게 하는 이유는 특정 값들이 전체에 미치는 영향을 줄여서 모든 값들이<br/>\n",
    "단위 크기와 상관없이 중요한 영향력을 가질 수 있게 하기 위함\n",
    "- 전체적인 수치를 '1' 기준으로 비율이 조정되어서 모든 Feature들이 같은 조건에서 학습될 수 있게 하는 기법"
   ]
  },
  {
   "cell_type": "markdown",
   "id": "279734ac",
   "metadata": {},
   "source": [
    "<img src=\"./images/0411_1.png\" style=\"float:left\">"
   ]
  },
  {
   "cell_type": "markdown",
   "id": "915a68ee",
   "metadata": {},
   "source": [
    "- sklearn.preprocessing 패키지 안에 전처리와 관련된 기능들이 포함되어 있다."
   ]
  },
  {
   "cell_type": "markdown",
   "id": "faa13bf5",
   "metadata": {},
   "source": [
    "from sklearn.preprocessing import MinMaxScaler\n",
    "mMscaler = MinMaxScaler()"
   ]
  },
  {
   "cell_type": "markdown",
   "id": "fce2d79b",
   "metadata": {},
   "source": [
    "mMscaler.fit(data)"
   ]
  },
  {
   "cell_type": "markdown",
   "id": "a5686956",
   "metadata": {},
   "source": [
    "mMscaled_data = mMscaler.transform(data)\n",
    "mMscaled_data = pd.DataFrame(mMscaled_data, columns=data.columns)"
   ]
  },
  {
   "cell_type": "markdown",
   "id": "c7439744",
   "metadata": {},
   "source": [
    "## MinMaxScaling 실습"
   ]
  },
  {
   "cell_type": "code",
   "execution_count": 1,
   "id": "117bf5bf",
   "metadata": {},
   "outputs": [],
   "source": [
    "# 먼저 필요한 패키지를 가져온다.\n",
    "\n",
    "import numpy as np\n",
    "import pandas as pd\n",
    "import sklearn\n",
    "import matplotlib.pyplot as plt"
   ]
  },
  {
   "cell_type": "code",
   "execution_count": 2,
   "id": "16af7ab1",
   "metadata": {},
   "outputs": [],
   "source": [
    "# 전복데이터를 사용하는 이유? 전복은 암, 수가 없는데 크다가 암, 수가 결정됨\n",
    "\n",
    "abalone_columns = list()\n",
    "for l in open('./data/abalone_attributes.txt') :\n",
    "    l = l.strip()\n",
    "    abalone_columns.append(l)\n",
    "\n",
    "data = pd.read_csv('./data/abalone.txt', header=None, names=abalone_columns)"
   ]
  },
  {
   "cell_type": "code",
   "execution_count": 3,
   "id": "b2d6ae00",
   "metadata": {},
   "outputs": [
    {
     "data": {
      "text/html": [
       "<div>\n",
       "<style scoped>\n",
       "    .dataframe tbody tr th:only-of-type {\n",
       "        vertical-align: middle;\n",
       "    }\n",
       "\n",
       "    .dataframe tbody tr th {\n",
       "        vertical-align: top;\n",
       "    }\n",
       "\n",
       "    .dataframe thead th {\n",
       "        text-align: right;\n",
       "    }\n",
       "</style>\n",
       "<table border=\"1\" class=\"dataframe\">\n",
       "  <thead>\n",
       "    <tr style=\"text-align: right;\">\n",
       "      <th></th>\n",
       "      <th>Sex</th>\n",
       "      <th>Length</th>\n",
       "      <th>Diameter</th>\n",
       "      <th>Height</th>\n",
       "      <th>Whole weight</th>\n",
       "      <th>Shucked weight</th>\n",
       "      <th>Viscera weight</th>\n",
       "      <th>Shell weight</th>\n",
       "      <th>Rings</th>\n",
       "    </tr>\n",
       "  </thead>\n",
       "  <tbody>\n",
       "    <tr>\n",
       "      <th>0</th>\n",
       "      <td>M</td>\n",
       "      <td>0.455</td>\n",
       "      <td>0.365</td>\n",
       "      <td>0.095</td>\n",
       "      <td>0.5140</td>\n",
       "      <td>0.2245</td>\n",
       "      <td>0.1010</td>\n",
       "      <td>0.1500</td>\n",
       "      <td>15</td>\n",
       "    </tr>\n",
       "    <tr>\n",
       "      <th>1</th>\n",
       "      <td>M</td>\n",
       "      <td>0.350</td>\n",
       "      <td>0.265</td>\n",
       "      <td>0.090</td>\n",
       "      <td>0.2255</td>\n",
       "      <td>0.0995</td>\n",
       "      <td>0.0485</td>\n",
       "      <td>0.0700</td>\n",
       "      <td>7</td>\n",
       "    </tr>\n",
       "    <tr>\n",
       "      <th>2</th>\n",
       "      <td>F</td>\n",
       "      <td>0.530</td>\n",
       "      <td>0.420</td>\n",
       "      <td>0.135</td>\n",
       "      <td>0.6770</td>\n",
       "      <td>0.2565</td>\n",
       "      <td>0.1415</td>\n",
       "      <td>0.2100</td>\n",
       "      <td>9</td>\n",
       "    </tr>\n",
       "    <tr>\n",
       "      <th>3</th>\n",
       "      <td>M</td>\n",
       "      <td>0.440</td>\n",
       "      <td>0.365</td>\n",
       "      <td>0.125</td>\n",
       "      <td>0.5160</td>\n",
       "      <td>0.2155</td>\n",
       "      <td>0.1140</td>\n",
       "      <td>0.1550</td>\n",
       "      <td>10</td>\n",
       "    </tr>\n",
       "    <tr>\n",
       "      <th>4</th>\n",
       "      <td>I</td>\n",
       "      <td>0.330</td>\n",
       "      <td>0.255</td>\n",
       "      <td>0.080</td>\n",
       "      <td>0.2050</td>\n",
       "      <td>0.0895</td>\n",
       "      <td>0.0395</td>\n",
       "      <td>0.0550</td>\n",
       "      <td>7</td>\n",
       "    </tr>\n",
       "    <tr>\n",
       "      <th>...</th>\n",
       "      <td>...</td>\n",
       "      <td>...</td>\n",
       "      <td>...</td>\n",
       "      <td>...</td>\n",
       "      <td>...</td>\n",
       "      <td>...</td>\n",
       "      <td>...</td>\n",
       "      <td>...</td>\n",
       "      <td>...</td>\n",
       "    </tr>\n",
       "    <tr>\n",
       "      <th>4172</th>\n",
       "      <td>F</td>\n",
       "      <td>0.565</td>\n",
       "      <td>0.450</td>\n",
       "      <td>0.165</td>\n",
       "      <td>0.8870</td>\n",
       "      <td>0.3700</td>\n",
       "      <td>0.2390</td>\n",
       "      <td>0.2490</td>\n",
       "      <td>11</td>\n",
       "    </tr>\n",
       "    <tr>\n",
       "      <th>4173</th>\n",
       "      <td>M</td>\n",
       "      <td>0.590</td>\n",
       "      <td>0.440</td>\n",
       "      <td>0.135</td>\n",
       "      <td>0.9660</td>\n",
       "      <td>0.4390</td>\n",
       "      <td>0.2145</td>\n",
       "      <td>0.2605</td>\n",
       "      <td>10</td>\n",
       "    </tr>\n",
       "    <tr>\n",
       "      <th>4174</th>\n",
       "      <td>M</td>\n",
       "      <td>0.600</td>\n",
       "      <td>0.475</td>\n",
       "      <td>0.205</td>\n",
       "      <td>1.1760</td>\n",
       "      <td>0.5255</td>\n",
       "      <td>0.2875</td>\n",
       "      <td>0.3080</td>\n",
       "      <td>9</td>\n",
       "    </tr>\n",
       "    <tr>\n",
       "      <th>4175</th>\n",
       "      <td>F</td>\n",
       "      <td>0.625</td>\n",
       "      <td>0.485</td>\n",
       "      <td>0.150</td>\n",
       "      <td>1.0945</td>\n",
       "      <td>0.5310</td>\n",
       "      <td>0.2610</td>\n",
       "      <td>0.2960</td>\n",
       "      <td>10</td>\n",
       "    </tr>\n",
       "    <tr>\n",
       "      <th>4176</th>\n",
       "      <td>M</td>\n",
       "      <td>0.710</td>\n",
       "      <td>0.555</td>\n",
       "      <td>0.195</td>\n",
       "      <td>1.9485</td>\n",
       "      <td>0.9455</td>\n",
       "      <td>0.3765</td>\n",
       "      <td>0.4950</td>\n",
       "      <td>12</td>\n",
       "    </tr>\n",
       "  </tbody>\n",
       "</table>\n",
       "<p>4177 rows × 9 columns</p>\n",
       "</div>"
      ],
      "text/plain": [
       "     Sex  Length  Diameter  Height  Whole weight  Shucked weight  \\\n",
       "0      M   0.455     0.365   0.095        0.5140          0.2245   \n",
       "1      M   0.350     0.265   0.090        0.2255          0.0995   \n",
       "2      F   0.530     0.420   0.135        0.6770          0.2565   \n",
       "3      M   0.440     0.365   0.125        0.5160          0.2155   \n",
       "4      I   0.330     0.255   0.080        0.2050          0.0895   \n",
       "...   ..     ...       ...     ...           ...             ...   \n",
       "4172   F   0.565     0.450   0.165        0.8870          0.3700   \n",
       "4173   M   0.590     0.440   0.135        0.9660          0.4390   \n",
       "4174   M   0.600     0.475   0.205        1.1760          0.5255   \n",
       "4175   F   0.625     0.485   0.150        1.0945          0.5310   \n",
       "4176   M   0.710     0.555   0.195        1.9485          0.9455   \n",
       "\n",
       "      Viscera weight  Shell weight  Rings  \n",
       "0             0.1010        0.1500     15  \n",
       "1             0.0485        0.0700      7  \n",
       "2             0.1415        0.2100      9  \n",
       "3             0.1140        0.1550     10  \n",
       "4             0.0395        0.0550      7  \n",
       "...              ...           ...    ...  \n",
       "4172          0.2390        0.2490     11  \n",
       "4173          0.2145        0.2605     10  \n",
       "4174          0.2875        0.3080      9  \n",
       "4175          0.2610        0.2960     10  \n",
       "4176          0.3765        0.4950     12  \n",
       "\n",
       "[4177 rows x 9 columns]"
      ]
     },
     "execution_count": 3,
     "metadata": {},
     "output_type": "execute_result"
    }
   ],
   "source": [
    "data"
   ]
  },
  {
   "cell_type": "code",
   "execution_count": 4,
   "id": "cf7b0e00",
   "metadata": {},
   "outputs": [],
   "source": [
    "label = data['Sex']"
   ]
  },
  {
   "cell_type": "code",
   "execution_count": 5,
   "id": "00e2e18e",
   "metadata": {},
   "outputs": [
    {
     "data": {
      "text/html": [
       "<div>\n",
       "<style scoped>\n",
       "    .dataframe tbody tr th:only-of-type {\n",
       "        vertical-align: middle;\n",
       "    }\n",
       "\n",
       "    .dataframe tbody tr th {\n",
       "        vertical-align: top;\n",
       "    }\n",
       "\n",
       "    .dataframe thead th {\n",
       "        text-align: right;\n",
       "    }\n",
       "</style>\n",
       "<table border=\"1\" class=\"dataframe\">\n",
       "  <thead>\n",
       "    <tr style=\"text-align: right;\">\n",
       "      <th></th>\n",
       "      <th>Sex</th>\n",
       "      <th>Length</th>\n",
       "      <th>Diameter</th>\n",
       "      <th>Height</th>\n",
       "      <th>Whole weight</th>\n",
       "      <th>Shucked weight</th>\n",
       "      <th>Viscera weight</th>\n",
       "      <th>Shell weight</th>\n",
       "      <th>Rings</th>\n",
       "    </tr>\n",
       "  </thead>\n",
       "  <tbody>\n",
       "    <tr>\n",
       "      <th>0</th>\n",
       "      <td>M</td>\n",
       "      <td>0.455</td>\n",
       "      <td>0.365</td>\n",
       "      <td>0.095</td>\n",
       "      <td>0.5140</td>\n",
       "      <td>0.2245</td>\n",
       "      <td>0.1010</td>\n",
       "      <td>0.150</td>\n",
       "      <td>15</td>\n",
       "    </tr>\n",
       "    <tr>\n",
       "      <th>1</th>\n",
       "      <td>M</td>\n",
       "      <td>0.350</td>\n",
       "      <td>0.265</td>\n",
       "      <td>0.090</td>\n",
       "      <td>0.2255</td>\n",
       "      <td>0.0995</td>\n",
       "      <td>0.0485</td>\n",
       "      <td>0.070</td>\n",
       "      <td>7</td>\n",
       "    </tr>\n",
       "    <tr>\n",
       "      <th>2</th>\n",
       "      <td>F</td>\n",
       "      <td>0.530</td>\n",
       "      <td>0.420</td>\n",
       "      <td>0.135</td>\n",
       "      <td>0.6770</td>\n",
       "      <td>0.2565</td>\n",
       "      <td>0.1415</td>\n",
       "      <td>0.210</td>\n",
       "      <td>9</td>\n",
       "    </tr>\n",
       "    <tr>\n",
       "      <th>3</th>\n",
       "      <td>M</td>\n",
       "      <td>0.440</td>\n",
       "      <td>0.365</td>\n",
       "      <td>0.125</td>\n",
       "      <td>0.5160</td>\n",
       "      <td>0.2155</td>\n",
       "      <td>0.1140</td>\n",
       "      <td>0.155</td>\n",
       "      <td>10</td>\n",
       "    </tr>\n",
       "    <tr>\n",
       "      <th>4</th>\n",
       "      <td>I</td>\n",
       "      <td>0.330</td>\n",
       "      <td>0.255</td>\n",
       "      <td>0.080</td>\n",
       "      <td>0.2050</td>\n",
       "      <td>0.0895</td>\n",
       "      <td>0.0395</td>\n",
       "      <td>0.055</td>\n",
       "      <td>7</td>\n",
       "    </tr>\n",
       "  </tbody>\n",
       "</table>\n",
       "</div>"
      ],
      "text/plain": [
       "  Sex  Length  Diameter  Height  Whole weight  Shucked weight  Viscera weight  \\\n",
       "0   M   0.455     0.365   0.095        0.5140          0.2245          0.1010   \n",
       "1   M   0.350     0.265   0.090        0.2255          0.0995          0.0485   \n",
       "2   F   0.530     0.420   0.135        0.6770          0.2565          0.1415   \n",
       "3   M   0.440     0.365   0.125        0.5160          0.2155          0.1140   \n",
       "4   I   0.330     0.255   0.080        0.2050          0.0895          0.0395   \n",
       "\n",
       "   Shell weight  Rings  \n",
       "0         0.150     15  \n",
       "1         0.070      7  \n",
       "2         0.210      9  \n",
       "3         0.155     10  \n",
       "4         0.055      7  "
      ]
     },
     "execution_count": 5,
     "metadata": {},
     "output_type": "execute_result"
    }
   ],
   "source": [
    "data.head()"
   ]
  },
  {
   "cell_type": "code",
   "execution_count": 6,
   "id": "25ab3faf",
   "metadata": {},
   "outputs": [
    {
     "data": {
      "text/plain": [
       "(4177, 9)"
      ]
     },
     "execution_count": 6,
     "metadata": {},
     "output_type": "execute_result"
    }
   ],
   "source": [
    "# 데이터 모양을 shape으로 알 수 있다.\n",
    "data.shape"
   ]
  },
  {
   "cell_type": "code",
   "execution_count": 7,
   "id": "043c56ae",
   "metadata": {},
   "outputs": [],
   "source": [
    "del data['Sex']"
   ]
  },
  {
   "cell_type": "code",
   "execution_count": 8,
   "id": "6b628759",
   "metadata": {},
   "outputs": [
    {
     "data": {
      "text/html": [
       "<div>\n",
       "<style scoped>\n",
       "    .dataframe tbody tr th:only-of-type {\n",
       "        vertical-align: middle;\n",
       "    }\n",
       "\n",
       "    .dataframe tbody tr th {\n",
       "        vertical-align: top;\n",
       "    }\n",
       "\n",
       "    .dataframe thead th {\n",
       "        text-align: right;\n",
       "    }\n",
       "</style>\n",
       "<table border=\"1\" class=\"dataframe\">\n",
       "  <thead>\n",
       "    <tr style=\"text-align: right;\">\n",
       "      <th></th>\n",
       "      <th>Length</th>\n",
       "      <th>Diameter</th>\n",
       "      <th>Height</th>\n",
       "      <th>Whole weight</th>\n",
       "      <th>Shucked weight</th>\n",
       "      <th>Viscera weight</th>\n",
       "      <th>Shell weight</th>\n",
       "      <th>Rings</th>\n",
       "    </tr>\n",
       "  </thead>\n",
       "  <tbody>\n",
       "    <tr>\n",
       "      <th>0</th>\n",
       "      <td>0.455</td>\n",
       "      <td>0.365</td>\n",
       "      <td>0.095</td>\n",
       "      <td>0.5140</td>\n",
       "      <td>0.2245</td>\n",
       "      <td>0.1010</td>\n",
       "      <td>0.150</td>\n",
       "      <td>15</td>\n",
       "    </tr>\n",
       "    <tr>\n",
       "      <th>1</th>\n",
       "      <td>0.350</td>\n",
       "      <td>0.265</td>\n",
       "      <td>0.090</td>\n",
       "      <td>0.2255</td>\n",
       "      <td>0.0995</td>\n",
       "      <td>0.0485</td>\n",
       "      <td>0.070</td>\n",
       "      <td>7</td>\n",
       "    </tr>\n",
       "    <tr>\n",
       "      <th>2</th>\n",
       "      <td>0.530</td>\n",
       "      <td>0.420</td>\n",
       "      <td>0.135</td>\n",
       "      <td>0.6770</td>\n",
       "      <td>0.2565</td>\n",
       "      <td>0.1415</td>\n",
       "      <td>0.210</td>\n",
       "      <td>9</td>\n",
       "    </tr>\n",
       "    <tr>\n",
       "      <th>3</th>\n",
       "      <td>0.440</td>\n",
       "      <td>0.365</td>\n",
       "      <td>0.125</td>\n",
       "      <td>0.5160</td>\n",
       "      <td>0.2155</td>\n",
       "      <td>0.1140</td>\n",
       "      <td>0.155</td>\n",
       "      <td>10</td>\n",
       "    </tr>\n",
       "    <tr>\n",
       "      <th>4</th>\n",
       "      <td>0.330</td>\n",
       "      <td>0.255</td>\n",
       "      <td>0.080</td>\n",
       "      <td>0.2050</td>\n",
       "      <td>0.0895</td>\n",
       "      <td>0.0395</td>\n",
       "      <td>0.055</td>\n",
       "      <td>7</td>\n",
       "    </tr>\n",
       "  </tbody>\n",
       "</table>\n",
       "</div>"
      ],
      "text/plain": [
       "   Length  Diameter  Height  Whole weight  Shucked weight  Viscera weight  \\\n",
       "0   0.455     0.365   0.095        0.5140          0.2245          0.1010   \n",
       "1   0.350     0.265   0.090        0.2255          0.0995          0.0485   \n",
       "2   0.530     0.420   0.135        0.6770          0.2565          0.1415   \n",
       "3   0.440     0.365   0.125        0.5160          0.2155          0.1140   \n",
       "4   0.330     0.255   0.080        0.2050          0.0895          0.0395   \n",
       "\n",
       "   Shell weight  Rings  \n",
       "0         0.150     15  \n",
       "1         0.070      7  \n",
       "2         0.210      9  \n",
       "3         0.155     10  \n",
       "4         0.055      7  "
      ]
     },
     "execution_count": 8,
     "metadata": {},
     "output_type": "execute_result"
    }
   ],
   "source": [
    "data.head()"
   ]
  },
  {
   "cell_type": "code",
   "execution_count": 9,
   "id": "25cf9285",
   "metadata": {},
   "outputs": [
    {
     "data": {
      "text/html": [
       "<div>\n",
       "<style scoped>\n",
       "    .dataframe tbody tr th:only-of-type {\n",
       "        vertical-align: middle;\n",
       "    }\n",
       "\n",
       "    .dataframe tbody tr th {\n",
       "        vertical-align: top;\n",
       "    }\n",
       "\n",
       "    .dataframe thead th {\n",
       "        text-align: right;\n",
       "    }\n",
       "</style>\n",
       "<table border=\"1\" class=\"dataframe\">\n",
       "  <thead>\n",
       "    <tr style=\"text-align: right;\">\n",
       "      <th></th>\n",
       "      <th>Length</th>\n",
       "      <th>Diameter</th>\n",
       "      <th>Height</th>\n",
       "      <th>Whole weight</th>\n",
       "      <th>Shucked weight</th>\n",
       "      <th>Viscera weight</th>\n",
       "      <th>Shell weight</th>\n",
       "      <th>Rings</th>\n",
       "    </tr>\n",
       "  </thead>\n",
       "  <tbody>\n",
       "    <tr>\n",
       "      <th>count</th>\n",
       "      <td>4177.000000</td>\n",
       "      <td>4177.000000</td>\n",
       "      <td>4177.000000</td>\n",
       "      <td>4177.000000</td>\n",
       "      <td>4177.000000</td>\n",
       "      <td>4177.000000</td>\n",
       "      <td>4177.000000</td>\n",
       "      <td>4177.000000</td>\n",
       "    </tr>\n",
       "    <tr>\n",
       "      <th>mean</th>\n",
       "      <td>0.523992</td>\n",
       "      <td>0.407881</td>\n",
       "      <td>0.139516</td>\n",
       "      <td>0.828742</td>\n",
       "      <td>0.359367</td>\n",
       "      <td>0.180594</td>\n",
       "      <td>0.238831</td>\n",
       "      <td>9.933684</td>\n",
       "    </tr>\n",
       "    <tr>\n",
       "      <th>std</th>\n",
       "      <td>0.120093</td>\n",
       "      <td>0.099240</td>\n",
       "      <td>0.041827</td>\n",
       "      <td>0.490389</td>\n",
       "      <td>0.221963</td>\n",
       "      <td>0.109614</td>\n",
       "      <td>0.139203</td>\n",
       "      <td>3.224169</td>\n",
       "    </tr>\n",
       "    <tr>\n",
       "      <th>min</th>\n",
       "      <td>0.075000</td>\n",
       "      <td>0.055000</td>\n",
       "      <td>0.000000</td>\n",
       "      <td>0.002000</td>\n",
       "      <td>0.001000</td>\n",
       "      <td>0.000500</td>\n",
       "      <td>0.001500</td>\n",
       "      <td>1.000000</td>\n",
       "    </tr>\n",
       "    <tr>\n",
       "      <th>25%</th>\n",
       "      <td>0.450000</td>\n",
       "      <td>0.350000</td>\n",
       "      <td>0.115000</td>\n",
       "      <td>0.441500</td>\n",
       "      <td>0.186000</td>\n",
       "      <td>0.093500</td>\n",
       "      <td>0.130000</td>\n",
       "      <td>8.000000</td>\n",
       "    </tr>\n",
       "    <tr>\n",
       "      <th>50%</th>\n",
       "      <td>0.545000</td>\n",
       "      <td>0.425000</td>\n",
       "      <td>0.140000</td>\n",
       "      <td>0.799500</td>\n",
       "      <td>0.336000</td>\n",
       "      <td>0.171000</td>\n",
       "      <td>0.234000</td>\n",
       "      <td>9.000000</td>\n",
       "    </tr>\n",
       "    <tr>\n",
       "      <th>75%</th>\n",
       "      <td>0.615000</td>\n",
       "      <td>0.480000</td>\n",
       "      <td>0.165000</td>\n",
       "      <td>1.153000</td>\n",
       "      <td>0.502000</td>\n",
       "      <td>0.253000</td>\n",
       "      <td>0.329000</td>\n",
       "      <td>11.000000</td>\n",
       "    </tr>\n",
       "    <tr>\n",
       "      <th>max</th>\n",
       "      <td>0.815000</td>\n",
       "      <td>0.650000</td>\n",
       "      <td>1.130000</td>\n",
       "      <td>2.825500</td>\n",
       "      <td>1.488000</td>\n",
       "      <td>0.760000</td>\n",
       "      <td>1.005000</td>\n",
       "      <td>29.000000</td>\n",
       "    </tr>\n",
       "  </tbody>\n",
       "</table>\n",
       "</div>"
      ],
      "text/plain": [
       "            Length     Diameter       Height  Whole weight  Shucked weight  \\\n",
       "count  4177.000000  4177.000000  4177.000000   4177.000000     4177.000000   \n",
       "mean      0.523992     0.407881     0.139516      0.828742        0.359367   \n",
       "std       0.120093     0.099240     0.041827      0.490389        0.221963   \n",
       "min       0.075000     0.055000     0.000000      0.002000        0.001000   \n",
       "25%       0.450000     0.350000     0.115000      0.441500        0.186000   \n",
       "50%       0.545000     0.425000     0.140000      0.799500        0.336000   \n",
       "75%       0.615000     0.480000     0.165000      1.153000        0.502000   \n",
       "max       0.815000     0.650000     1.130000      2.825500        1.488000   \n",
       "\n",
       "       Viscera weight  Shell weight        Rings  \n",
       "count     4177.000000   4177.000000  4177.000000  \n",
       "mean         0.180594      0.238831     9.933684  \n",
       "std          0.109614      0.139203     3.224169  \n",
       "min          0.000500      0.001500     1.000000  \n",
       "25%          0.093500      0.130000     8.000000  \n",
       "50%          0.171000      0.234000     9.000000  \n",
       "75%          0.253000      0.329000    11.000000  \n",
       "max          0.760000      1.005000    29.000000  "
      ]
     },
     "execution_count": 9,
     "metadata": {},
     "output_type": "execute_result"
    }
   ],
   "source": [
    "data.describe()"
   ]
  },
  {
   "cell_type": "code",
   "execution_count": 10,
   "id": "4d2c63ef",
   "metadata": {},
   "outputs": [
    {
     "name": "stdout",
     "output_type": "stream",
     "text": [
      "<class 'pandas.core.frame.DataFrame'>\n",
      "RangeIndex: 4177 entries, 0 to 4176\n",
      "Data columns (total 8 columns):\n",
      " #   Column          Non-Null Count  Dtype  \n",
      "---  ------          --------------  -----  \n",
      " 0   Length          4177 non-null   float64\n",
      " 1   Diameter        4177 non-null   float64\n",
      " 2   Height          4177 non-null   float64\n",
      " 3   Whole weight    4177 non-null   float64\n",
      " 4   Shucked weight  4177 non-null   float64\n",
      " 5   Viscera weight  4177 non-null   float64\n",
      " 6   Shell weight    4177 non-null   float64\n",
      " 7   Rings           4177 non-null   int64  \n",
      "dtypes: float64(7), int64(1)\n",
      "memory usage: 261.2 KB\n"
     ]
    }
   ],
   "source": [
    "data.info()"
   ]
  },
  {
   "cell_type": "code",
   "execution_count": 11,
   "id": "bd3dab0e",
   "metadata": {},
   "outputs": [
    {
     "data": {
      "text/html": [
       "<div>\n",
       "<style scoped>\n",
       "    .dataframe tbody tr th:only-of-type {\n",
       "        vertical-align: middle;\n",
       "    }\n",
       "\n",
       "    .dataframe tbody tr th {\n",
       "        vertical-align: top;\n",
       "    }\n",
       "\n",
       "    .dataframe thead th {\n",
       "        text-align: right;\n",
       "    }\n",
       "</style>\n",
       "<table border=\"1\" class=\"dataframe\">\n",
       "  <thead>\n",
       "    <tr style=\"text-align: right;\">\n",
       "      <th></th>\n",
       "      <th>Length</th>\n",
       "      <th>Diameter</th>\n",
       "      <th>Height</th>\n",
       "      <th>Whole weight</th>\n",
       "      <th>Shucked weight</th>\n",
       "      <th>Viscera weight</th>\n",
       "      <th>Shell weight</th>\n",
       "      <th>Rings</th>\n",
       "    </tr>\n",
       "  </thead>\n",
       "  <tbody>\n",
       "    <tr>\n",
       "      <th>0</th>\n",
       "      <td>0.513514</td>\n",
       "      <td>0.521008</td>\n",
       "      <td>0.084071</td>\n",
       "      <td>0.181335</td>\n",
       "      <td>0.150303</td>\n",
       "      <td>0.132324</td>\n",
       "      <td>0.147982</td>\n",
       "      <td>0.500000</td>\n",
       "    </tr>\n",
       "    <tr>\n",
       "      <th>1</th>\n",
       "      <td>0.371622</td>\n",
       "      <td>0.352941</td>\n",
       "      <td>0.079646</td>\n",
       "      <td>0.079157</td>\n",
       "      <td>0.066241</td>\n",
       "      <td>0.063199</td>\n",
       "      <td>0.068261</td>\n",
       "      <td>0.214286</td>\n",
       "    </tr>\n",
       "    <tr>\n",
       "      <th>2</th>\n",
       "      <td>0.614865</td>\n",
       "      <td>0.613445</td>\n",
       "      <td>0.119469</td>\n",
       "      <td>0.239065</td>\n",
       "      <td>0.171822</td>\n",
       "      <td>0.185648</td>\n",
       "      <td>0.207773</td>\n",
       "      <td>0.285714</td>\n",
       "    </tr>\n",
       "    <tr>\n",
       "      <th>3</th>\n",
       "      <td>0.493243</td>\n",
       "      <td>0.521008</td>\n",
       "      <td>0.110619</td>\n",
       "      <td>0.182044</td>\n",
       "      <td>0.144250</td>\n",
       "      <td>0.149440</td>\n",
       "      <td>0.152965</td>\n",
       "      <td>0.321429</td>\n",
       "    </tr>\n",
       "    <tr>\n",
       "      <th>4</th>\n",
       "      <td>0.344595</td>\n",
       "      <td>0.336134</td>\n",
       "      <td>0.070796</td>\n",
       "      <td>0.071897</td>\n",
       "      <td>0.059516</td>\n",
       "      <td>0.051350</td>\n",
       "      <td>0.053313</td>\n",
       "      <td>0.214286</td>\n",
       "    </tr>\n",
       "    <tr>\n",
       "      <th>...</th>\n",
       "      <td>...</td>\n",
       "      <td>...</td>\n",
       "      <td>...</td>\n",
       "      <td>...</td>\n",
       "      <td>...</td>\n",
       "      <td>...</td>\n",
       "      <td>...</td>\n",
       "      <td>...</td>\n",
       "    </tr>\n",
       "    <tr>\n",
       "      <th>4172</th>\n",
       "      <td>0.662162</td>\n",
       "      <td>0.663866</td>\n",
       "      <td>0.146018</td>\n",
       "      <td>0.313441</td>\n",
       "      <td>0.248151</td>\n",
       "      <td>0.314022</td>\n",
       "      <td>0.246637</td>\n",
       "      <td>0.357143</td>\n",
       "    </tr>\n",
       "    <tr>\n",
       "      <th>4173</th>\n",
       "      <td>0.695946</td>\n",
       "      <td>0.647059</td>\n",
       "      <td>0.119469</td>\n",
       "      <td>0.341420</td>\n",
       "      <td>0.294553</td>\n",
       "      <td>0.281764</td>\n",
       "      <td>0.258097</td>\n",
       "      <td>0.321429</td>\n",
       "    </tr>\n",
       "    <tr>\n",
       "      <th>4174</th>\n",
       "      <td>0.709459</td>\n",
       "      <td>0.705882</td>\n",
       "      <td>0.181416</td>\n",
       "      <td>0.415796</td>\n",
       "      <td>0.352724</td>\n",
       "      <td>0.377880</td>\n",
       "      <td>0.305431</td>\n",
       "      <td>0.285714</td>\n",
       "    </tr>\n",
       "    <tr>\n",
       "      <th>4175</th>\n",
       "      <td>0.743243</td>\n",
       "      <td>0.722689</td>\n",
       "      <td>0.132743</td>\n",
       "      <td>0.386931</td>\n",
       "      <td>0.356422</td>\n",
       "      <td>0.342989</td>\n",
       "      <td>0.293473</td>\n",
       "      <td>0.321429</td>\n",
       "    </tr>\n",
       "    <tr>\n",
       "      <th>4176</th>\n",
       "      <td>0.858108</td>\n",
       "      <td>0.840336</td>\n",
       "      <td>0.172566</td>\n",
       "      <td>0.689393</td>\n",
       "      <td>0.635171</td>\n",
       "      <td>0.495063</td>\n",
       "      <td>0.491779</td>\n",
       "      <td>0.392857</td>\n",
       "    </tr>\n",
       "  </tbody>\n",
       "</table>\n",
       "<p>4177 rows × 8 columns</p>\n",
       "</div>"
      ],
      "text/plain": [
       "        Length  Diameter    Height  Whole weight  Shucked weight  \\\n",
       "0     0.513514  0.521008  0.084071      0.181335        0.150303   \n",
       "1     0.371622  0.352941  0.079646      0.079157        0.066241   \n",
       "2     0.614865  0.613445  0.119469      0.239065        0.171822   \n",
       "3     0.493243  0.521008  0.110619      0.182044        0.144250   \n",
       "4     0.344595  0.336134  0.070796      0.071897        0.059516   \n",
       "...        ...       ...       ...           ...             ...   \n",
       "4172  0.662162  0.663866  0.146018      0.313441        0.248151   \n",
       "4173  0.695946  0.647059  0.119469      0.341420        0.294553   \n",
       "4174  0.709459  0.705882  0.181416      0.415796        0.352724   \n",
       "4175  0.743243  0.722689  0.132743      0.386931        0.356422   \n",
       "4176  0.858108  0.840336  0.172566      0.689393        0.635171   \n",
       "\n",
       "      Viscera weight  Shell weight     Rings  \n",
       "0           0.132324      0.147982  0.500000  \n",
       "1           0.063199      0.068261  0.214286  \n",
       "2           0.185648      0.207773  0.285714  \n",
       "3           0.149440      0.152965  0.321429  \n",
       "4           0.051350      0.053313  0.214286  \n",
       "...              ...           ...       ...  \n",
       "4172        0.314022      0.246637  0.357143  \n",
       "4173        0.281764      0.258097  0.321429  \n",
       "4174        0.377880      0.305431  0.285714  \n",
       "4175        0.342989      0.293473  0.321429  \n",
       "4176        0.495063      0.491779  0.392857  \n",
       "\n",
       "[4177 rows x 8 columns]"
      ]
     },
     "execution_count": 11,
     "metadata": {},
     "output_type": "execute_result"
    }
   ],
   "source": [
    "# Min-Max Scaling\n",
    "# 간단한 수식이지만, 웬만큼 튀는 수치는 이걸로 잡을 수 있다.\n",
    "\n",
    "data = (data - np.min(data)) / (np.max(data) - np.min(data))\n",
    "data"
   ]
  },
  {
   "cell_type": "code",
   "execution_count": 12,
   "id": "bcad0e99",
   "metadata": {},
   "outputs": [],
   "source": [
    "# 패키지 안에 제공되는 Min-Max Scaling 사용\n",
    "\n",
    "from sklearn.preprocessing import MinMaxScaler"
   ]
  },
  {
   "cell_type": "code",
   "execution_count": 13,
   "id": "34331061",
   "metadata": {},
   "outputs": [],
   "source": [
    "mMscaler = MinMaxScaler()"
   ]
  },
  {
   "cell_type": "code",
   "execution_count": 14,
   "id": "253d3608",
   "metadata": {},
   "outputs": [],
   "source": [
    "# mMscaler.fit(data)"
   ]
  },
  {
   "cell_type": "code",
   "execution_count": 15,
   "id": "f35f98ff",
   "metadata": {},
   "outputs": [],
   "source": [
    "# fit은 데이터를 붙이는 작업만 하고,\n",
    "# 실제로 변형할 때는 fit_transform에서 변형된다.\n",
    "# fit과 transform 둘 다 실행이 되려면 fit_transform을 사용해야 한다.\n",
    "\n",
    "mMscaled_data = mMscaler.fit_transform(data)"
   ]
  },
  {
   "cell_type": "code",
   "execution_count": 16,
   "id": "b6d3f699",
   "metadata": {},
   "outputs": [
    {
     "data": {
      "text/plain": [
       "pandas.core.frame.DataFrame"
      ]
     },
     "execution_count": 16,
     "metadata": {},
     "output_type": "execute_result"
    }
   ],
   "source": [
    "# pandas보다 numpy가 속도는 빠르다.\n",
    "type(mMscaled_data) # numpy.ndarray\n",
    "type(data) # pandas.core.frame.DataFrame"
   ]
  },
  {
   "cell_type": "markdown",
   "id": "1d28045b",
   "metadata": {},
   "source": [
    "## Standard Scaling\n",
    "- z-score라고 부르는데 데이터를 통계적으로 표준정규분포화 시켜 스케일링 하는 방식\n",
    "- 데이터의 평균이 0, 표준 편차가 1이 되도록 스케일링 함<br/>\n",
    "<img src=\"./images/0411_2.png\" style=\"float:left\" width=300px;>"
   ]
  },
  {
   "cell_type": "markdown",
   "id": "30856129",
   "metadata": {},
   "source": [
    "## StandardScaler 실습"
   ]
  },
  {
   "cell_type": "code",
   "execution_count": 17,
   "id": "6961f84f",
   "metadata": {},
   "outputs": [],
   "source": [
    "from sklearn.preprocessing import StandardScaler\n",
    "sdscaler = StandardScaler()"
   ]
  },
  {
   "cell_type": "code",
   "execution_count": 18,
   "id": "a278a96a",
   "metadata": {},
   "outputs": [],
   "source": [
    "sdscaled_data = sdscaler.fit_transform(data)"
   ]
  },
  {
   "cell_type": "code",
   "execution_count": 19,
   "id": "bd62308e",
   "metadata": {},
   "outputs": [
    {
     "data": {
      "text/plain": [
       "array([[-0.57455813, -0.43214879, -1.06442415, ..., -0.72621157,\n",
       "        -0.63821689,  1.57154357],\n",
       "       [-1.44898585, -1.439929  , -1.18397831, ..., -1.20522124,\n",
       "        -1.21298732, -0.91001299],\n",
       "       [ 0.05003309,  0.12213032, -0.10799087, ..., -0.35668983,\n",
       "        -0.20713907, -0.28962385],\n",
       "       ...,\n",
       "       [ 0.6329849 ,  0.67640943,  1.56576738, ...,  0.97541324,\n",
       "         0.49695471, -0.28962385],\n",
       "       [ 0.84118198,  0.77718745,  0.25067161, ...,  0.73362741,\n",
       "         0.41073914,  0.02057072],\n",
       "       [ 1.54905203,  1.48263359,  1.32665906, ...,  1.78744868,\n",
       "         1.84048058,  0.64095986]])"
      ]
     },
     "execution_count": 19,
     "metadata": {},
     "output_type": "execute_result"
    }
   ],
   "source": [
    "sdscaled_data\n",
    "# 데이터를 표준분포로 바꿨기 때문에 표준분포 위로는 + 값을 표준분포 아래로는 - 값을 가진다.\n",
    "# -1부터 +1까지의 값 사이에 분포하게 만들었다.\n",
    "# 대체로 MinMaxScaler를 주로 사용한다."
   ]
  },
  {
   "cell_type": "markdown",
   "id": "f0e9e742",
   "metadata": {},
   "source": [
    "# 3. Sampling\n",
    "- 샘플링 하는 이유는 클래스 불균형 문제를 해결하기 위함\n",
    "- 클래스 불균형 문제란,<br/>\n",
    "분류를 목적으로 하는 데이터 셋에 클래스 라벨의 비율이 균형적으로 맞지 않고<br/>\n",
    "한쪽으로 치우치게 되어 각 클래스의 데이터를 학습하기 어려워지는 경우<br/><br/>\n",
    "\n",
    "- 샘플링의 두가지 방법<br/>\n",
    "적은 클래스의 수를 증가시키는 Oversampling<br/>\n",
    "많은 클래스의 수를 감소시키는 Undersampling"
   ]
  },
  {
   "cell_type": "markdown",
   "id": "1e56a97d",
   "metadata": {},
   "source": [
    "## Random Over, Under Sampling\n",
    "- 가장 쉽게 샘플링 하는 방법은 임의로 데이터를 선택, 복제, 제거하는 방식<br/>\n",
    "복제하는 경우 생기는 문제점 : 데이터가 많아지면서 데이터 자체 과적합 될 수 있음<br/>\n",
    "제거하는 경우 생기는 문제점 : 데이터셋이 가지고 있는 정보 자체의 손실이 생길 수 있음<br/><br/>\n",
    "\n",
    "- 샘플링 알고리즘은 imblearn에서 제공"
   ]
  },
  {
   "cell_type": "markdown",
   "id": "b7751828",
   "metadata": {},
   "source": [
    "from imblearn.over_sampling import RandomOverSampler\n",
    "from imblearn.under_sampling import RandomUnderSampler\n",
    "\n",
    "ros = RandomOverSampler(random_state=2019)\n",
    "rus = RandomUnderSampler(random_state=2019)"
   ]
  },
  {
   "cell_type": "markdown",
   "id": "427273ea",
   "metadata": {},
   "source": [
    "데이터에서 특징을 학습함과 동시에 데이터 샘플링<br/><br/>\n",
    "\n",
    "Over 샘플링<br/>\n",
    "oversampled_data, oversampled_label = ros.fit_resample(data, label)<br/>\n",
    "oversampled_data = pd.DataFrame(oversampled_data, columns=data.columns)<br/><br/>\n",
    "\n",
    "Under 샘플링<br/>\n",
    "undersampled_data, undersampled_label = rus.fit_resample(data, label)<br/>\n",
    "undersampled_data = pd.DataFrame(undersampled_data, columns=data.columns)"
   ]
  },
  {
   "cell_type": "markdown",
   "id": "7d4a6563",
   "metadata": {},
   "source": [
    "print('원본 데이터의 클래스 비율 \\n{}'.format(pd.get_dummies(label).sum()))<br/>\n",
    "print('\\nRandom Over 샘플링 결과 \\n{}'.format(pd.get_dummies(oversampled_label).sum()))<br/>\n",
    "print('\\nRandom Under 샘플링 결과 \\n{}'.format(pd.get_dummies(undersampled_label).sum()))<br/>"
   ]
  },
  {
   "cell_type": "markdown",
   "id": "e0e9f7b3",
   "metadata": {},
   "source": [
    "## Random Over, Under Sampling 실습"
   ]
  },
  {
   "cell_type": "markdown",
   "id": "bd628bf8",
   "metadata": {},
   "source": [
    "!pip insatll imblearn<br/>\n",
    "명령으로 imblearn 라이브러리를 설치한다"
   ]
  },
  {
   "cell_type": "code",
   "execution_count": 20,
   "id": "677c90a7",
   "metadata": {},
   "outputs": [],
   "source": [
    "from imblearn.over_sampling import RandomOverSampler\n",
    "from imblearn.under_sampling import RandomUnderSampler\n",
    "\n",
    "ros = RandomOverSampler(random_state=2019)\n",
    "rus = RandomUnderSampler(random_state=2019)"
   ]
  },
  {
   "cell_type": "code",
   "execution_count": 21,
   "id": "b969ee48",
   "metadata": {},
   "outputs": [
    {
     "data": {
      "text/plain": [
       "(4177, 8)"
      ]
     },
     "execution_count": 21,
     "metadata": {},
     "output_type": "execute_result"
    }
   ],
   "source": [
    "data.shape"
   ]
  },
  {
   "cell_type": "code",
   "execution_count": 22,
   "id": "511f3841",
   "metadata": {},
   "outputs": [],
   "source": [
    "oversampled_data, oversampled_label = ros.fit_resample(data, label)\n",
    "oversampled_data = pd.DataFrame(oversampled_data, columns=data.columns)"
   ]
  },
  {
   "cell_type": "code",
   "execution_count": 23,
   "id": "80ed9a54",
   "metadata": {},
   "outputs": [
    {
     "data": {
      "text/plain": [
       "(4584, 8)"
      ]
     },
     "execution_count": 23,
     "metadata": {},
     "output_type": "execute_result"
    }
   ],
   "source": [
    "oversampled_data.shape # 샘플이 늘어난 것을 확인할 수 있다."
   ]
  },
  {
   "cell_type": "code",
   "execution_count": 24,
   "id": "2b12bb6f",
   "metadata": {},
   "outputs": [
    {
     "data": {
      "text/html": [
       "<div>\n",
       "<style scoped>\n",
       "    .dataframe tbody tr th:only-of-type {\n",
       "        vertical-align: middle;\n",
       "    }\n",
       "\n",
       "    .dataframe tbody tr th {\n",
       "        vertical-align: top;\n",
       "    }\n",
       "\n",
       "    .dataframe thead th {\n",
       "        text-align: right;\n",
       "    }\n",
       "</style>\n",
       "<table border=\"1\" class=\"dataframe\">\n",
       "  <thead>\n",
       "    <tr style=\"text-align: right;\">\n",
       "      <th></th>\n",
       "      <th>Length</th>\n",
       "      <th>Diameter</th>\n",
       "      <th>Height</th>\n",
       "      <th>Whole weight</th>\n",
       "      <th>Shucked weight</th>\n",
       "      <th>Viscera weight</th>\n",
       "      <th>Shell weight</th>\n",
       "      <th>Rings</th>\n",
       "    </tr>\n",
       "  </thead>\n",
       "  <tbody>\n",
       "    <tr>\n",
       "      <th>0</th>\n",
       "      <td>0.513514</td>\n",
       "      <td>0.521008</td>\n",
       "      <td>0.084071</td>\n",
       "      <td>0.181335</td>\n",
       "      <td>0.150303</td>\n",
       "      <td>0.132324</td>\n",
       "      <td>0.147982</td>\n",
       "      <td>0.500000</td>\n",
       "    </tr>\n",
       "    <tr>\n",
       "      <th>1</th>\n",
       "      <td>0.371622</td>\n",
       "      <td>0.352941</td>\n",
       "      <td>0.079646</td>\n",
       "      <td>0.079157</td>\n",
       "      <td>0.066241</td>\n",
       "      <td>0.063199</td>\n",
       "      <td>0.068261</td>\n",
       "      <td>0.214286</td>\n",
       "    </tr>\n",
       "    <tr>\n",
       "      <th>2</th>\n",
       "      <td>0.614865</td>\n",
       "      <td>0.613445</td>\n",
       "      <td>0.119469</td>\n",
       "      <td>0.239065</td>\n",
       "      <td>0.171822</td>\n",
       "      <td>0.185648</td>\n",
       "      <td>0.207773</td>\n",
       "      <td>0.285714</td>\n",
       "    </tr>\n",
       "    <tr>\n",
       "      <th>3</th>\n",
       "      <td>0.493243</td>\n",
       "      <td>0.521008</td>\n",
       "      <td>0.110619</td>\n",
       "      <td>0.182044</td>\n",
       "      <td>0.144250</td>\n",
       "      <td>0.149440</td>\n",
       "      <td>0.152965</td>\n",
       "      <td>0.321429</td>\n",
       "    </tr>\n",
       "    <tr>\n",
       "      <th>4</th>\n",
       "      <td>0.344595</td>\n",
       "      <td>0.336134</td>\n",
       "      <td>0.070796</td>\n",
       "      <td>0.071897</td>\n",
       "      <td>0.059516</td>\n",
       "      <td>0.051350</td>\n",
       "      <td>0.053313</td>\n",
       "      <td>0.214286</td>\n",
       "    </tr>\n",
       "    <tr>\n",
       "      <th>...</th>\n",
       "      <td>...</td>\n",
       "      <td>...</td>\n",
       "      <td>...</td>\n",
       "      <td>...</td>\n",
       "      <td>...</td>\n",
       "      <td>...</td>\n",
       "      <td>...</td>\n",
       "      <td>...</td>\n",
       "    </tr>\n",
       "    <tr>\n",
       "      <th>4579</th>\n",
       "      <td>0.635135</td>\n",
       "      <td>0.613445</td>\n",
       "      <td>0.146018</td>\n",
       "      <td>0.315743</td>\n",
       "      <td>0.284129</td>\n",
       "      <td>0.288348</td>\n",
       "      <td>0.225710</td>\n",
       "      <td>0.250000</td>\n",
       "    </tr>\n",
       "    <tr>\n",
       "      <th>4580</th>\n",
       "      <td>0.574324</td>\n",
       "      <td>0.554622</td>\n",
       "      <td>0.106195</td>\n",
       "      <td>0.197627</td>\n",
       "      <td>0.189980</td>\n",
       "      <td>0.134957</td>\n",
       "      <td>0.133034</td>\n",
       "      <td>0.250000</td>\n",
       "    </tr>\n",
       "    <tr>\n",
       "      <th>4581</th>\n",
       "      <td>0.520270</td>\n",
       "      <td>0.521008</td>\n",
       "      <td>0.101770</td>\n",
       "      <td>0.180273</td>\n",
       "      <td>0.158373</td>\n",
       "      <td>0.154707</td>\n",
       "      <td>0.121076</td>\n",
       "      <td>0.214286</td>\n",
       "    </tr>\n",
       "    <tr>\n",
       "      <th>4582</th>\n",
       "      <td>0.594595</td>\n",
       "      <td>0.563025</td>\n",
       "      <td>0.097345</td>\n",
       "      <td>0.187356</td>\n",
       "      <td>0.161735</td>\n",
       "      <td>0.128374</td>\n",
       "      <td>0.159442</td>\n",
       "      <td>0.250000</td>\n",
       "    </tr>\n",
       "    <tr>\n",
       "      <th>4583</th>\n",
       "      <td>0.358108</td>\n",
       "      <td>0.327731</td>\n",
       "      <td>0.061947</td>\n",
       "      <td>0.078095</td>\n",
       "      <td>0.069267</td>\n",
       "      <td>0.055300</td>\n",
       "      <td>0.053313</td>\n",
       "      <td>0.214286</td>\n",
       "    </tr>\n",
       "  </tbody>\n",
       "</table>\n",
       "<p>4584 rows × 8 columns</p>\n",
       "</div>"
      ],
      "text/plain": [
       "        Length  Diameter    Height  Whole weight  Shucked weight  \\\n",
       "0     0.513514  0.521008  0.084071      0.181335        0.150303   \n",
       "1     0.371622  0.352941  0.079646      0.079157        0.066241   \n",
       "2     0.614865  0.613445  0.119469      0.239065        0.171822   \n",
       "3     0.493243  0.521008  0.110619      0.182044        0.144250   \n",
       "4     0.344595  0.336134  0.070796      0.071897        0.059516   \n",
       "...        ...       ...       ...           ...             ...   \n",
       "4579  0.635135  0.613445  0.146018      0.315743        0.284129   \n",
       "4580  0.574324  0.554622  0.106195      0.197627        0.189980   \n",
       "4581  0.520270  0.521008  0.101770      0.180273        0.158373   \n",
       "4582  0.594595  0.563025  0.097345      0.187356        0.161735   \n",
       "4583  0.358108  0.327731  0.061947      0.078095        0.069267   \n",
       "\n",
       "      Viscera weight  Shell weight     Rings  \n",
       "0           0.132324      0.147982  0.500000  \n",
       "1           0.063199      0.068261  0.214286  \n",
       "2           0.185648      0.207773  0.285714  \n",
       "3           0.149440      0.152965  0.321429  \n",
       "4           0.051350      0.053313  0.214286  \n",
       "...              ...           ...       ...  \n",
       "4579        0.288348      0.225710  0.250000  \n",
       "4580        0.134957      0.133034  0.250000  \n",
       "4581        0.154707      0.121076  0.214286  \n",
       "4582        0.128374      0.159442  0.250000  \n",
       "4583        0.055300      0.053313  0.214286  \n",
       "\n",
       "[4584 rows x 8 columns]"
      ]
     },
     "execution_count": 24,
     "metadata": {},
     "output_type": "execute_result"
    }
   ],
   "source": [
    "oversampled_data"
   ]
  },
  {
   "cell_type": "code",
   "execution_count": 25,
   "id": "0f22bc63",
   "metadata": {},
   "outputs": [],
   "source": [
    "undersampled_data, undersampled_label = rus.fit_resample(data, label)"
   ]
  },
  {
   "cell_type": "code",
   "execution_count": 26,
   "id": "9916207b",
   "metadata": {},
   "outputs": [
    {
     "data": {
      "text/plain": [
       "(3921, 8)"
      ]
     },
     "execution_count": 26,
     "metadata": {},
     "output_type": "execute_result"
    }
   ],
   "source": [
    "undersampled_data.shape"
   ]
  },
  {
   "cell_type": "markdown",
   "id": "bbc429a0",
   "metadata": {},
   "source": [
    "여태까지는 oversampled와 undersampled가 임의로 증가하거나 줄어들거나 함.<br/><br/>\n",
    "\n",
    "SMOTE (Synthetic Monority Oversampling Technique)<br/>\n",
    "- 임의 Over, Under 샘플링은 데이터 중복으로 인한 과적합 문제나 데이터 손실의 문제가 있어 문제를 최대한 해결할 수 있는 방법으로 SMOTE 알고리즘이 제시<br/>\n",
    "- SMOTE 알고리즘은 수가 적은 클래스의 점을 하나 선택해 k개의 가까운 데이터 샘플을 찾고 그 사이에 새로운 점을 생성하는 방식\n",
    "- SMOTE의 장점은 데이터 손실이 없고 과적합을 완화 시킬 수 있음<br/>"
   ]
  },
  {
   "cell_type": "markdown",
   "id": "d9a303bc",
   "metadata": {},
   "source": [
    "knn 최근접의 거리가 멀수록 스무스하게 나오고 거리가 가까울 수록 타이트하게 나온다."
   ]
  },
  {
   "cell_type": "code",
   "execution_count": 27,
   "id": "11268fac",
   "metadata": {},
   "outputs": [],
   "source": [
    "from sklearn.datasets import make_classification\n",
    "#classification을 할 수 있는 데이터를 생성해준다.\n",
    "\n",
    "data, label = make_classification(\n",
    "    n_samples = 1000, # 샘플의 총 갯수\n",
    "    n_classes = 3, # 3개의 그룹\n",
    "    n_features = 2,\n",
    "    n_repeated = 0, # 반복\n",
    "    n_informative = 2,\n",
    "    n_redundant = 0,\n",
    "    n_clusters_per_class = 1, # 한 클래스 안에 하나의 클러스터가 들어간다. 명확한 데이터를 만들겠다.\n",
    "    weights = [0.05, 0.15, 0.8], # 벡분율 기준으로 다 합치면 숫자 1이 되어야 한다.\n",
    "    class_sep = 1, # 클래스가 얼마나 떨어져 있는지\n",
    "    random_state = 2022 # 난수 발생 시드\n",
    ")"
   ]
  },
  {
   "cell_type": "markdown",
   "id": "d1d8028e",
   "metadata": {},
   "source": [
    "class_sep : 클래스간 얼마나 떨어져있는지, 기본값은 1이며 값이 올라갈수록 클래스간 많이 떨어져있어 분류가 쉽다.<br/>\n",
    "random_state : 재현가능하기위한 랜덤넘버<br/>\n",
    "n_informative : 쓸모있는 피처가 몇개있는지. n_features보다는 적게 주어야 한다.<br/>\n",
    "weights : 1이면 균형셋, 그렇지않으면 불균형 세트, 현재 3개라 (5%, 15%, 80%) 셋으로 만듬<br/>"
   ]
  },
  {
   "cell_type": "markdown",
   "id": "2235852d",
   "metadata": {},
   "source": [
    "### make_classification 함수는 설정에 따른 분류용 가상 데이터를 생성하는 명령<br/>\n",
    "\n",
    "- n_samples : 표본 데이터의 수, 디폴트 100\n",
    "- n_classes : 종속 변수의 클래스 수, 디폴트 2\n",
    "- n_features : 독립 변수의 수, 디폴트 20\n",
    "- n_repeated : 독립 변수 중 단순 중복된 성분의 수, 디폴트 0\n",
    "- n_informative : 독립 변수 중 종속 변수와 상관 관계가 있는 성분의 수, 디폴트 2\n",
    "- n_redundant : 독립 변수 중 다른 독립 변수의 선형 조합으로 나타나는 성분의 수, 디폴트 2\n",
    "- n_clusters_per_class : 클래스 당 클러스터의 수, 디폴트 2\n",
    "- weights : 각 클래스에 할당된 표본 수\n",
    "- random_state : 난수 발생 시드\n",
    "- class_sep : 클래스 간 얼마나 떨어져 있는지, 기본 값은 1이며 값이 올라갈수록 클래스 간 많이 떨어져있어서 분류가 쉽다."
   ]
  },
  {
   "cell_type": "code",
   "execution_count": 28,
   "id": "f1f4ec6c",
   "metadata": {},
   "outputs": [
    {
     "data": {
      "text/plain": [
       "(1000, 2)"
      ]
     },
     "execution_count": 28,
     "metadata": {},
     "output_type": "execute_result"
    }
   ],
   "source": [
    "data.shape"
   ]
  },
  {
   "cell_type": "code",
   "execution_count": 29,
   "id": "c834b4d1",
   "metadata": {},
   "outputs": [
    {
     "data": {
      "text/plain": [
       "array([[-2.11117507,  0.70864868],\n",
       "       [ 0.03908554, -2.1966176 ],\n",
       "       [ 0.61063734, -1.29651695],\n",
       "       ...,\n",
       "       [-0.94729639, -1.26505046],\n",
       "       [ 0.98391513, -1.8661851 ],\n",
       "       [ 0.15128065,  2.68764856]])"
      ]
     },
     "execution_count": 29,
     "metadata": {},
     "output_type": "execute_result"
    }
   ],
   "source": [
    "data"
   ]
  },
  {
   "cell_type": "code",
   "execution_count": 30,
   "id": "a7a7bc46",
   "metadata": {
    "scrolled": true
   },
   "outputs": [
    {
     "data": {
      "text/plain": [
       "<matplotlib.collections.PathCollection at 0x1f31b806370>"
      ]
     },
     "execution_count": 30,
     "metadata": {},
     "output_type": "execute_result"
    },
    {
     "data": {
      "image/png": "[encoded data removed]",
      "text/plain": [
       "<Figure size 432x288 with 1 Axes>"
      ]
     },
     "metadata": {
      "needs_background": "light"
     },
     "output_type": "display_data"
    }
   ],
   "source": [
    "plt.scatter(data[:,0], data[:,1], c = label, linewidth=1, edgecolor=\"k\")\n",
    "# color를 label로 주면 클래스마다 색상이 다르게 나온다"
   ]
  },
  {
   "cell_type": "code",
   "execution_count": 31,
   "id": "04bcd048",
   "metadata": {},
   "outputs": [],
   "source": [
    "from imblearn.over_sampling import SMOTE\n",
    "smote = SMOTE(k_neighbors=5) # 기본 5개를 기준으로 실행해본다."
   ]
  },
  {
   "cell_type": "markdown",
   "id": "3459c7e3",
   "metadata": {},
   "source": [
    "### SMOTE (Sythetic Minority Over-Sampling Technique)\n",
    "거의 모든 샘플링 기법이 이 SMOTE를 뿌리로 뻗어나갔다해도 과언이 아닐만큼 많이 쓰인 기법이다.<br/>\n",
    "<strong>임의의 소수 클래스 데이터로부터 인근 소수 클래스 사이에 새로운 데이터를 생성하는 것</strong><br/><br/>\n",
    "방법<br/>\n",
    "- 먼저 임의의 소수 클래스에 해당하는 관측치 X를 잡는다.<br/>\n",
    "- 그 X로부터 가장 가까운 K개의 이웃(nn : Nearest Neighbors)를 찾는다.<br/>\n",
    "- K개의 X(nn)개와 X 사이에 임의의 새로운 데이터 X를 생성하는 것"
   ]
  },
  {
   "cell_type": "code",
   "execution_count": 32,
   "id": "96e7799b",
   "metadata": {},
   "outputs": [],
   "source": [
    "smoted_data, smoted_label = smote.fit_resample(data, label)"
   ]
  },
  {
   "cell_type": "code",
   "execution_count": 33,
   "id": "6c6202c8",
   "metadata": {},
   "outputs": [
    {
     "data": {
      "text/plain": [
       "(1000, 2)"
      ]
     },
     "execution_count": 33,
     "metadata": {},
     "output_type": "execute_result"
    }
   ],
   "source": [
    "data.shape"
   ]
  },
  {
   "cell_type": "code",
   "execution_count": 34,
   "id": "a7ae9bce",
   "metadata": {},
   "outputs": [
    {
     "data": {
      "text/plain": [
       "(2382, 2)"
      ]
     },
     "execution_count": 34,
     "metadata": {},
     "output_type": "execute_result"
    }
   ],
   "source": [
    "smoted_data.shape # 130% 가까이 데이터가 over sampling 됨"
   ]
  },
  {
   "cell_type": "code",
   "execution_count": 35,
   "id": "8a9b1941",
   "metadata": {},
   "outputs": [
    {
     "name": "stdout",
     "output_type": "stream",
     "text": [
      "원본 데이터의 클래스 비율 \n",
      "0     54\n",
      "1    152\n",
      "2    794\n",
      "dtype: int64\n",
      "\n",
      "Random Over 샘플링 결과 \n",
      "0    794\n",
      "1    794\n",
      "2    794\n",
      "dtype: int64\n"
     ]
    }
   ],
   "source": [
    "print('원본 데이터의 클래스 비율 \\n{}'.format(pd.get_dummies(label).sum()))\n",
    "# 라벨을 기준으로 dummis (데이터) 를 털어내서 합계를 내서 출력 / 5%, 15%, 80% 비율의 값이 출력\n",
    "print('\\nRandom Over 샘플링 결과 \\n{}'.format(pd.get_dummies(smoted_label).sum()))\n",
    "# 제일 큰 숫자에 나머지가 다 맞춰졌다.\n",
    "# knn 5개의 점 중에 제일 멀리있는 점 근처에 샘플링을 늘린 결과다."
   ]
  },
  {
   "cell_type": "markdown",
   "id": "49623de6",
   "metadata": {},
   "source": [
    "예를들어,<br/>\n",
    "통계를 맞출 때 A그룹은 남자, B그룹은 여자, C그룹은 성소수자 일 때, <br/>\n",
    "다수결로 결정한다면 남자의 의견을 들어야하는 상황이 온다.<br/>\n",
    "남자 : 100, 여자 : 97, 성소수자 : 7 일 때 <br/>\n",
    "비율로 통계를 낸다고 한다면 가장 많은 남자 그룹에 맞춰서 샘플의 갯수를 늘리는 방식이다."
   ]
  },
  {
   "cell_type": "code",
   "execution_count": 36,
   "id": "be6f6973",
   "metadata": {
    "scrolled": true
   },
   "outputs": [
    {
     "data": {
      "text/plain": [
       "<matplotlib.collections.PathCollection at 0x1f31b92a460>"
      ]
     },
     "execution_count": 36,
     "metadata": {},
     "output_type": "execute_result"
    },
    {
     "data": {
      "image/png": "[encoded data removed]",
      "text/plain": [
       "<Figure size 432x288 with 1 Axes>"
      ]
     },
     "metadata": {
      "needs_background": "light"
     },
     "output_type": "display_data"
    }
   ],
   "source": [
    "plt.scatter(smoted_data[:,0], smoted_data[:, 1], c=smoted_label, linewidth=1, edgecolors=\"k\")"
   ]
  },
  {
   "cell_type": "markdown",
   "id": "702fbd8a",
   "metadata": {},
   "source": [
    "샘플의 갯수가 늘어난 것을 볼 수 있다.<br/>\n",
    "데이터의 분포가 깔끔하지 않은이유? <br/>\n",
    "원 데이터의 분포에서 떨어져있는 점이 있다.<br/>\n",
    "작은 갯수 주변으로 샘플의 갯수가 늘어난 것이다.<br/>\n",
    "\n",
    "샘플링할 때 가장 많이 사용되는 형태가 SMOTE 형태이다."
   ]
  },
  {
   "cell_type": "markdown",
   "id": "2d20fdd4",
   "metadata": {},
   "source": [
    "# 4. Dimensionality Reduction\n",
    "\n",
    "차원의 저주는 저차원에서 일어나지 않았던 현상들이<br/>\n",
    "고차원에서 데이터를 분석하거나 다룰 때 발생하는 현상<br/><br/>\n",
    "\n",
    "차원의 저주가 발생하는 이유?<br/>\n",
    "- 고차원으로 올라갈 수록 공간의 크기가 증가<br/>\n",
    "- 공간의 크기가 증가할 경우, 데이터가 존재하지 않는 빈 공간이 생김<br/>이런 빈 공간들이 데이터를 해석할 때 문제를 일으킴<br/>\n",
    "특성이 옅어지면 데이터 분석 시 힘듬"
   ]
  },
  {
   "cell_type": "markdown",
   "id": "ad381ecb",
   "metadata": {},
   "source": [
    "- 데이터의 차원이 불필요하게 큰 경우에는 필요없는 변수를 제거하고<br/>\n",
    "과적합을 방지하기 위해서 데이터 차원을 축소함\n",
    "- 과적합의 이유 말고도 높은 차원의 데이터는 사람이 해석하기에도<br/>\n",
    "어려움이 있어서 차원을 축소하는 작업을 하기도 함"
   ]
  },
  {
   "cell_type": "markdown",
   "id": "1e078e96",
   "metadata": {},
   "source": [
    "## 차원의 저주 실습"
   ]
  },
  {
   "cell_type": "code",
   "execution_count": 37,
   "id": "171f679c",
   "metadata": {},
   "outputs": [],
   "source": [
    "from sklearn.datasets import load_digits"
   ]
  },
  {
   "cell_type": "code",
   "execution_count": 38,
   "id": "362eecf5",
   "metadata": {},
   "outputs": [],
   "source": [
    "digits = load_digits()"
   ]
  },
  {
   "cell_type": "code",
   "execution_count": 39,
   "id": "0642d438",
   "metadata": {},
   "outputs": [
    {
     "name": "stdout",
     "output_type": "stream",
     "text": [
      ".. _digits_dataset:\n",
      "\n",
      "Optical recognition of handwritten digits dataset\n",
      "--------------------------------------------------\n",
      "\n",
      "**Data Set Characteristics:**\n",
      "\n",
      "    :Number of Instances: 1797\n",
      "    :Number of Attributes: 64\n",
      "    :Attribute Information: 8x8 image of integer pixels in the range 0..16.\n",
      "    :Missing Attribute Values: None\n",
      "    :Creator: E. Alpaydin (alpaydin '@' boun.edu.tr)\n",
      "    :Date: July; 1998\n",
      "\n",
      "This is a copy of the test set of the UCI ML hand-written digits datasets\n",
      "https://archive.ics.uci.edu/ml/datasets/Optical+Recognition+of+Handwritten+Digits\n",
      "\n",
      "The data set contains images of hand-written digits: 10 classes where\n",
      "each class refers to a digit.\n",
      "\n",
      "Preprocessing programs made available by NIST were used to extract\n",
      "normalized bitmaps of handwritten digits from a preprinted form. From a\n",
      "total of 43 people, 30 contributed to the training set and different 13\n",
      "to the test set. 32x32 bitmaps are divided into nonoverlapping blocks of\n",
      "4x4 and the number of on pixels are counted in each block. This generates\n",
      "an input matrix of 8x8 where each element is an integer in the range\n",
      "0..16. This reduces dimensionality and gives invariance to small\n",
      "distortions.\n",
      "\n",
      "For info on NIST preprocessing routines, see M. D. Garris, J. L. Blue, G.\n",
      "T. Candela, D. L. Dimmick, J. Geist, P. J. Grother, S. A. Janet, and C.\n",
      "L. Wilson, NIST Form-Based Handprint Recognition System, NISTIR 5469,\n",
      "1994.\n",
      "\n",
      ".. topic:: References\n",
      "\n",
      "  - C. Kaynak (1995) Methods of Combining Multiple Classifiers and Their\n",
      "    Applications to Handwritten Digit Recognition, MSc Thesis, Institute of\n",
      "    Graduate Studies in Science and Engineering, Bogazici University.\n",
      "  - E. Alpaydin, C. Kaynak (1998) Cascading Classifiers, Kybernetika.\n",
      "  - Ken Tang and Ponnuthurai N. Suganthan and Xi Yao and A. Kai Qin.\n",
      "    Linear dimensionalityreduction using relevance weighted LDA. School of\n",
      "    Electrical and Electronic Engineering Nanyang Technological University.\n",
      "    2005.\n",
      "  - Claudio Gentile. A New Approximate Maximal Margin Classification\n",
      "    Algorithm. NIPS. 2000.\n",
      "\n"
     ]
    }
   ],
   "source": [
    "print(digits.DESCR)"
   ]
  },
  {
   "cell_type": "code",
   "execution_count": 40,
   "id": "3084b07e",
   "metadata": {},
   "outputs": [
    {
     "data": {
      "text/plain": [
       "(1797, 64)"
      ]
     },
     "execution_count": 40,
     "metadata": {},
     "output_type": "execute_result"
    }
   ],
   "source": [
    "digits.data.shape"
   ]
  },
  {
   "cell_type": "code",
   "execution_count": 41,
   "id": "8599e0ad",
   "metadata": {},
   "outputs": [],
   "source": [
    "data = digits.data\n",
    "label = digits.target"
   ]
  },
  {
   "cell_type": "code",
   "execution_count": 42,
   "id": "c02b3496",
   "metadata": {},
   "outputs": [],
   "source": [
    "# data의 모양을 바꿔야한다.\n",
    "img = data[0].reshape(8, 8) # 숫자가 높은 곳을 연결하면 0처럼 보인다."
   ]
  },
  {
   "cell_type": "code",
   "execution_count": 43,
   "id": "cc3fe90f",
   "metadata": {},
   "outputs": [
    {
     "data": {
      "text/plain": [
       "<matplotlib.image.AxesImage at 0x1f31bb60e20>"
      ]
     },
     "execution_count": 43,
     "metadata": {},
     "output_type": "execute_result"
    },
    {
     "data": {
      "image/png": "[encoded data removed]",
      "text/plain": [
       "<Figure size 432x288 with 1 Axes>"
      ]
     },
     "metadata": {
      "needs_background": "light"
     },
     "output_type": "display_data"
    }
   ],
   "source": [
    "plt.imshow(img)\n",
    "# matplotlib이 이미지를 만들어서 보여준다."
   ]
  },
  {
   "cell_type": "code",
   "execution_count": 44,
   "id": "2965b25c",
   "metadata": {},
   "outputs": [
    {
     "name": "stdout",
     "output_type": "stream",
     "text": [
      "Label : 0\n"
     ]
    },
    {
     "data": {
      "image/png": "[encoded data removed]",
      "text/plain": [
       "<Figure size 432x288 with 1 Axes>"
      ]
     },
     "metadata": {
      "needs_background": "light"
     },
     "output_type": "display_data"
    }
   ],
   "source": [
    "plt.imshow(data[0].reshape(8, 8))\n",
    "print('Label : {}'.format(label[0]))"
   ]
  },
  {
   "cell_type": "markdown",
   "id": "37a92643",
   "metadata": {},
   "source": [
    "## 주 성분 분석 (Principal Component Analysis, PCA)\n",
    "\n",
    "- 대표적인 차원 축소 기법으로 주 성분 분석(PCA)이 사용됨\n",
    "- PCA는 여러 차원으로 이루어진 데이터를 가장 잘 표현하는 축으로 Projection해서 차원을 축소하는 방식\n",
    "- 데이터를 가장 잘 표현하는 축이란 데이터의 분산을 잘 표현하는 축\n",
    "- Principal Component(주성분)는 데이터 셋을 특이값 분해를 통해 얻어지는 고유한 벡터 값\n",
    "- 고유한 벡터 값은 서로 직교하기 때문에 독립적으로 데이터를 잘 표현할 수 있음"
   ]
  },
  {
   "cell_type": "code",
   "execution_count": 45,
   "id": "06408878",
   "metadata": {},
   "outputs": [],
   "source": [
    "from sklearn.decomposition import PCA\n",
    "pca = PCA(n_components=2) # n_components 인자는 주 성분 갯수를 설정하는 인자"
   ]
  },
  {
   "cell_type": "code",
   "execution_count": 46,
   "id": "27152fe1",
   "metadata": {},
   "outputs": [
    {
     "data": {
      "text/plain": [
       "array([ 0.,  0.,  5., 13.,  9.,  1.,  0.,  0.,  0.,  0., 13., 15., 10.,\n",
       "       15.,  5.,  0.,  0.,  3., 15.,  2.,  0., 11.,  8.,  0.,  0.,  4.,\n",
       "       12.,  0.,  0.,  8.,  8.,  0.,  0.,  5.,  8.,  0.,  0.,  9.,  8.,\n",
       "        0.,  0.,  4., 11.,  0.,  1., 12.,  7.,  0.,  0.,  2., 14.,  5.,\n",
       "       10., 12.,  0.,  0.,  0.,  0.,  6., 13., 10.,  0.,  0.,  0.])"
      ]
     },
     "execution_count": 46,
     "metadata": {},
     "output_type": "execute_result"
    }
   ],
   "source": [
    "data[0]"
   ]
  },
  {
   "cell_type": "code",
   "execution_count": 47,
   "id": "8160d74c",
   "metadata": {},
   "outputs": [
    {
     "data": {
      "text/plain": [
       "array([[ -1.25946618,  21.27488247],\n",
       "       [  7.95761143, -20.76869542],\n",
       "       [  6.99192264,  -9.95598792],\n",
       "       ...,\n",
       "       [ 10.80128358,  -6.9602531 ],\n",
       "       [ -4.87209852,  12.42393569],\n",
       "       [ -0.34438981,   6.36554546]])"
      ]
     },
     "execution_count": 47,
     "metadata": {},
     "output_type": "execute_result"
    }
   ],
   "source": [
    "new_data = pca.fit_transform(data)\n",
    "new_data"
   ]
  },
  {
   "cell_type": "code",
   "execution_count": 48,
   "id": "509c1808",
   "metadata": {},
   "outputs": [
    {
     "data": {
      "text/plain": [
       "(1797, 64)"
      ]
     },
     "execution_count": 48,
     "metadata": {},
     "output_type": "execute_result"
    }
   ],
   "source": [
    "data.shape"
   ]
  },
  {
   "cell_type": "code",
   "execution_count": 49,
   "id": "8e4b29bc",
   "metadata": {},
   "outputs": [
    {
     "data": {
      "text/plain": [
       "(1797, 2)"
      ]
     },
     "execution_count": 49,
     "metadata": {},
     "output_type": "execute_result"
    }
   ],
   "source": [
    "new_data.shape # 축소한 차원 data의 shape 확인 (64에서 2로 훅 떨어진 게 보인다.)"
   ]
  },
  {
   "cell_type": "code",
   "execution_count": 50,
   "id": "631cf21a",
   "metadata": {},
   "outputs": [
    {
     "data": {
      "text/plain": [
       "array([[ -1.25946618,  21.27488247],\n",
       "       [  7.95761143, -20.76869542],\n",
       "       [  6.99192264,  -9.95598792],\n",
       "       ...,\n",
       "       [ 10.80128358,  -6.9602531 ],\n",
       "       [ -4.87209852,  12.42393569],\n",
       "       [ -0.34438981,   6.36554546]])"
      ]
     },
     "execution_count": 50,
     "metadata": {},
     "output_type": "execute_result"
    }
   ],
   "source": [
    "new_data  "
   ]
  },
  {
   "cell_type": "code",
   "execution_count": 51,
   "id": "458ceed2",
   "metadata": {},
   "outputs": [
    {
     "data": {
      "text/plain": [
       "array([-1.25946618, 21.27488247])"
      ]
     },
     "execution_count": 51,
     "metadata": {},
     "output_type": "execute_result"
    }
   ],
   "source": [
    "new_data[0]"
   ]
  },
  {
   "cell_type": "code",
   "execution_count": 52,
   "id": "f90f447f",
   "metadata": {},
   "outputs": [
    {
     "data": {
      "text/plain": [
       "<matplotlib.collections.PathCollection at 0x1f31b9c7880>"
      ]
     },
     "execution_count": 52,
     "metadata": {},
     "output_type": "execute_result"
    },
    {
     "data": {
      "image/png": "[encoded data removed]",
      "text/plain": [
       "<Figure size 432x288 with 1 Axes>"
      ]
     },
     "metadata": {
      "needs_background": "light"
     },
     "output_type": "display_data"
    }
   ],
   "source": [
    "# x, y 좌표계로 그림그리면 어디쯤 위치하고 있는지 확인할 수 있다.\n",
    "plt.scatter(new_data[:, 0], new_data[:, 1], c=label, linewidth=1, edgecolors=\"k\")"
   ]
  },
  {
   "cell_type": "markdown",
   "id": "57c9f20c",
   "metadata": {},
   "source": [
    "어느정도 군집을 이루고 있는 것을 확인할 수 있다. <br/>\n",
    "높은 확률로 데이터를 구별하여 학습을 시킬 수 있는 상황이 되었다고 볼 수 있다."
   ]
  },
  {
   "cell_type": "markdown",
   "id": "857c8acb",
   "metadata": {},
   "source": [
    "# 5. Categorical Variable to Numeric Variable\n",
    "- 범주형 데이터란 차의 등급을 나타내는 소형, 중형, 대형처럼 범주로 분류될 수 있는 변수를 의미 <br/>\n",
    "- 범주형 데이터는 주로 데이터 상에서 문자열로 표현되는데 문자와 숫자가 매핑 되는 형태로 표현되기도 한다 <br/>\n",
    "- 컴퓨터가 data를 활용하여 모델화하고 학습하기 위해서는 data를 모두 수치화 해야 한다.\n",
    "- 수치화 방법 : Label Encoding, One-hot Encoding"
   ]
  },
  {
   "cell_type": "markdown",
   "id": "22cd950a",
   "metadata": {},
   "source": [
    "## Label Encoding\n",
    "- Label Encoding은 n개의 범주형 데이터를 0 ~ n-1의 연속적인 수치 데이터로 표현\n",
    "- Label Encoding은 간단한 방법이지만 문제를 단순화 시킬 수 있다"
   ]
  },
  {
   "cell_type": "markdown",
   "id": "237a3575",
   "metadata": {},
   "source": [
    "from sklearn.preprocessing import LabelEncoder<br/>\n",
    "le = LabelEncoder()<br/>\n",
    "\n",
    "le.fit(label) <br/>\n",
    "\n",
    "label_encoded = le.transform(label)"
   ]
  },
  {
   "cell_type": "markdown",
   "id": "3d0a8253",
   "metadata": {},
   "source": [
    "## One-hot Encoding\n",
    "- One-hot encoding은 n개의 범주형 데이터를 n개의 비트 벡터로 표현함<br/>\n",
    "= 차원이 n개만큼 있어야한다.\n",
    "- 종류의 수만큼 차원이 확장됨\n",
    "- One-hot encoding은 서로 다른 범주에 대해 벡터 내적을 취했을 때, 내적이 0이 나게 되면서 서로 다른 범주는 독립적이라는 것을 표현하게 함\n",
    "- 장점 : 숫자가 겹치지 않아서 명확하게 차원을 가지고 구별할 수 있다\n",
    "- 단점 : 범주형 데이터가 많아지면 쓸데없는 데이터가 많아진다는 게 단점이다. 너무 많은 범주형 데이터에 대해서는 사용하지 않는다."
   ]
  },
  {
   "cell_type": "markdown",
   "id": "d84185fd",
   "metadata": {},
   "source": [
    "from sklearn.preprocessing import OneHotEncoder<br/>\n",
    "ohe = OneHotEncoder(sparse=False)\n",
    "\n",
    "ohe.fit(label.valeus.reshape((-1, 1)))\n",
    "\n",
    "one_hot_encoded = ohe.transform(label.values.reshape((-1, 1)))"
   ]
  },
  {
   "cell_type": "code",
   "execution_count": 53,
   "id": "eda7a95c",
   "metadata": {},
   "outputs": [],
   "source": [
    "data = pd.read_csv('./data/abalone.txt', header=None, names=abalone_columns)"
   ]
  },
  {
   "cell_type": "code",
   "execution_count": 54,
   "id": "1a98c9f7",
   "metadata": {},
   "outputs": [],
   "source": [
    "label = data['Sex']"
   ]
  },
  {
   "cell_type": "code",
   "execution_count": 55,
   "id": "a56a19ef",
   "metadata": {},
   "outputs": [
    {
     "data": {
      "text/plain": [
       "0    M\n",
       "1    M\n",
       "2    F\n",
       "3    M\n",
       "4    I\n",
       "Name: Sex, dtype: object"
      ]
     },
     "execution_count": 55,
     "metadata": {},
     "output_type": "execute_result"
    }
   ],
   "source": [
    "label.head()"
   ]
  },
  {
   "cell_type": "code",
   "execution_count": 56,
   "id": "308e2b23",
   "metadata": {},
   "outputs": [],
   "source": [
    "from sklearn.preprocessing import LabelEncoder\n",
    "le = LabelEncoder()"
   ]
  },
  {
   "cell_type": "code",
   "execution_count": 57,
   "id": "f851732d",
   "metadata": {},
   "outputs": [
    {
     "data": {
      "text/plain": [
       "array([2, 2, 0, ..., 2, 0, 2])"
      ]
     },
     "execution_count": 57,
     "metadata": {},
     "output_type": "execute_result"
    }
   ],
   "source": [
    "label_encoded_label = le.fit_transform(label)\n",
    "label_encoded_label"
   ]
  },
  {
   "cell_type": "code",
   "execution_count": 64,
   "id": "2a703020",
   "metadata": {},
   "outputs": [
    {
     "data": {
      "text/plain": [
       "array([[2],\n",
       "       [2],\n",
       "       [0],\n",
       "       ...,\n",
       "       [2],\n",
       "       [0],\n",
       "       [2]])"
      ]
     },
     "execution_count": 64,
     "metadata": {},
     "output_type": "execute_result"
    }
   ],
   "source": [
    "label_encoded_label.reshape(-1, 1)"
   ]
  },
  {
   "cell_type": "code",
   "execution_count": 70,
   "id": "eecaa9be",
   "metadata": {},
   "outputs": [
    {
     "data": {
      "text/plain": [
       "array([['M'],\n",
       "       ['M'],\n",
       "       ['F'],\n",
       "       ...,\n",
       "       ['M'],\n",
       "       ['F'],\n",
       "       ['M']], dtype=object)"
      ]
     },
     "execution_count": 70,
     "metadata": {},
     "output_type": "execute_result"
    }
   ],
   "source": [
    "label.values.reshape((-1, 1))"
   ]
  },
  {
   "cell_type": "code",
   "execution_count": 67,
   "id": "5a928cc4",
   "metadata": {},
   "outputs": [],
   "source": [
    "# label_encoded_data를 보기좋게 출력하는 부분\n",
    "result = pd.DataFrame(data = np.concatenate([label.values.reshape((-1, 1)), label_encoded_label.reshape((-1, 1))], axis=1), columns=['label', 'label_encoded'])\n",
    "# np.concatenate : 배열 두개를 합쳐주는 역할\n",
    "# index, label 과 label_encoded 배열을 합쳤다."
   ]
  },
  {
   "cell_type": "code",
   "execution_count": 60,
   "id": "e8ff2b34",
   "metadata": {},
   "outputs": [
    {
     "data": {
      "text/html": [
       "<div>\n",
       "<style scoped>\n",
       "    .dataframe tbody tr th:only-of-type {\n",
       "        vertical-align: middle;\n",
       "    }\n",
       "\n",
       "    .dataframe tbody tr th {\n",
       "        vertical-align: top;\n",
       "    }\n",
       "\n",
       "    .dataframe thead th {\n",
       "        text-align: right;\n",
       "    }\n",
       "</style>\n",
       "<table border=\"1\" class=\"dataframe\">\n",
       "  <thead>\n",
       "    <tr style=\"text-align: right;\">\n",
       "      <th></th>\n",
       "      <th>label</th>\n",
       "      <th>label_encoded</th>\n",
       "    </tr>\n",
       "  </thead>\n",
       "  <tbody>\n",
       "    <tr>\n",
       "      <th>0</th>\n",
       "      <td>M</td>\n",
       "      <td>2</td>\n",
       "    </tr>\n",
       "    <tr>\n",
       "      <th>1</th>\n",
       "      <td>M</td>\n",
       "      <td>2</td>\n",
       "    </tr>\n",
       "    <tr>\n",
       "      <th>2</th>\n",
       "      <td>F</td>\n",
       "      <td>0</td>\n",
       "    </tr>\n",
       "    <tr>\n",
       "      <th>3</th>\n",
       "      <td>M</td>\n",
       "      <td>2</td>\n",
       "    </tr>\n",
       "    <tr>\n",
       "      <th>4</th>\n",
       "      <td>I</td>\n",
       "      <td>1</td>\n",
       "    </tr>\n",
       "    <tr>\n",
       "      <th>...</th>\n",
       "      <td>...</td>\n",
       "      <td>...</td>\n",
       "    </tr>\n",
       "    <tr>\n",
       "      <th>4172</th>\n",
       "      <td>F</td>\n",
       "      <td>0</td>\n",
       "    </tr>\n",
       "    <tr>\n",
       "      <th>4173</th>\n",
       "      <td>M</td>\n",
       "      <td>2</td>\n",
       "    </tr>\n",
       "    <tr>\n",
       "      <th>4174</th>\n",
       "      <td>M</td>\n",
       "      <td>2</td>\n",
       "    </tr>\n",
       "    <tr>\n",
       "      <th>4175</th>\n",
       "      <td>F</td>\n",
       "      <td>0</td>\n",
       "    </tr>\n",
       "    <tr>\n",
       "      <th>4176</th>\n",
       "      <td>M</td>\n",
       "      <td>2</td>\n",
       "    </tr>\n",
       "  </tbody>\n",
       "</table>\n",
       "<p>4177 rows × 2 columns</p>\n",
       "</div>"
      ],
      "text/plain": [
       "     label label_encoded\n",
       "0        M             2\n",
       "1        M             2\n",
       "2        F             0\n",
       "3        M             2\n",
       "4        I             1\n",
       "...    ...           ...\n",
       "4172     F             0\n",
       "4173     M             2\n",
       "4174     M             2\n",
       "4175     F             0\n",
       "4176     M             2\n",
       "\n",
       "[4177 rows x 2 columns]"
      ]
     },
     "execution_count": 60,
     "metadata": {},
     "output_type": "execute_result"
    }
   ],
   "source": [
    "result"
   ]
  },
  {
   "cell_type": "markdown",
   "id": "24edffc2",
   "metadata": {},
   "source": [
    "# One-Hot Encoding"
   ]
  },
  {
   "cell_type": "code",
   "execution_count": 61,
   "id": "1fee890c",
   "metadata": {},
   "outputs": [],
   "source": [
    "from sklearn.preprocessing import OneHotEncoder\n",
    "ohe = OneHotEncoder(sparse=False)"
   ]
  },
  {
   "cell_type": "markdown",
   "id": "19c3ca3c",
   "metadata": {},
   "source": [
    "sparse는 default가 True이다. default 값은 Matrix이다. <br/>\n",
    "False로 하면 Array로 반환된다.<br/>\n",
    "원 핫 인코딩을 할 때는 True보다 False를 놓고 쓰면서 출력되는 배열을 받아서 쓴다."
   ]
  },
  {
   "cell_type": "code",
   "execution_count": 72,
   "id": "f0bcdcb6",
   "metadata": {},
   "outputs": [],
   "source": [
    "one_hot_encoded = ohe.fit_transform(label.values.reshape(-1,1))"
   ]
  },
  {
   "cell_type": "markdown",
   "id": "25c6dced",
   "metadata": {},
   "source": [
    "label만 넣었을 때 에러가 떴다.\n",
    "<img src=\"./images/0411_3.png\" style=\"float:left\">\n",
    "<br/><br/><br/><br/>\n",
    "\n",
    "에러를 잘 보면 <strong>using array.reshape(-1, 1)</strong>로 수정하라고 나온다."
   ]
  },
  {
   "cell_type": "code",
   "execution_count": 73,
   "id": "03397d73",
   "metadata": {},
   "outputs": [
    {
     "name": "stdout",
     "output_type": "stream",
     "text": [
      "[[0. 0. 1.]\n",
      " [0. 0. 1.]\n",
      " [1. 0. 0.]\n",
      " ...\n",
      " [0. 0. 1.]\n",
      " [1. 0. 0.]\n",
      " [0. 0. 1.]]\n"
     ]
    }
   ],
   "source": [
    "print(one_hot_encoded)\n",
    "# 차원이 겹치지 않고 원 핫 인코딩이 된 것을 볼 수 있다.\n",
    "# 원 핫 인코딩된 데이터로 학습을 시키면 더 잘 분석할 수 있다."
   ]
  },
  {
   "cell_type": "markdown",
   "id": "6003f9d9",
   "metadata": {},
   "source": [
    "# 학습 정리\n",
    "- 전체 머신러닝 Process에서 데이터를 가공하고 준비하는 과정이 전체의 80~90%를 차지할 정도로 데이터 전처리가 중요하다<br/>\n",
    "- Feature들의 크기를 맞추는 Scaling, 클래스의 불균형을 맞추기 위한 Sampling,<br/>\n",
    "그리고 다차원 오류를 예방하기 위해 사용되는 Dimensionality Reduction 등 다양한 기법이 데이터 전처리 과정에서 사용된다<br/>\n",
    "- 범주형 데이터를 수치형 데이터로 바꾸는 것은 결과를 분명하게 하게 불필요한 연산을 줄여준다."
   ]
  }
 ],
 "metadata": {
  "kernelspec": {
   "display_name": "Python 3 (ipykernel)",
   "language": "python",
   "name": "python3"
  },
  "language_info": {
   "codemirror_mode": {
    "name": "ipython",
    "version": 3
   },
   "file_extension": ".py",
   "mimetype": "text/x-python",
   "name": "python",
   "nbconvert_exporter": "python",
   "pygments_lexer": "ipython3",
   "version": "3.9.7"
  }
 },
 "nbformat": 4,
 "nbformat_minor": 5
}
