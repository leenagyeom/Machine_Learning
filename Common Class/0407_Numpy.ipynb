{
 "cells": [
  {
   "cell_type": "markdown",
   "id": "64206cce",
   "metadata": {},
   "source": [
    "# Numpy\n",
    "NumPy(Numerical Python)는 파이썬에서 과학적 계산을 위한 핵심 라이브러리이다.<br/>\n",
    "NumPy는 다차원 배열 객체와 배열과 함께 작동하는 도구들을 제공한다.<br/>\n",
    "하지만 NumPy 자체로는 고수준의 데이터 분석 기능을 제공하지 않기 때문에 NumPy 배열과 배열 기반 컴퓨팅의 이해를 통해<br/>\n",
    "pandas와 같은 도구를 좀 더 효율적으로 사용하는 것이 필요하다."
   ]
  },
  {
   "cell_type": "markdown",
   "id": "b6801314",
   "metadata": {},
   "source": [
    "# ndarray 생성\n",
    "numpy에서 제공하는 배열 생성 함수"
   ]
  },
  {
   "cell_type": "code",
   "execution_count": 1,
   "id": "090122ac",
   "metadata": {},
   "outputs": [],
   "source": [
    "import numpy as np"
   ]
  },
  {
   "cell_type": "code",
   "execution_count": 2,
   "id": "16aca16c",
   "metadata": {},
   "outputs": [
    {
     "name": "stdout",
     "output_type": "stream",
     "text": [
      "[1 2 3 4 5]\n"
     ]
    }
   ],
   "source": [
    "arr = np.array([1,2,3,4,5])\n",
    "print(arr)"
   ]
  },
  {
   "cell_type": "code",
   "execution_count": 3,
   "id": "79a21aeb",
   "metadata": {},
   "outputs": [
    {
     "data": {
      "text/plain": [
       "numpy.ndarray"
      ]
     },
     "execution_count": 3,
     "metadata": {},
     "output_type": "execute_result"
    }
   ],
   "source": [
    "type(arr)"
   ]
  },
  {
   "cell_type": "markdown",
   "id": "5164f667",
   "metadata": {},
   "source": [
    "### zeros, ones, empty 함수 사용"
   ]
  },
  {
   "cell_type": "code",
   "execution_count": 4,
   "id": "6a4e5cc6",
   "metadata": {},
   "outputs": [
    {
     "data": {
      "text/plain": [
       "array([[0., 0., 0.],\n",
       "       [0., 0., 0.],\n",
       "       [0., 0., 0.]])"
      ]
     },
     "execution_count": 4,
     "metadata": {},
     "output_type": "execute_result"
    }
   ],
   "source": [
    "# 0으로 채워진 배열 반환\n",
    "np.zeros((3,3))"
   ]
  },
  {
   "cell_type": "code",
   "execution_count": 5,
   "id": "20290c22",
   "metadata": {},
   "outputs": [
    {
     "data": {
      "text/plain": [
       "array([[1., 1., 1.],\n",
       "       [1., 1., 1.]])"
      ]
     },
     "execution_count": 5,
     "metadata": {},
     "output_type": "execute_result"
    }
   ],
   "source": [
    "# 1로 채워진 새로운 배열 반환\n",
    "np.ones((2, 3))"
   ]
  },
  {
   "cell_type": "code",
   "execution_count": 6,
   "id": "53063609",
   "metadata": {},
   "outputs": [
    {
     "data": {
      "text/plain": [
       "array([[4.67296746e-307, 1.69121096e-306, 1.02359984e-306,\n",
       "        1.29061821e-306],\n",
       "       [1.42418987e-306, 1.37961641e-306, 1.60220528e-306,\n",
       "        1.24611266e-306],\n",
       "       [9.34598925e-307, 1.24612081e-306, 1.11260755e-306,\n",
       "        1.60220393e-306],\n",
       "       [1.51320640e-306, 9.34609790e-307, 1.86921279e-306,\n",
       "        1.24610723e-306]])"
      ]
     },
     "execution_count": 6,
     "metadata": {},
     "output_type": "execute_result"
    }
   ],
   "source": [
    "# 초기화되지 않은 새로운 배열 반환\n",
    "# 이전에 사용했던 값들이 뜬다. gabage 쓰레기\n",
    "np.empty((4,4))"
   ]
  },
  {
   "cell_type": "code",
   "execution_count": 7,
   "id": "496fa9a2",
   "metadata": {},
   "outputs": [
    {
     "data": {
      "text/plain": [
       "array([[1., 1.],\n",
       "       [1., 1.],\n",
       "       [1., 1.]])"
      ]
     },
     "execution_count": 7,
     "metadata": {},
     "output_type": "execute_result"
    }
   ],
   "source": [
    "np.empty((3, 2))"
   ]
  },
  {
   "cell_type": "code",
   "execution_count": 8,
   "id": "11546dd1",
   "metadata": {
    "scrolled": true
   },
   "outputs": [
    {
     "data": {
      "text/plain": [
       "array([[1., 0., 0., 0., 0., 0.],\n",
       "       [0., 1., 0., 0., 0., 0.],\n",
       "       [0., 0., 1., 0., 0., 0.],\n",
       "       [0., 0., 0., 1., 0., 0.],\n",
       "       [0., 0., 0., 0., 1., 0.],\n",
       "       [0., 0., 0., 0., 0., 1.]])"
      ]
     },
     "execution_count": 8,
     "metadata": {},
     "output_type": "execute_result"
    }
   ],
   "source": [
    "# 단위행렬 생성\n",
    "# 두개는 같은 결과값을 가진다.\n",
    "np.identity(6)\n",
    "np.eye(6)"
   ]
  },
  {
   "cell_type": "markdown",
   "id": "092bd2eb",
   "metadata": {},
   "source": [
    "### arange 함수로 배열 생성하기"
   ]
  },
  {
   "cell_type": "code",
   "execution_count": 9,
   "id": "6a7045e2",
   "metadata": {},
   "outputs": [
    {
     "data": {
      "text/plain": [
       "array([0, 1, 2, 3, 4, 5, 6, 7, 8, 9])"
      ]
     },
     "execution_count": 9,
     "metadata": {},
     "output_type": "execute_result"
    }
   ],
   "source": [
    "# np.arange(start숫자, stop숫자, step숫자, dtype=결과반환 데이터 타입)\n",
    "# start 숫자 부터 stop 숫자 \"미만\" step만큼 띄워진 배열 반환\n",
    "np.arange(0, 10, 1, dtype =int)\n",
    "np.arange(10)"
   ]
  },
  {
   "cell_type": "code",
   "execution_count": 10,
   "id": "0430ae86",
   "metadata": {},
   "outputs": [
    {
     "data": {
      "text/plain": [
       "array([0. , 0.1, 0.2, 0.3, 0.4, 0.5, 0.6, 0.7, 0.8, 0.9, 1. ])"
      ]
     },
     "execution_count": 10,
     "metadata": {},
     "output_type": "execute_result"
    }
   ],
   "source": [
    "# start숫자, end숫자, 출력할갯수\n",
    "# start와 end \"포함\"해서 동일한 간격으로 숫자를 출력갯수만큼 출력해준다.\n",
    "np.linspace(0, 1, 11)"
   ]
  },
  {
   "cell_type": "markdown",
   "id": "90c14eb1",
   "metadata": {},
   "source": [
    "### ndarray 배열의 모양(shape), 차수(ndim), 데이터 타입(dtype) 확인하기"
   ]
  },
  {
   "cell_type": "code",
   "execution_count": 11,
   "id": "3b91e6eb",
   "metadata": {},
   "outputs": [
    {
     "data": {
      "text/plain": [
       "array([[1, 2, 3],\n",
       "       [4, 5, 6]])"
      ]
     },
     "execution_count": 11,
     "metadata": {},
     "output_type": "execute_result"
    }
   ],
   "source": [
    "arr = np.array([[1, 2, 3],[4, 5, 6]])\n",
    "arr"
   ]
  },
  {
   "cell_type": "code",
   "execution_count": 12,
   "id": "36397783",
   "metadata": {},
   "outputs": [
    {
     "data": {
      "text/plain": [
       "(2, 3)"
      ]
     },
     "execution_count": 12,
     "metadata": {},
     "output_type": "execute_result"
    }
   ],
   "source": [
    "#배열의 형태확인, 차원 확인\n",
    "# 2행 3열\n",
    "arr.shape"
   ]
  },
  {
   "cell_type": "code",
   "execution_count": 13,
   "id": "4dcf3dc1",
   "metadata": {},
   "outputs": [
    {
     "data": {
      "text/plain": [
       "2"
      ]
     },
     "execution_count": 13,
     "metadata": {},
     "output_type": "execute_result"
    }
   ],
   "source": [
    "# 차원의 수, 배열 축의 수\n",
    "# 2차원\n",
    "arr.ndim"
   ]
  },
  {
   "cell_type": "code",
   "execution_count": 14,
   "id": "2ca3b51f",
   "metadata": {},
   "outputs": [
    {
     "data": {
      "text/plain": [
       "dtype('int32')"
      ]
     },
     "execution_count": 14,
     "metadata": {},
     "output_type": "execute_result"
    }
   ],
   "source": [
    "# 데이터 타입확인\n",
    "arr.dtype"
   ]
  },
  {
   "cell_type": "code",
   "execution_count": 15,
   "id": "ab50effa",
   "metadata": {},
   "outputs": [
    {
     "data": {
      "text/plain": [
       "6"
      ]
     },
     "execution_count": 15,
     "metadata": {},
     "output_type": "execute_result"
    }
   ],
   "source": [
    "# 전체 원소 갯수 반환\n",
    "arr.size"
   ]
  },
  {
   "cell_type": "markdown",
   "id": "68419b25",
   "metadata": {},
   "source": [
    "### astype 함수로 배열 데이터 타입 변환하기"
   ]
  },
  {
   "cell_type": "code",
   "execution_count": 16,
   "id": "bb4197f7",
   "metadata": {},
   "outputs": [
    {
     "name": "stdout",
     "output_type": "stream",
     "text": [
      "[[1. 2. 3.]\n",
      " [4. 5. 6.]]\n"
     ]
    },
    {
     "data": {
      "text/plain": [
       "dtype('float64')"
      ]
     },
     "execution_count": 16,
     "metadata": {},
     "output_type": "execute_result"
    }
   ],
   "source": [
    "arr_float = arr.astype(np.float64)\n",
    "print(arr_float)\n",
    "arr_float.dtype"
   ]
  },
  {
   "cell_type": "markdown",
   "id": "41070e67",
   "metadata": {},
   "source": [
    "### ndarray 배열의 연산\n",
    "Numpy 배열의 연산은 연산자 (+,-,*,/)나 함수(add, subtract, multiply, divide)로 가능하다."
   ]
  },
  {
   "cell_type": "code",
   "execution_count": 17,
   "id": "a88f811a",
   "metadata": {},
   "outputs": [
    {
     "name": "stdout",
     "output_type": "stream",
     "text": [
      "[[ 5 12]\n",
      " [21 32]]\n"
     ]
    }
   ],
   "source": [
    "arr1 = np.array([[1, 2], [3, 4]])\n",
    "arr2 = np.array([[5, 6], [7, 8]])\n",
    "\n",
    "# arr3 = arr1 + arr2\n",
    "arr3 = arr1 * arr2\n",
    "print(arr3)"
   ]
  },
  {
   "cell_type": "markdown",
   "id": "331cd71e",
   "metadata": {},
   "source": [
    "<img src=\"images/numpy-1.png\" width=800px style=\"float:left\">\n",
    "<img src=\"./images/numpy-2.png\" width=800px style=\"float:left\">"
   ]
  },
  {
   "cell_type": "markdown",
   "id": "e3e328d7",
   "metadata": {},
   "source": [
    "### ndarray 배열 슬라이싱 하기\n",
    "ndarray 배열 슬라이싱 하기"
   ]
  },
  {
   "cell_type": "code",
   "execution_count": 18,
   "id": "cc5722c4",
   "metadata": {},
   "outputs": [
    {
     "name": "stdout",
     "output_type": "stream",
     "text": [
      "[[2 3]\n",
      " [5 6]]\n"
     ]
    }
   ],
   "source": [
    "arr = np.array([[1,2,3], [4,5,6], [7,8,9]])\n",
    "# print(arr)\n",
    "arr1 = arr[:2, 1:3] # end의 미만\n",
    "print(arr1)\n",
    "\n",
    "arr2 = arr[2:, 3:]"
   ]
  },
  {
   "cell_type": "markdown",
   "id": "249dd70d",
   "metadata": {},
   "source": [
    "슬라이싱한 배열은 원본 배열의 뷰이다.(슬라이싱한 배열을 수정하면 원본 배열도 바뀐다.) <br>\n",
    "뷰가 아닌 새로운 배열을 생성하려면 arr[:2,1:3].copy()와 같은 함수를 사용해야 한다. "
   ]
  },
  {
   "cell_type": "code",
   "execution_count": 19,
   "id": "343df45a",
   "metadata": {},
   "outputs": [
    {
     "data": {
      "text/plain": [
       "(2, 2)"
      ]
     },
     "execution_count": 19,
     "metadata": {},
     "output_type": "execute_result"
    }
   ],
   "source": [
    "arr.shape\n",
    "arr1.shape"
   ]
  },
  {
   "cell_type": "code",
   "execution_count": 20,
   "id": "d2c5eafb",
   "metadata": {},
   "outputs": [
    {
     "name": "stdout",
     "output_type": "stream",
     "text": [
      "[0 3 6]\n"
     ]
    }
   ],
   "source": [
    "arr_int = np.arange(10)\n",
    "# array([0, 1, 2, 3, 4, 5, 6, 7, 8, 9])\n",
    "print(arr_int[0:8:3])\n",
    "# start : end : step"
   ]
  },
  {
   "cell_type": "code",
   "execution_count": 21,
   "id": "5d1afaac",
   "metadata": {},
   "outputs": [
    {
     "name": "stdout",
     "output_type": "stream",
     "text": [
      "3\n"
     ]
    }
   ],
   "source": [
    "print(arr[0, 2])# 0행, 2열"
   ]
  },
  {
   "cell_type": "code",
   "execution_count": 22,
   "id": "8bc25a19",
   "metadata": {},
   "outputs": [],
   "source": [
    "arr = np.array([[1, 2, 3], [4, 5, 6]])"
   ]
  },
  {
   "cell_type": "code",
   "execution_count": 23,
   "id": "f1b8d307",
   "metadata": {},
   "outputs": [],
   "source": [
    "idx = arr > 3"
   ]
  },
  {
   "cell_type": "code",
   "execution_count": 24,
   "id": "76dffb9f",
   "metadata": {},
   "outputs": [
    {
     "data": {
      "text/plain": [
       "array([[False, False, False],\n",
       "       [ True,  True,  True]])"
      ]
     },
     "execution_count": 24,
     "metadata": {},
     "output_type": "execute_result"
    }
   ],
   "source": [
    "idx"
   ]
  },
  {
   "cell_type": "code",
   "execution_count": 25,
   "id": "1ea79e5c",
   "metadata": {},
   "outputs": [
    {
     "data": {
      "text/plain": [
       "array([4, 5, 6])"
      ]
     },
     "execution_count": 25,
     "metadata": {},
     "output_type": "execute_result"
    }
   ],
   "source": [
    "arr[idx]\n",
    "# true 값만 뽑아낸다.\n",
    "# = arr[arr>3]"
   ]
  },
  {
   "cell_type": "markdown",
   "id": "d6c956c3",
   "metadata": {},
   "source": [
    "# wine quality\n"
   ]
  },
  {
   "cell_type": "markdown",
   "id": "d7b765c1",
   "metadata": {},
   "source": [
    "![Wine Quality 데이터 변수 설명](images/numpy-3.png)"
   ]
  },
  {
   "cell_type": "markdown",
   "id": "aab7fba7",
   "metadata": {},
   "source": [
    "### Wine Quality 데이터 불러오기\n",
    "\n",
    "실습은 Wine Quality 데이터(red, white) 중 winequality-red.csv 파일만 사용한다. "
   ]
  },
  {
   "cell_type": "code",
   "execution_count": 26,
   "id": "bce5134d",
   "metadata": {},
   "outputs": [
    {
     "name": "stdout",
     "output_type": "stream",
     "text": [
      "[[ 7.4    0.7    0.    ...  0.56   9.4    5.   ]\n",
      " [ 7.8    0.88   0.    ...  0.68   9.8    5.   ]\n",
      " [ 7.8    0.76   0.04  ...  0.65   9.8    5.   ]\n",
      " ...\n",
      " [ 6.3    0.51   0.13  ...  0.75  11.     6.   ]\n",
      " [ 5.9    0.645  0.12  ...  0.71  10.2    5.   ]\n",
      " [ 6.     0.31   0.47  ...  0.66  11.     6.   ]]\n"
     ]
    }
   ],
   "source": [
    "import numpy as np\n",
    "\n",
    "redwine = np.loadtxt(fname='Samples/0407_winequality-red.csv', delimiter=';', skiprows=1)\n",
    "print(redwine)"
   ]
  },
  {
   "cell_type": "markdown",
   "id": "ac5eccfa",
   "metadata": {},
   "source": [
    "numpy 라이브러리 안에 loadtxt함수로 파일 오픈<br/>\n",
    "csv 파일의 구분자는 ';'<br/>\n",
    "skiprows=1은 첫번째 행을 skip"
   ]
  },
  {
   "cell_type": "markdown",
   "id": "ee448ec7",
   "metadata": {},
   "source": [
    "![배열 통계 메서드](images/numpy-4.png)"
   ]
  },
  {
   "cell_type": "code",
   "execution_count": 27,
   "id": "d711f35b",
   "metadata": {},
   "outputs": [
    {
     "data": {
      "text/plain": [
       "(1599, 12)"
      ]
     },
     "execution_count": 27,
     "metadata": {},
     "output_type": "execute_result"
    }
   ],
   "source": [
    "redwine.shape"
   ]
  },
  {
   "cell_type": "code",
   "execution_count": 28,
   "id": "0f1f4e7c",
   "metadata": {},
   "outputs": [
    {
     "name": "stdout",
     "output_type": "stream",
     "text": [
      "<class 'numpy.ndarray'>\n",
      "152084.78194\n",
      "7.926036165311652\n"
     ]
    }
   ],
   "source": [
    "print(type(redwine))\n",
    "print(redwine.sum())\n",
    "print(redwine.mean())"
   ]
  },
  {
   "cell_type": "code",
   "execution_count": 29,
   "id": "b56a2555",
   "metadata": {},
   "outputs": [
    {
     "name": "stdout",
     "output_type": "stream",
     "text": [
      "[ 8.31963727  0.52782051  0.27097561  2.5388055   0.08746654 15.87492183\n",
      " 46.46779237  0.99674668  3.3111132   0.65814884 10.42298311  5.63602251]\n",
      "8.31963727329581\n"
     ]
    }
   ],
   "source": [
    "# 각 컬럼의 평균값\n",
    "print(redwine.mean(axis=0)) # axis=0은 열, axis=1은 행 / 이 코드에서는 각 열의 평균을 구함\n",
    "print(redwine[:,0].mean())"
   ]
  },
  {
   "cell_type": "markdown",
   "id": "a8b0ee93",
   "metadata": {},
   "source": [
    "redwine[:0.mean(): redwine 데이터 셋의 첫번째 열 (0번째 열)의 모든 값들의 평균을 뜻한다. 즉, fixed acidity의 평균만 알 수 있다."
   ]
  }
 ],
 "metadata": {
  "kernelspec": {
   "display_name": "Python 3 (ipykernel)",
   "language": "python",
   "name": "python3"
  },
  "language_info": {
   "codemirror_mode": {
    "name": "ipython",
    "version": 3
   },
   "file_extension": ".py",
   "mimetype": "text/x-python",
   "name": "python",
   "nbconvert_exporter": "python",
   "pygments_lexer": "ipython3",
   "version": "3.9.7"
  }
 },
 "nbformat": 4,
 "nbformat_minor": 5
}
