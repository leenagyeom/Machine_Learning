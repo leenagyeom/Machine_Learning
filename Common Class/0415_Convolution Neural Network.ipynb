{
 "cells": [
  {
   "cell_type": "markdown",
   "id": "bc848ea2",
   "metadata": {},
   "source": [
    "# CNN (Convolutional Neural Network)\n",
    "CNN은 이미지를 인식하기 위해 패턴을 찾는데 특히 유용하다.<br/>\n",
    "데이터에서 직접 학습하고 패턴을 사용해 이미지를 분류합니다.<br/>\n",
    "즉, 특징을 수동으로 추출할 필요가 없습니다.<br/>\n",
    "이러한 장점 때문에 자율주행자동차, 얼굴인식과 같은 객체인식이나<br/>\n",
    "computer vision이 필요한 분야에 많이 사용되고 있습니다.<br/>"
   ]
  },
  {
   "attachments": {},
   "cell_type": "markdown",
   "id": "cc823f41",
   "metadata": {},
   "source": [
    "Conv2D(1, (2, 2), padding='valid', input_shape=(28, 28, 1), activation='relu')\n",
    "\n",
    "Conv2D 라는 신경망을 사용한다.<br/>\n",
    "padding은 경계를 어떻게 처리할 것인가에 대한 문제이다.<br/>\n",
    "최대한 특성을 살려내서 미세한 특성도 놓치지 않으려고 할 때 'valid' 기법을 쓴다.<br/>"
   ]
  },
  {
   "attachments": {},
   "cell_type": "markdown",
   "id": "475be9b0",
   "metadata": {},
   "source": [
    "<img src=\"./images/0415_3.png\" style=\"float:left\">"
   ]
  },
  {
   "cell_type": "markdown",
   "id": "ba713d75",
   "metadata": {},
   "source": [
    "# 실습"
   ]
  },
  {
   "cell_type": "code",
   "execution_count": 1,
   "id": "9598caa9",
   "metadata": {},
   "outputs": [
    {
     "data": {
      "text/plain": [
       "'2.8.0'"
      ]
     },
     "execution_count": 1,
     "metadata": {},
     "output_type": "execute_result"
    }
   ],
   "source": [
    "import keras\n",
    "keras.__version__"
   ]
  },
  {
   "cell_type": "code",
   "execution_count": 6,
   "id": "db570975",
   "metadata": {},
   "outputs": [],
   "source": [
    "from keras import layers\n",
    "from keras import models\n",
    "\n",
    "model = models.Sequential()\n",
    "\n",
    "model.add(layers.Conv2D(32, (3, 3), activation='relu', input_shape=(28, 28, 1)))\n",
    "model.add(layers.MaxPool2D(2, 2))\n",
    "model.add(layers.Conv2D(64, (3, 3), activation='relu'))\n",
    "model.add(layers.MaxPool2D(2, 2))\n",
    "model.add(layers.Conv2D(64, (3, 3), activation='relu'))"
   ]
  },
  {
   "cell_type": "markdown",
   "id": "2a733965",
   "metadata": {},
   "source": [
    "### MaxPooling 레이어\n",
    "사소한 변화를 무시하고 도드라진 특성만 모은 블럭을 만들 때 MaxPooling을 사용한다.<br/>\n",
    "Conv -> MaxPooling -> Conv -> MaxPooling 이런식으로 번갈아 사용된다."
   ]
  },
  {
   "cell_type": "code",
   "execution_count": 7,
   "id": "765f7eca",
   "metadata": {},
   "outputs": [
    {
     "name": "stdout",
     "output_type": "stream",
     "text": [
      "Model: \"sequential\"\n",
      "_________________________________________________________________\n",
      " Layer (type)                Output Shape              Param #   \n",
      "=================================================================\n",
      " conv2d (Conv2D)             (None, 26, 26, 32)        320       \n",
      "                                                                 \n",
      " max_pooling2d (MaxPooling2D  (None, 13, 13, 32)       0         \n",
      " )                                                               \n",
      "                                                                 \n",
      " conv2d_1 (Conv2D)           (None, 11, 11, 64)        18496     \n",
      "                                                                 \n",
      " max_pooling2d_1 (MaxPooling  (None, 5, 5, 64)         0         \n",
      " 2D)                                                             \n",
      "                                                                 \n",
      " conv2d_2 (Conv2D)           (None, 3, 3, 64)          36928     \n",
      "                                                                 \n",
      "=================================================================\n",
      "Total params: 55,744\n",
      "Trainable params: 55,744\n",
      "Non-trainable params: 0\n",
      "_________________________________________________________________\n"
     ]
    }
   ],
   "source": [
    "model.summary()"
   ]
  },
  {
   "cell_type": "code",
   "execution_count": 8,
   "id": "7e23303d",
   "metadata": {},
   "outputs": [],
   "source": [
    "# 새로 레이어를 추가한다.\n",
    "\n",
    "model.add(layers.Flatten()) # 이미지를 펴준다.\n",
    "model.add(layers.Dense(64, activation='relu'))\n",
    "model.add(layers.Dense(10, activation='softmax'))"
   ]
  },
  {
   "cell_type": "code",
   "execution_count": 9,
   "id": "12ad7671",
   "metadata": {},
   "outputs": [
    {
     "name": "stdout",
     "output_type": "stream",
     "text": [
      "Model: \"sequential\"\n",
      "_________________________________________________________________\n",
      " Layer (type)                Output Shape              Param #   \n",
      "=================================================================\n",
      " conv2d (Conv2D)             (None, 26, 26, 32)        320       \n",
      "                                                                 \n",
      " max_pooling2d (MaxPooling2D  (None, 13, 13, 32)       0         \n",
      " )                                                               \n",
      "                                                                 \n",
      " conv2d_1 (Conv2D)           (None, 11, 11, 64)        18496     \n",
      "                                                                 \n",
      " max_pooling2d_1 (MaxPooling  (None, 5, 5, 64)         0         \n",
      " 2D)                                                             \n",
      "                                                                 \n",
      " conv2d_2 (Conv2D)           (None, 3, 3, 64)          36928     \n",
      "                                                                 \n",
      " flatten (Flatten)           (None, 576)               0         \n",
      "                                                                 \n",
      " dense (Dense)               (None, 64)                36928     \n",
      "                                                                 \n",
      " dense_1 (Dense)             (None, 10)                650       \n",
      "                                                                 \n",
      "=================================================================\n",
      "Total params: 93,322\n",
      "Trainable params: 93,322\n",
      "Non-trainable params: 0\n",
      "_________________________________________________________________\n"
     ]
    }
   ],
   "source": [
    "model.summary()"
   ]
  },
  {
   "cell_type": "markdown",
   "id": "9b748ed6",
   "metadata": {},
   "source": [
    "이전보다 deep해진 신경망을 쓰고 있다.<br/>\n",
    "신경망이 깊어질수록 연산하는 데 걸리는 시간이 길어진다.<br/>\n",
    "연산량을 유추할 수 있는 것은 파라메타의 개수로 예측할 수 있다.<br/>"
   ]
  },
  {
   "cell_type": "code",
   "execution_count": 11,
   "id": "d8fdb6bf",
   "metadata": {},
   "outputs": [],
   "source": [
    "from keras.datasets import mnist\n",
    "from tensorflow.keras.utils import to_categorical\n",
    "\n",
    "# 학습용 데이터와 테스트용 데이터를 가져온다.\n",
    "(train_images, train_labels), (test_images, test_labels) = mnist.load_data()"
   ]
  },
  {
   "cell_type": "code",
   "execution_count": 13,
   "id": "863bf136",
   "metadata": {},
   "outputs": [],
   "source": [
    "train_images = train_images.reshape((60000, 28, 28, 1))\n",
    "train_images = train_images.astype('float32') / 255 # grayscale로 바꾸기 위해 나누기 255를 한다.\n",
    "\n",
    "test_images = test_images.reshape((10000, 28, 28, 1))\n",
    "test_images = test_images.astype('float32') / 255\n",
    "\n",
    "train_labels = to_categorical(train_labels)\n",
    "test_labels = to_categorical(test_labels)"
   ]
  },
  {
   "cell_type": "code",
   "execution_count": 18,
   "id": "c29d79f4",
   "metadata": {},
   "outputs": [],
   "source": [
    "# 컴파일 작업\n",
    "# 여기까지 끝나면 신경망 작업이 완료되었다.\n",
    "\n",
    "model.compile(optimizer='rmsprop',\n",
    "             loss='categorical_crossentropy',\n",
    "             metrics='accuracy')"
   ]
  },
  {
   "cell_type": "code",
   "execution_count": 19,
   "id": "981d78e2",
   "metadata": {},
   "outputs": [
    {
     "name": "stdout",
     "output_type": "stream",
     "text": [
      "Epoch 1/5\n",
      "938/938 [==============================] - 10s 11ms/step - loss: 0.1736 - accuracy: 0.9462\n",
      "Epoch 2/5\n",
      "938/938 [==============================] - 10s 11ms/step - loss: 0.0464 - accuracy: 0.9853\n",
      "Epoch 3/5\n",
      "938/938 [==============================] - 11s 11ms/step - loss: 0.0316 - accuracy: 0.9896\n",
      "Epoch 4/5\n",
      "938/938 [==============================] - 11s 12ms/step - loss: 0.0247 - accuracy: 0.9925\n",
      "Epoch 5/5\n",
      "938/938 [==============================] - 11s 12ms/step - loss: 0.0190 - accuracy: 0.9944\n"
     ]
    },
    {
     "data": {
      "text/plain": [
       "<keras.callbacks.History at 0x22452d83d60>"
      ]
     },
     "execution_count": 19,
     "metadata": {},
     "output_type": "execute_result"
    }
   ],
   "source": [
    "model.fit(train_images, train_labels, epochs=5, batch_size=64)"
   ]
  },
  {
   "cell_type": "code",
   "execution_count": 20,
   "id": "be68437b",
   "metadata": {},
   "outputs": [
    {
     "name": "stdout",
     "output_type": "stream",
     "text": [
      "313/313 [==============================] - 1s 2ms/step - loss: 0.0317 - accuracy: 0.9907\n"
     ]
    }
   ],
   "source": [
    "test_loss, test_acc = model.evaluate(test_images, test_labels)"
   ]
  },
  {
   "cell_type": "code",
   "execution_count": 21,
   "id": "b63452ab",
   "metadata": {},
   "outputs": [
    {
     "data": {
      "text/plain": [
       "0.03166385367512703"
      ]
     },
     "execution_count": 21,
     "metadata": {},
     "output_type": "execute_result"
    }
   ],
   "source": [
    "test_loss"
   ]
  },
  {
   "cell_type": "code",
   "execution_count": 22,
   "id": "994ecfac",
   "metadata": {},
   "outputs": [
    {
     "data": {
      "text/plain": [
       "0.9907000064849854"
      ]
     },
     "execution_count": 22,
     "metadata": {},
     "output_type": "execute_result"
    }
   ],
   "source": [
    "test_acc"
   ]
  }
 ],
 "metadata": {
  "kernelspec": {
   "display_name": "Python 3 (ipykernel)",
   "language": "python",
   "name": "python3"
  },
  "language_info": {
   "codemirror_mode": {
    "name": "ipython",
    "version": 3
   },
   "file_extension": ".py",
   "mimetype": "text/x-python",
   "name": "python",
   "nbconvert_exporter": "python",
   "pygments_lexer": "ipython3",
   "version": "3.9.7"
  }
 },
 "nbformat": 4,
 "nbformat_minor": 5
}
